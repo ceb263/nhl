{
  "nbformat": 4,
  "nbformat_minor": 0,
  "metadata": {
    "colab": {
      "name": "data_scraper.ipynb",
      "provenance": [],
      "collapsed_sections": [],
      "authorship_tag": "ABX9TyO2KOxyMr/fOI4PZervQ37k",
      "include_colab_link": true
    },
    "kernelspec": {
      "name": "python3",
      "display_name": "Python 3"
    },
    "language_info": {
      "name": "python"
    }
  },
  "cells": [
    {
      "cell_type": "markdown",
      "metadata": {
        "id": "view-in-github",
        "colab_type": "text"
      },
      "source": [
        "<a href=\"https://colab.research.google.com/github/ceb263/nhl/blob/main/data_scraper.ipynb\" target=\"_parent\"><img src=\"https://colab.research.google.com/assets/colab-badge.svg\" alt=\"Open In Colab\"/></a>"
      ]
    },
    {
      "cell_type": "code",
      "metadata": {
        "colab": {
          "base_uri": "https://localhost:8080/"
        },
        "id": "GGhLseDY6SSQ",
        "outputId": "2d7bc751-ccca-4672-ab10-81a5340f4fd0"
      },
      "source": [
        "!pip install hockey_scraper"
      ],
      "execution_count": 1,
      "outputs": [
        {
          "output_type": "stream",
          "text": [
            "Collecting hockey_scraper\n",
            "\u001b[?25l  Downloading https://files.pythonhosted.org/packages/80/2a/f31302369736bbe0a39b0d0d8e9bad607c3187d83464bffc707dbb858c4a/hockey_scraper-1.37.6-py3-none-any.whl (85kB)\n",
            "\r\u001b[K     |███▉                            | 10kB 15.4MB/s eta 0:00:01\r\u001b[K     |███████▊                        | 20kB 20.8MB/s eta 0:00:01\r\u001b[K     |███████████▌                    | 30kB 10.3MB/s eta 0:00:01\r\u001b[K     |███████████████▍                | 40kB 9.8MB/s eta 0:00:01\r\u001b[K     |███████████████████▏            | 51kB 7.0MB/s eta 0:00:01\r\u001b[K     |███████████████████████         | 61kB 7.4MB/s eta 0:00:01\r\u001b[K     |██████████████████████████▉     | 71kB 7.1MB/s eta 0:00:01\r\u001b[K     |██████████████████████████████▊ | 81kB 7.9MB/s eta 0:00:01\r\u001b[K     |████████████████████████████████| 92kB 4.7MB/s \n",
            "\u001b[?25hRequirement already satisfied: BeautifulSoup4 in /usr/local/lib/python3.7/dist-packages (from hockey_scraper) (4.6.3)\n",
            "Requirement already satisfied: requests in /usr/local/lib/python3.7/dist-packages (from hockey_scraper) (2.23.0)\n",
            "Requirement already satisfied: html5lib in /usr/local/lib/python3.7/dist-packages (from hockey_scraper) (1.0.1)\n",
            "Requirement already satisfied: pytest in /usr/local/lib/python3.7/dist-packages (from hockey_scraper) (3.6.4)\n",
            "Requirement already satisfied: pandas in /usr/local/lib/python3.7/dist-packages (from hockey_scraper) (1.1.5)\n",
            "Requirement already satisfied: lxml in /usr/local/lib/python3.7/dist-packages (from hockey_scraper) (4.2.6)\n",
            "Requirement already satisfied: chardet<4,>=3.0.2 in /usr/local/lib/python3.7/dist-packages (from requests->hockey_scraper) (3.0.4)\n",
            "Requirement already satisfied: certifi>=2017.4.17 in /usr/local/lib/python3.7/dist-packages (from requests->hockey_scraper) (2020.12.5)\n",
            "Requirement already satisfied: urllib3!=1.25.0,!=1.25.1,<1.26,>=1.21.1 in /usr/local/lib/python3.7/dist-packages (from requests->hockey_scraper) (1.24.3)\n",
            "Requirement already satisfied: idna<3,>=2.5 in /usr/local/lib/python3.7/dist-packages (from requests->hockey_scraper) (2.10)\n",
            "Requirement already satisfied: six>=1.9 in /usr/local/lib/python3.7/dist-packages (from html5lib->hockey_scraper) (1.15.0)\n",
            "Requirement already satisfied: webencodings in /usr/local/lib/python3.7/dist-packages (from html5lib->hockey_scraper) (0.5.1)\n",
            "Requirement already satisfied: attrs>=17.4.0 in /usr/local/lib/python3.7/dist-packages (from pytest->hockey_scraper) (20.3.0)\n",
            "Requirement already satisfied: more-itertools>=4.0.0 in /usr/local/lib/python3.7/dist-packages (from pytest->hockey_scraper) (8.7.0)\n",
            "Requirement already satisfied: setuptools in /usr/local/lib/python3.7/dist-packages (from pytest->hockey_scraper) (54.2.0)\n",
            "Requirement already satisfied: py>=1.5.0 in /usr/local/lib/python3.7/dist-packages (from pytest->hockey_scraper) (1.10.0)\n",
            "Requirement already satisfied: atomicwrites>=1.0 in /usr/local/lib/python3.7/dist-packages (from pytest->hockey_scraper) (1.4.0)\n",
            "Requirement already satisfied: pluggy<0.8,>=0.5 in /usr/local/lib/python3.7/dist-packages (from pytest->hockey_scraper) (0.7.1)\n",
            "Requirement already satisfied: pytz>=2017.2 in /usr/local/lib/python3.7/dist-packages (from pandas->hockey_scraper) (2018.9)\n",
            "Requirement already satisfied: numpy>=1.15.4 in /usr/local/lib/python3.7/dist-packages (from pandas->hockey_scraper) (1.19.5)\n",
            "Requirement already satisfied: python-dateutil>=2.7.3 in /usr/local/lib/python3.7/dist-packages (from pandas->hockey_scraper) (2.8.1)\n",
            "Installing collected packages: hockey-scraper\n",
            "Successfully installed hockey-scraper-1.37.6\n"
          ],
          "name": "stdout"
        }
      ]
    },
    {
      "cell_type": "code",
      "metadata": {
        "id": "PWIpO0aE6cT3"
      },
      "source": [
        "import hockey_scraper\n",
        "import pandas as pd"
      ],
      "execution_count": 2,
      "outputs": []
    },
    {
      "cell_type": "code",
      "metadata": {
        "colab": {
          "base_uri": "https://localhost:8080/"
        },
        "collapsed": true,
        "id": "cftaOLtp6o3j",
        "outputId": "f6584aee-5116-415e-ebcb-3d826b5441be"
      },
      "source": [
        "# pull data year by year and save to file\n",
        "for y in range(2015,2016):\n",
        "    scrape_dict = hockey_scraper.scrape_seasons([y], False, data_format='Pandas')\n",
        "    df_pbp = scrape_dict['pbp']\n",
        "    \n",
        "    df_pbp.to_pickle('pbp_'+str(y)+'.pkl')"
      ],
      "execution_count": null,
      "outputs": [
        {
          "output_type": "stream",
          "text": [
            "Scraping Game  2015020001 2015-10-07\n",
            "Scraping Game  2015020002 2015-10-07\n"
          ],
          "name": "stdout"
        }
      ]
    }
  ]
}