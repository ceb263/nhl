{
  "nbformat": 4,
  "nbformat_minor": 0,
  "metadata": {
    "colab": {
      "name": "game_predictions.ipynb",
      "provenance": [],
      "collapsed_sections": [
        "ylEdd1xKZ2Os",
        "ENGvtsx3F_Nt",
        "DF3V-rDc-sQ8",
        "s228KVm89CA6"
      ],
      "authorship_tag": "ABX9TyN7CYY3SqEFS7uqg3uFeL0Q",
      "include_colab_link": true
    },
    "kernelspec": {
      "name": "python3",
      "display_name": "Python 3"
    },
    "language_info": {
      "name": "python"
    }
  },
  "cells": [
    {
      "cell_type": "markdown",
      "metadata": {
        "id": "view-in-github",
        "colab_type": "text"
      },
      "source": [
        "<a href=\"https://colab.research.google.com/github/ceb263/nhl/blob/main/game_predictions.ipynb\" target=\"_parent\"><img src=\"https://colab.research.google.com/assets/colab-badge.svg\" alt=\"Open In Colab\"/></a>"
      ]
    },
    {
      "cell_type": "code",
      "metadata": {
        "id": "F7ki9X_CMGUZ"
      },
      "source": [
        "# Imports and input data\n",
        "import os\n",
        "import numpy as np\n",
        "import pandas as pd\n",
        "import matplotlib\n",
        "import matplotlib.pyplot as plt\n",
        "import seaborn as sns\n",
        "import pickle\n",
        "import itertools\n",
        "\n",
        "from sklearn.preprocessing import StandardScaler, LabelBinarizer\n",
        "from sklearn.model_selection import train_test_split, GridSearchCV\n",
        "from sklearn.metrics import log_loss, roc_auc_score\n",
        "\n",
        "from sklearn.ensemble import GradientBoostingClassifier, RandomForestClassifier\n",
        "from sklearn.linear_model import LogisticRegression, LinearRegression\n",
        "\n",
        "from keras.layers.core import Dense, Activation, Dropout\n",
        "from keras.models import Sequential, load_model, Model\n",
        "from keras.layers import Conv2D, MaxPooling2D, Input, Flatten, AveragePooling2D\n",
        "from keras.layers.merge import concatenate\n",
        "\n",
        "%matplotlib inline\n",
        "\n",
        "pd.set_option('display.max_rows', 150)"
      ],
      "execution_count": null,
      "outputs": []
    },
    {
      "cell_type": "code",
      "metadata": {
        "id": "zTufvH9FZu8h"
      },
      "source": [
        "# if this already exists, skip the data aggregation section\n",
        "teamGame = pd.read_csv('teamGame.gz')\n",
        "playerGame = pd.read_csv('playerGame.gz')"
      ],
      "execution_count": null,
      "outputs": []
    },
    {
      "cell_type": "code",
      "source": [
        "lines = pd.read_csv('lines.csv')"
      ],
      "metadata": {
        "id": "WUdBc354-Vv6"
      },
      "execution_count": null,
      "outputs": []
    },
    {
      "cell_type": "code",
      "source": [
        "lines['Team'] = lines['Team'].replace({\n",
        "    'Pittsburgh':'PIT','TampaBay':'TBL','SeattleKraken':'SEA','Vegas':'VGK','NYRangers':'NYR','Washington':'WSH','Montreal':'MTL','Toronto':'TOR',\n",
        "    'Vancouver':'VAN','Edmonton':'EDM','Chicago':'CHI','Colorado':'COL','Winnipeg':'WPG','Anaheim':'ANA','Ottawa':'OTT','Buffalo':'BUF',\n",
        "    'Florida':'FLA','NYIslanders':'NYI','Carolina':'CAR','Dallas':'DAL','Arizona':'ARI','Columbus':'CBJ','Detroit':'DET','Nashville':'NSH',\n",
        "    'LosAngeles':'LAK','NewJersey':'NJD','Philadelphia':'PHI','Minnesota':'MIN','Boston':'BOS','St.Louis':'STL','Calgary':'CGY','SanJose':'SJS',\n",
        "    'Tampa Bay':'TBL','NY Islanders':'NYI','St. Louis':'STL','NY Rangers':'NYR','San Jose':'SJS','New Jersey':'NJD','Seattle Kraken':'SEA',\n",
        "    'Los Angeles':'LAK','Arizonas':'ARI','Tampa':'TBL','Phoenix':'ARI'\n",
        "})\n",
        "lines.to_csv('lines.csv', index=False)"
      ],
      "metadata": {
        "id": "4kJ86X5czgOL"
      },
      "execution_count": null,
      "outputs": []
    },
    {
      "cell_type": "markdown",
      "metadata": {
        "id": "ylEdd1xKZ2Os"
      },
      "source": [
        "# Data Aggregation"
      ]
    },
    {
      "cell_type": "code",
      "metadata": {
        "id": "ttp3VzjEZ6Th"
      },
      "source": [
        "# read data\n",
        "pbp = pd.read_csv('pbp_with_xG.gz')"
      ],
      "execution_count": null,
      "outputs": []
    },
    {
      "cell_type": "code",
      "metadata": {
        "id": "E-7qNyA7BXZE"
      },
      "source": [
        "# fix ARZ/PHX\n",
        "pbp['Ev_Team'] = pbp['Ev_Team'].replace({'PHX':'ARI', 'S.J':'SJS', 'L.A':'LAK', 'T.B':'TBL'})\n",
        "pbp['Home_Team'] = pbp['Home_Team'].replace({'PHX':'ARI', 'S.J':'SJS', 'L.A':'LAK', 'T.B':'TBL'})\n",
        "pbp['Away_Team'] = pbp['Away_Team'].replace({'PHX':'ARI', 'S.J':'SJS', 'L.A':'LAK', 'T.B':'TBL'})"
      ],
      "execution_count": null,
      "outputs": []
    },
    {
      "cell_type": "code",
      "metadata": {
        "id": "Nowb9wxRVFMI"
      },
      "source": [
        "# calculate some stats in the disaggregated data\n",
        "pbp['Goals'] = ((pbp['Event'] == 'GOAL') & (pbp['Seconds_Elapsed']!=0)).astype(np.int16)\n",
        "pbp['Shootout_Goals'] = ((pbp['Event'] == 'GOAL') & (pbp['Seconds_Elapsed']==0)).astype(np.int16)\n",
        "pbp['Shots'] = ((pbp['Event'].isin(['SHOT','GOAL'])) & (pbp['Seconds_Elapsed']!=0)).astype(np.int16)\n",
        "pbp['ShotAttempts'] = ((pbp['Event'].isin(['SHOT','MISS','GOAL','BLOCK'])) & (pbp['Seconds_Elapsed']!=0)).astype(np.int16)\n",
        "pbp['Goals_5v5'] = ((pbp['Event'] == 'GOAL') & (pbp['Strength']=='5x5')).astype(np.int16)\n",
        "pbp['Shots_5v5'] = ((pbp['Event'].isin(['SHOT','GOAL'])) & (pbp['Strength']=='5x5')).astype(np.int16)\n",
        "pbp['ShotAttempts_5v5'] = ((pbp['Event'].isin(['SHOT','MISS','GOAL','BLOCK'])) & (pbp['Strength']=='5x5')).astype(np.int16)\n",
        "pbp['xG_5v5'] = np.nan\n",
        "pbp.loc[pbp['Strength']=='5x5', 'xG_5v5'] = pbp.loc[pbp['Strength']=='5x5']['xG']\n",
        "pbp['Penalties'] = (pbp['Event'] == 'PENL').astype(np.int16)\n",
        "pbp['Home'] = (pbp['Ev_Team']==pbp['Home_Team']).astype(np.int16)\n",
        "\n",
        "# create aggregate\n",
        "teamGame = pbp[[\n",
        "        'Game_Id','Date','Ev_Team','Season','Goals','Shootout_Goals','Shots','ShotAttempts','xG','Goals_5v5','Shots_5v5','ShotAttempts_5v5','xG_5v5','Penalties','Home'\n",
        "    ]].groupby([\n",
        "        'Game_Id','Date','Ev_Team','Season'\n",
        "    ]).agg({\n",
        "        'Goals' : 'sum',\n",
        "        'Shootout_Goals' : 'sum',\n",
        "        'Shots' : 'sum',\n",
        "        'ShotAttempts' : 'sum',\n",
        "        'xG' : 'sum',\n",
        "        'Goals_5v5' : 'sum',\n",
        "        'Shots_5v5' : 'sum',\n",
        "        'ShotAttempts_5v5' : 'sum',\n",
        "        'xG_5v5' : 'sum',\n",
        "        'Penalties' : 'sum',\n",
        "        'Home' : 'max'\n",
        "    }).reset_index()\n",
        "teamGame = teamGame.rename(columns={'Ev_Team':'Team'})\n",
        "teamGame = teamGame.fillna(0)"
      ],
      "execution_count": null,
      "outputs": []
    },
    {
      "cell_type": "code",
      "metadata": {
        "id": "xrtFgFviYp55"
      },
      "source": [
        "del pbp"
      ],
      "execution_count": null,
      "outputs": []
    },
    {
      "cell_type": "code",
      "metadata": {
        "id": "06dt7gFVJtBg"
      },
      "source": [
        "# add win column\n",
        "df_temp = teamGame.groupby(['Game_Id','Date']).agg({'Goals':'max', 'Shootout_Goals':'max'}).reset_index()\n",
        "df_temp = df_temp.rename(columns={'Goals':'winGoals', 'Shootout_Goals':'winShootoutGoals'})\n",
        "teamGame = teamGame.merge(df_temp, on=['Game_Id','Date'])\n",
        "del df_temp\n",
        "teamGame['Win'] = ((teamGame['Goals']==teamGame['winGoals']) & (teamGame['Shootout_Goals']==teamGame['winShootoutGoals'])).astype(np.int16)\n",
        "teamGame = teamGame.drop(['Shootout_Goals','winGoals','winShootoutGoals'],1)"
      ],
      "execution_count": null,
      "outputs": []
    },
    {
      "cell_type": "code",
      "metadata": {
        "id": "PU-eQpHohxqj"
      },
      "source": [
        "teamGame = teamGame.sort_values(by=['Date','Game_Id'])"
      ],
      "execution_count": null,
      "outputs": []
    },
    {
      "cell_type": "code",
      "metadata": {
        "id": "gB62mevQjDH0"
      },
      "source": [
        "# add field for whether this is a playoff game or not\n",
        "teamGame['DateInt'] = teamGame['Date'].str.replace('-','').astype(np.int64)\n",
        "teamGame['teamGameRank'] = teamGame.groupby(['Team','Season'])['DateInt'].rank(\"dense\")\n",
        "teamGame['Playoffs'] = (teamGame['teamGameRank']>82).astype(np.int8)\n",
        "teamGame.loc[(teamGame['Season']==2012)&(teamGame['teamGameRank']>48),'Playoffs'] = 1 #fix for the lockout-shortened season\n",
        "teamGame.loc[(teamGame['Season']==2019)&(teamGame['Date']>'2020-03-12'),'Playoffs'] = 1 #fix for the first covid-shortened season\n",
        "teamGame.loc[(teamGame['Season']==2020)&(teamGame['teamGameRank']>56),'Playoffs'] = 1 #fix for the second covid-shortened season"
      ],
      "execution_count": null,
      "outputs": []
    },
    {
      "cell_type": "code",
      "metadata": {
        "id": "Qc7Yo0CelBUF"
      },
      "source": [
        "teamGame = teamGame.loc[teamGame['Team'].str.len()==3]"
      ],
      "execution_count": null,
      "outputs": []
    },
    {
      "cell_type": "code",
      "metadata": {
        "colab": {
          "base_uri": "https://localhost:8080/",
          "height": 204
        },
        "id": "lud8Kac9ce_t",
        "outputId": "089c7745-aec8-4734-c15c-a8a8138a1f42"
      },
      "source": [
        "teamGame.head()"
      ],
      "execution_count": null,
      "outputs": [
        {
          "output_type": "execute_result",
          "data": {
            "text/html": [
              "<div>\n",
              "<style scoped>\n",
              "    .dataframe tbody tr th:only-of-type {\n",
              "        vertical-align: middle;\n",
              "    }\n",
              "\n",
              "    .dataframe tbody tr th {\n",
              "        vertical-align: top;\n",
              "    }\n",
              "\n",
              "    .dataframe thead th {\n",
              "        text-align: right;\n",
              "    }\n",
              "</style>\n",
              "<table border=\"1\" class=\"dataframe\">\n",
              "  <thead>\n",
              "    <tr style=\"text-align: right;\">\n",
              "      <th></th>\n",
              "      <th>Game_Id</th>\n",
              "      <th>Date</th>\n",
              "      <th>Team</th>\n",
              "      <th>Season</th>\n",
              "      <th>Goals</th>\n",
              "      <th>Shots</th>\n",
              "      <th>ShotAttempts</th>\n",
              "      <th>xG</th>\n",
              "      <th>Goals_5v5</th>\n",
              "      <th>Shots_5v5</th>\n",
              "      <th>ShotAttempts_5v5</th>\n",
              "      <th>xG_5v5</th>\n",
              "      <th>Penalties</th>\n",
              "      <th>Home</th>\n",
              "      <th>Win</th>\n",
              "      <th>DateInt</th>\n",
              "      <th>teamGameRank</th>\n",
              "      <th>Playoffs</th>\n",
              "    </tr>\n",
              "  </thead>\n",
              "  <tbody>\n",
              "    <tr>\n",
              "      <th>0</th>\n",
              "      <td>20001</td>\n",
              "      <td>2013-01-19</td>\n",
              "      <td>PHI</td>\n",
              "      <td>2012</td>\n",
              "      <td>1</td>\n",
              "      <td>27</td>\n",
              "      <td>54</td>\n",
              "      <td>2.759272</td>\n",
              "      <td>1</td>\n",
              "      <td>16</td>\n",
              "      <td>36</td>\n",
              "      <td>1.450979</td>\n",
              "      <td>3</td>\n",
              "      <td>1</td>\n",
              "      <td>0</td>\n",
              "      <td>20130119</td>\n",
              "      <td>1.0</td>\n",
              "      <td>0</td>\n",
              "    </tr>\n",
              "    <tr>\n",
              "      <th>1</th>\n",
              "      <td>20001</td>\n",
              "      <td>2013-01-19</td>\n",
              "      <td>PIT</td>\n",
              "      <td>2012</td>\n",
              "      <td>3</td>\n",
              "      <td>27</td>\n",
              "      <td>53</td>\n",
              "      <td>2.997073</td>\n",
              "      <td>1</td>\n",
              "      <td>23</td>\n",
              "      <td>44</td>\n",
              "      <td>1.536232</td>\n",
              "      <td>5</td>\n",
              "      <td>0</td>\n",
              "      <td>1</td>\n",
              "      <td>20130119</td>\n",
              "      <td>1.0</td>\n",
              "      <td>0</td>\n",
              "    </tr>\n",
              "    <tr>\n",
              "      <th>2</th>\n",
              "      <td>20002</td>\n",
              "      <td>2013-01-19</td>\n",
              "      <td>OTT</td>\n",
              "      <td>2012</td>\n",
              "      <td>4</td>\n",
              "      <td>37</td>\n",
              "      <td>61</td>\n",
              "      <td>2.330120</td>\n",
              "      <td>3</td>\n",
              "      <td>31</td>\n",
              "      <td>51</td>\n",
              "      <td>1.973215</td>\n",
              "      <td>7</td>\n",
              "      <td>0</td>\n",
              "      <td>1</td>\n",
              "      <td>20130119</td>\n",
              "      <td>1.0</td>\n",
              "      <td>0</td>\n",
              "    </tr>\n",
              "    <tr>\n",
              "      <th>3</th>\n",
              "      <td>20002</td>\n",
              "      <td>2013-01-19</td>\n",
              "      <td>WPG</td>\n",
              "      <td>2012</td>\n",
              "      <td>1</td>\n",
              "      <td>28</td>\n",
              "      <td>58</td>\n",
              "      <td>2.584469</td>\n",
              "      <td>0</td>\n",
              "      <td>20</td>\n",
              "      <td>46</td>\n",
              "      <td>1.749754</td>\n",
              "      <td>3</td>\n",
              "      <td>1</td>\n",
              "      <td>0</td>\n",
              "      <td>20130119</td>\n",
              "      <td>1.0</td>\n",
              "      <td>0</td>\n",
              "    </tr>\n",
              "    <tr>\n",
              "      <th>4</th>\n",
              "      <td>20003</td>\n",
              "      <td>2013-01-19</td>\n",
              "      <td>CHI</td>\n",
              "      <td>2012</td>\n",
              "      <td>5</td>\n",
              "      <td>22</td>\n",
              "      <td>42</td>\n",
              "      <td>2.299323</td>\n",
              "      <td>4</td>\n",
              "      <td>15</td>\n",
              "      <td>29</td>\n",
              "      <td>1.403502</td>\n",
              "      <td>5</td>\n",
              "      <td>0</td>\n",
              "      <td>1</td>\n",
              "      <td>20130119</td>\n",
              "      <td>1.0</td>\n",
              "      <td>0</td>\n",
              "    </tr>\n",
              "  </tbody>\n",
              "</table>\n",
              "</div>"
            ],
            "text/plain": [
              "   Game_Id        Date Team  Season  ...  Win   DateInt  teamGameRank  Playoffs\n",
              "0    20001  2013-01-19  PHI    2012  ...    0  20130119           1.0         0\n",
              "1    20001  2013-01-19  PIT    2012  ...    1  20130119           1.0         0\n",
              "2    20002  2013-01-19  OTT    2012  ...    1  20130119           1.0         0\n",
              "3    20002  2013-01-19  WPG    2012  ...    0  20130119           1.0         0\n",
              "4    20003  2013-01-19  CHI    2012  ...    1  20130119           1.0         0\n",
              "\n",
              "[5 rows x 18 columns]"
            ]
          },
          "metadata": {},
          "execution_count": 3
        }
      ]
    },
    {
      "cell_type": "code",
      "metadata": {
        "id": "Q46ozbgg10nS"
      },
      "source": [
        "teamGame = teamGame.sort_values(by=['DateInt','Game_Id'])\n",
        "teamGame['teamGameRank'] = teamGame.groupby(['Team','Season'])['DateInt'].rank(\"dense\")\n",
        "teamGame['teamGameRankOverall'] = teamGame.groupby('Team')['DateInt'].rank(\"dense\")\n",
        "teamGame['Game_Id'] = (teamGame['Season'].astype(str) + teamGame['Game_Id'].astype(str)).astype(np.int64)"
      ],
      "execution_count": null,
      "outputs": []
    },
    {
      "cell_type": "code",
      "metadata": {
        "id": "LZEYm1LJUrYu"
      },
      "source": [
        "# add elo ratings\n",
        "# https://fivethirtyeight.com/methodology/how-our-nhl-predictions-work/\n",
        "teamGame = teamGame.sort_values(by=['DateInt','Game_Id'])\n",
        "teamGame['Elo'] = np.nan\n",
        "teamGame.loc[teamGame['teamGameRankOverall']==1,'Elo'] = 1500\n",
        "for gid in teamGame['Game_Id'].unique():\n",
        "    game_df = teamGame.loc[teamGame['Game_Id']==gid].copy()\n",
        "    elo_1 = game_df['Elo'].iloc[0]\n",
        "    elo_2 = game_df['Elo'].iloc[1]\n",
        "    if game_df['teamGameRank'].iloc[0]==1:\n",
        "        elo_1 = (elo_1*0.7) + (1505*0.3)\n",
        "        teamGame.loc[(teamGame['Team']==game_df['Team'].iloc[0]) & (teamGame['teamGameRankOverall']==game_df['teamGameRankOverall'].iloc[0]), 'Elo'] = elo_1\n",
        "    if game_df['teamGameRank'].iloc[1]==1:\n",
        "        elo_2 = (elo_2*0.7) + (1505*0.3)\n",
        "        teamGame.loc[(teamGame['Team']==game_df['Team'].iloc[1]) & (teamGame['teamGameRankOverall']==game_df['teamGameRankOverall'].iloc[1]), 'Elo'] = elo_2\n",
        "    p_1 = 1/(10**((elo_2-elo_1)/400)+1)\n",
        "    p_2 = 1/(10**((elo_1-elo_2)/400)+1)\n",
        "    win_1 = game_df['Win'].iloc[0]\n",
        "    win_2 = game_df['Win'].iloc[1]\n",
        "    victoryMarginMultiplier_1 = 0.6686 * np.log(np.max([np.abs(game_df['Goals'].iloc[0]-game_df['Goals'].iloc[1]),1])) + 0.8048\n",
        "    victoryMarginMultiplier_2 = 0.6686 * np.log(np.max([np.abs(game_df['Goals'].iloc[1]-game_df['Goals'].iloc[0]),1])) + 0.8048\n",
        "    if elo_1>elo_2 and win_1==1:\n",
        "        autoAdjust_1 = 2.05/((elo_1-elo_2) * 0.001 + 2.05)\n",
        "        autoAdjust_2 = 1\n",
        "    elif elo_2>elo_1 and win_2==1:\n",
        "        autoAdjust_2 = 2.05/((elo_1-elo_2) * 0.001 + 2.05)\n",
        "        autoAdjust_1 = 1\n",
        "    else:\n",
        "        autoAdjust_1 = 1\n",
        "        autoAdjust_2 = 1\n",
        "    favMultiplier_1 = win_1 - p_1\n",
        "    favMultiplier_2 = win_2 - p_2\n",
        "    new_elo_1 = elo_1 + (6*victoryMarginMultiplier_1*autoAdjust_1*favMultiplier_1)\n",
        "    new_elo_2 = elo_2 + (6*victoryMarginMultiplier_2*autoAdjust_2*favMultiplier_2)\n",
        "    teamGame.loc[(teamGame['Team']==game_df['Team'].iloc[0]) & (teamGame['teamGameRankOverall']==game_df['teamGameRankOverall'].iloc[0]+1), 'Elo'] = new_elo_1\n",
        "    teamGame.loc[(teamGame['Team']==game_df['Team'].iloc[1]) & (teamGame['teamGameRankOverall']==game_df['teamGameRankOverall'].iloc[1]+1), 'Elo'] = new_elo_2"
      ],
      "execution_count": null,
      "outputs": []
    },
    {
      "cell_type": "code",
      "metadata": {
        "colab": {
          "base_uri": "https://localhost:8080/",
          "height": 309
        },
        "id": "9ze1RdnY5R1E",
        "outputId": "4f0b2200-63df-4f8d-b004-514a9a0c7653"
      },
      "source": [
        "teamGame.tail()"
      ],
      "execution_count": null,
      "outputs": [
        {
          "output_type": "execute_result",
          "data": {
            "text/html": [
              "<div>\n",
              "<style scoped>\n",
              "    .dataframe tbody tr th:only-of-type {\n",
              "        vertical-align: middle;\n",
              "    }\n",
              "\n",
              "    .dataframe tbody tr th {\n",
              "        vertical-align: top;\n",
              "    }\n",
              "\n",
              "    .dataframe thead th {\n",
              "        text-align: right;\n",
              "    }\n",
              "</style>\n",
              "<table border=\"1\" class=\"dataframe\">\n",
              "  <thead>\n",
              "    <tr style=\"text-align: right;\">\n",
              "      <th></th>\n",
              "      <th>Game_Id</th>\n",
              "      <th>Date</th>\n",
              "      <th>Team</th>\n",
              "      <th>Season</th>\n",
              "      <th>Goals</th>\n",
              "      <th>Shots</th>\n",
              "      <th>ShotAttempts</th>\n",
              "      <th>xG</th>\n",
              "      <th>Goals_5v5</th>\n",
              "      <th>Shots_5v5</th>\n",
              "      <th>ShotAttempts_5v5</th>\n",
              "      <th>xG_5v5</th>\n",
              "      <th>Penalties</th>\n",
              "      <th>Home</th>\n",
              "      <th>Win</th>\n",
              "      <th>DateInt</th>\n",
              "      <th>Playoffs</th>\n",
              "      <th>Elo</th>\n",
              "      <th>teamGameRankOverall</th>\n",
              "      <th>teamGameRank</th>\n",
              "    </tr>\n",
              "  </thead>\n",
              "  <tbody>\n",
              "    <tr>\n",
              "      <th>21913</th>\n",
              "      <td>202030413</td>\n",
              "      <td>2021-07-02</td>\n",
              "      <td>T.B</td>\n",
              "      <td>2020</td>\n",
              "      <td>6</td>\n",
              "      <td>30</td>\n",
              "      <td>48</td>\n",
              "      <td>3.494258</td>\n",
              "      <td>5</td>\n",
              "      <td>29</td>\n",
              "      <td>47</td>\n",
              "      <td>3.443062</td>\n",
              "      <td>1</td>\n",
              "      <td>0</td>\n",
              "      <td>1</td>\n",
              "      <td>20210702</td>\n",
              "      <td>1</td>\n",
              "      <td>1619.307462</td>\n",
              "      <td>779.0</td>\n",
              "      <td>76.0</td>\n",
              "    </tr>\n",
              "    <tr>\n",
              "      <th>21914</th>\n",
              "      <td>202030414</td>\n",
              "      <td>2021-07-05</td>\n",
              "      <td>MTL</td>\n",
              "      <td>2020</td>\n",
              "      <td>3</td>\n",
              "      <td>21</td>\n",
              "      <td>42</td>\n",
              "      <td>1.798614</td>\n",
              "      <td>3</td>\n",
              "      <td>14</td>\n",
              "      <td>33</td>\n",
              "      <td>1.235122</td>\n",
              "      <td>9</td>\n",
              "      <td>1</td>\n",
              "      <td>1</td>\n",
              "      <td>20210705</td>\n",
              "      <td>1</td>\n",
              "      <td>1500.216799</td>\n",
              "      <td>737.0</td>\n",
              "      <td>76.0</td>\n",
              "    </tr>\n",
              "    <tr>\n",
              "      <th>21915</th>\n",
              "      <td>202030414</td>\n",
              "      <td>2021-07-05</td>\n",
              "      <td>T.B</td>\n",
              "      <td>2020</td>\n",
              "      <td>2</td>\n",
              "      <td>34</td>\n",
              "      <td>70</td>\n",
              "      <td>3.891478</td>\n",
              "      <td>2</td>\n",
              "      <td>23</td>\n",
              "      <td>50</td>\n",
              "      <td>2.710742</td>\n",
              "      <td>6</td>\n",
              "      <td>0</td>\n",
              "      <td>0</td>\n",
              "      <td>20210705</td>\n",
              "      <td>1</td>\n",
              "      <td>1622.626713</td>\n",
              "      <td>780.0</td>\n",
              "      <td>77.0</td>\n",
              "    </tr>\n",
              "    <tr>\n",
              "      <th>21916</th>\n",
              "      <td>202030415</td>\n",
              "      <td>2021-07-07</td>\n",
              "      <td>MTL</td>\n",
              "      <td>2020</td>\n",
              "      <td>0</td>\n",
              "      <td>22</td>\n",
              "      <td>42</td>\n",
              "      <td>1.813529</td>\n",
              "      <td>0</td>\n",
              "      <td>21</td>\n",
              "      <td>39</td>\n",
              "      <td>1.519602</td>\n",
              "      <td>4</td>\n",
              "      <td>0</td>\n",
              "      <td>0</td>\n",
              "      <td>20210707</td>\n",
              "      <td>1</td>\n",
              "      <td>1503.448316</td>\n",
              "      <td>738.0</td>\n",
              "      <td>77.0</td>\n",
              "    </tr>\n",
              "    <tr>\n",
              "      <th>21917</th>\n",
              "      <td>202030415</td>\n",
              "      <td>2021-07-07</td>\n",
              "      <td>T.B</td>\n",
              "      <td>2020</td>\n",
              "      <td>1</td>\n",
              "      <td>30</td>\n",
              "      <td>47</td>\n",
              "      <td>2.513422</td>\n",
              "      <td>1</td>\n",
              "      <td>22</td>\n",
              "      <td>38</td>\n",
              "      <td>1.853019</td>\n",
              "      <td>4</td>\n",
              "      <td>1</td>\n",
              "      <td>1</td>\n",
              "      <td>20210707</td>\n",
              "      <td>1</td>\n",
              "      <td>1619.395196</td>\n",
              "      <td>781.0</td>\n",
              "      <td>78.0</td>\n",
              "    </tr>\n",
              "  </tbody>\n",
              "</table>\n",
              "</div>"
            ],
            "text/plain": [
              "         Game_Id        Date  ... teamGameRankOverall  teamGameRank\n",
              "21913  202030413  2021-07-02  ...               779.0          76.0\n",
              "21914  202030414  2021-07-05  ...               737.0          76.0\n",
              "21915  202030414  2021-07-05  ...               780.0          77.0\n",
              "21916  202030415  2021-07-07  ...               738.0          77.0\n",
              "21917  202030415  2021-07-07  ...               781.0          78.0\n",
              "\n",
              "[5 rows x 20 columns]"
            ]
          },
          "metadata": {},
          "execution_count": 84
        }
      ]
    },
    {
      "cell_type": "code",
      "metadata": {
        "id": "TJ31D-XyZkeb"
      },
      "source": [
        "teamGame.to_csv('teamGame.gz', compression='gzip', index=False)"
      ],
      "execution_count": null,
      "outputs": []
    },
    {
      "cell_type": "markdown",
      "metadata": {
        "id": "r_sxBJvtZ9HD"
      },
      "source": [
        "# Feature Calculation"
      ]
    },
    {
      "cell_type": "code",
      "metadata": {
        "id": "BnGlLANhL-AJ"
      },
      "source": [
        "#playerGame['Game_Id'] = (playerGame['Season'].astype(str) + playerGame['Game_Id'].astype(str)).astype(np.int64)"
      ],
      "execution_count": null,
      "outputs": []
    },
    {
      "cell_type": "code",
      "source": [
        "playerGame = playerGame.sort_values(by=['Date','Team'])\n",
        "playerGame['GameScore_last8'] = playerGame.groupby(['Player','PlayerID','Position'])[['GameScore']].transform(lambda x: x.rolling(window=8).mean()).fillna(0.)\n",
        "playerGame['GameScore_last16'] = playerGame.groupby(['Player','PlayerID','Position'])[['GameScore']].transform(lambda x: x.rolling(window=16).mean()).fillna(0.)\n",
        "playerGame['GameScore_last32'] = playerGame.groupby(['Player','PlayerID','Position'])[['GameScore']].transform(lambda x: x.rolling(window=32).mean()).fillna(0.)\n",
        "playerGame['GameScore_last64'] = playerGame.groupby(['Player','PlayerID','Position'])[['GameScore']].transform(lambda x: x.rolling(window=64).mean()).fillna(0.)"
      ],
      "metadata": {
        "id": "uJHhFZGDi1AX"
      },
      "execution_count": null,
      "outputs": []
    },
    {
      "cell_type": "code",
      "metadata": {
        "id": "uIlAAkc1Vo_q"
      },
      "source": [
        "playerTeamGame = playerGame.groupby(['Date','Team']).agg({\n",
        "    'GameScore' : ['mean','median','max','std'],\n",
        "    'GameScore_last8' : ['mean','median','max','std'],\n",
        "    'GameScore_last16' : ['mean','median','max','std'],\n",
        "    'GameScore_last32' : ['mean','median','max','std'],\n",
        "    'GameScore_last64' : ['mean','median','max','std']\n",
        "}).reset_index()\n",
        "playerTeamGame.columns = ['Date','Team','GameScore_mean','GameScore_median','GameScore_max','GameScore_std',\n",
        "                          'GameScore_last8_mean','GameScore_last8_median','GameScore_last8_max','GameScore_last8_std',\n",
        "                          'GameScore_last16_mean','GameScore_last16_median','GameScore_last16_max','GameScore_last16_std',\n",
        "                          'GameScore_last32_mean','GameScore_last32_median','GameScore_last32_max','GameScore_last32_std',\n",
        "                          'GameScore_last64_mean','GameScore_last64_median','GameScore_last64_max','GameScore_last64_std'\n",
        "                          ]\n",
        "teamGame = teamGame.merge(playerTeamGame, on=['Date','Team'], how='left')\n",
        "\n",
        "playerTeamGame = playerGame.loc[playerGame['Position']=='F'].groupby(['Date','Team']).agg({\n",
        "    'GameScore' : ['mean','median','max','std'],\n",
        "    'GameScore_last8' : ['mean','median','max','std'],\n",
        "    'GameScore_last16' : ['mean','median','max','std'],\n",
        "    'GameScore_last32' : ['mean','median','max','std'],\n",
        "    'GameScore_last64' : ['mean','median','max','std']\n",
        "}).reset_index()\n",
        "playerTeamGame.columns = ['Date','Team','GameScoreF_mean','GameScoreF_median','GameScoreF_max','GameScoreF_std',\n",
        "                          'GameScoreF_last8_mean','GameScoreF_last8_median','GameScoreF_last8_max','GameScoreF_last8_std',\n",
        "                          'GameScoreF_last16_mean','GameScoreF_last16_median','GameScoreF_last16_max','GameScoreF_last16_std',\n",
        "                          'GameScoreF_last32_mean','GameScoreF_last32_median','GameScoreF_last32_max','GameScoreF_last32_std',\n",
        "                          'GameScoreF_last64_mean','GameScoreF_last64_median','GameScoreF_last64_max','GameScoreF_last64_std'\n",
        "                          ]\n",
        "teamGame = teamGame.merge(playerTeamGame, on=['Date','Team'], how='left')\n",
        "\n",
        "playerTeamGame = playerGame.loc[playerGame['Position']=='D'].groupby(['Date','Team']).agg({\n",
        "    'GameScore' : ['mean','median','max','std'],\n",
        "    'GameScore_last8' : ['mean','median','max','std'],\n",
        "    'GameScore_last16' : ['mean','median','max','std'],\n",
        "    'GameScore_last32' : ['mean','median','max','std'],\n",
        "    'GameScore_last64' : ['mean','median','max','std']\n",
        "}).reset_index()\n",
        "playerTeamGame.columns = ['Date','Team','GameScoreD_mean','GameScoreD_median','GameScoreD_max','GameScoreD_std',\n",
        "                          'GameScoreD_last8_mean','GameScoreD_last8_median','GameScoreD_last8_max','GameScoreD_last8_std',\n",
        "                          'GameScoreD_last16_mean','GameScoreD_last16_median','GameScoreD_last16_max','GameScoreD_last16_std',\n",
        "                          'GameScoreD_last32_mean','GameScoreD_last32_median','GameScoreD_last32_max','GameScoreD_last32_std',\n",
        "                          'GameScoreD_last64_mean','GameScoreD_last64_median','GameScoreD_last64_max','GameScoreD_last64_std'\n",
        "                          ]\n",
        "teamGame = teamGame.merge(playerTeamGame, on=['Date','Team'], how='left')"
      ],
      "execution_count": null,
      "outputs": []
    },
    {
      "cell_type": "code",
      "metadata": {
        "id": "pJGDfrqNe_nF"
      },
      "source": [
        "def _add_lag(df, cols, lag, groupCol):\n",
        "    new_cols = [col+'_last'+str(lag) for col in cols]\n",
        "    df[new_cols] = df.groupby(groupCol)[cols].transform(lambda x: x.rolling(window=lag).mean())\n",
        "    df[new_cols] = df.groupby(groupCol)[new_cols].shift(1)\n",
        "\n",
        "    return df"
      ],
      "execution_count": null,
      "outputs": []
    },
    {
      "cell_type": "code",
      "metadata": {
        "id": "Q3-VZwUKfV8n"
      },
      "source": [
        "# add some lag features (rolling averages of past games)\n",
        "train_df = _add_lag(teamGame.loc[teamGame['Playoffs']==0].copy(),\n",
        "                    ['Goals','Shots','ShotAttempts','xG','Goals_5v5','Shots_5v5','ShotAttempts_5v5','xG_5v5',\n",
        "                     'GameScore_mean','GameScore_median','GameScore_max','GameScore_std'], 8, 'Team')\n",
        "train_df = _add_lag(train_df, ['Goals','Shots','ShotAttempts','xG','Goals_5v5','Shots_5v5','ShotAttempts_5v5','xG_5v5',\n",
        "                     'GameScore_mean','GameScore_median','GameScore_max','GameScore_std'], 16, 'Team')\n",
        "train_df = _add_lag(train_df, ['Goals','Shots','ShotAttempts','xG','Goals_5v5','Shots_5v5','ShotAttempts_5v5','xG_5v5',\n",
        "                     'GameScore_mean','GameScore_median','GameScore_max','GameScore_std'], 32, 'Team')\n",
        "train_df = _add_lag(train_df, ['Goals','Shots','ShotAttempts','xG','Goals_5v5','Shots_5v5','ShotAttempts_5v5','xG_5v5',\n",
        "                     'GameScore_mean','GameScore_median','GameScore_max','GameScore_std'], 64, 'Team')"
      ],
      "execution_count": null,
      "outputs": []
    },
    {
      "cell_type": "code",
      "source": [
        "# shift GameScore columns\n",
        "shift_cols = ['GameScore_last8_mean','GameScore_last8_median','GameScore_last8_max','GameScore_last8_std',\n",
        "          'GameScore_last16_mean','GameScore_last16_median','GameScore_last16_max','GameScore_last16_std',\n",
        "          'GameScore_last32_mean','GameScore_last32_median','GameScore_last32_max','GameScore_last32_std',\n",
        "          'GameScore_last64_mean','GameScore_last64_median','GameScore_last64_max','GameScore_last64_std',\n",
        "          'GameScoreF_last8_mean','GameScoreF_last8_median','GameScoreF_last8_max','GameScoreF_last8_std',\n",
        "          'GameScoreF_last16_mean','GameScoreF_last16_median','GameScoreF_last16_max','GameScoreF_last16_std',\n",
        "          'GameScoreF_last32_mean','GameScoreF_last32_median','GameScoreF_last32_max','GameScoreF_last32_std',\n",
        "          'GameScoreF_last64_mean','GameScoreF_last64_median','GameScoreF_last64_max','GameScoreF_last64_std',\n",
        "          'GameScoreD_last8_mean','GameScoreD_last8_median','GameScoreD_last8_max','GameScoreD_last8_std',\n",
        "          'GameScoreD_last16_mean','GameScoreD_last16_median','GameScoreD_last16_max','GameScoreD_last16_std',\n",
        "          'GameScoreD_last32_mean','GameScoreD_last32_median','GameScoreD_last32_max','GameScoreD_last32_std',\n",
        "          'GameScoreD_last64_mean','GameScoreD_last64_median','GameScoreD_last64_max','GameScoreD_last64_std'\n",
        "]\n",
        "train_df[shift_cols] = train_df.groupby('Team')[shift_cols].shift(1)"
      ],
      "metadata": {
        "id": "-KUYmjkasW_B"
      },
      "execution_count": null,
      "outputs": []
    },
    {
      "cell_type": "code",
      "metadata": {
        "id": "dBt205-xJTDC"
      },
      "source": [
        "def _add_player_lag(df, playerGame, lag):\n",
        "    playerGame[['GameScore_last'+str(lag)]] = playerGame.groupby('PlayerID')[['GameScore']].fillna(0.).transform(lambda x: x.rolling(window=lag).mean())\n",
        "    playerGame[['GameScore_last'+str(lag)]] = playerGame.groupby('PlayerID')[['GameScore_last'+str(lag)]].shift(1).fillna(0.)\n",
        "\n",
        "    playerGame = playerGame.groupby(['Game_Id','Team']).agg({\n",
        "        'GameScore_last'+str(lag) : ['mean','median','max','std']\n",
        "    }).reset_index()\n",
        "    playerGame.columns = ['Game_Id','Team','GameScore_mean_last'+str(lag),'GameScore_median_last'+str(lag),'GameScore_max_last'+str(lag),'GameScore_std_last'+str(lag)]\n",
        "    df = df.merge(playerGame, how='left', on=['Game_Id','Team'])\n",
        "\n",
        "    return df"
      ],
      "execution_count": null,
      "outputs": []
    },
    {
      "cell_type": "code",
      "metadata": {
        "id": "yFLUm4ZgJOT2"
      },
      "source": [
        "#train_df = _add_player_lag(train_df, playerGame.loc[playerGame['Playoffs']==0].copy(), 8)\n",
        "#train_df = _add_player_lag(train_df, playerGame.loc[playerGame['Playoffs']==0].copy(), 16)\n",
        "#train_df = _add_player_lag(train_df, playerGame.loc[playerGame['Playoffs']==0].copy(), 32)\n",
        "#train_df = _add_player_lag(train_df, playerGame.loc[playerGame['Playoffs']==0].copy(), 64)"
      ],
      "execution_count": null,
      "outputs": []
    },
    {
      "cell_type": "code",
      "metadata": {
        "id": "LAOhmEhMj8Si"
      },
      "source": [
        "# do a self-join to get features for the opposing team\n",
        "train_df['teamGameVal'] = train_df.groupby(['Game_Id','Season','Date'])['xG'].rank(\"dense\").replace(2, -1)\n",
        "train_df_opp = train_df.copy()\n",
        "train_df_opp['teamGameVal'] = train_df_opp['teamGameVal'] * -1\n",
        "train_df_opp = train_df_opp.drop(['Win','DateInt','Playoffs','Home','teamGameRankOverall','teamGameRank'],1)\n",
        "train_df_opp.columns = ['Game_Id','Date','Opp','Season',\n",
        "                        'GoalsAgainst','ShotsAgainst','ShotAttemptsAgainst','xGAgainst',\n",
        "                        'GoalsAgainst_5v5','ShotsAgainst_5v5','ShotAttemptsAgainst_5v5','xGAgainst_5v5','PenaltiesAgainst',\n",
        "                        'OppElo','OppGameScore_mean','OppGameScore_median','OppGameScore_max','OppGameScore_std',\n",
        "                        'OppGameScore_last8_mean','OppGameScore_last8_median','OppGameScore_last8_max','OppGameScore_last8_std',\n",
        "                        'OppGameScore_last16_mean','OppGameScore_last16_median','OppGameScore_last16_max','OppGameScore_last16_std',\n",
        "                        'OppGameScore_last32_mean','OppGameScore_last32_median','OppGameScore_last32_max','OppGameScore_last32_std',\n",
        "                        'OppGameScore_last64_mean','OppGameScore_last64_median','OppGameScore_last64_max','OppGameScore_last64_std',\n",
        "                        'OppGameScoreF_mean','OppGameScoreF_median','OppGameScoreF_max','OppGameScoreF_std',\n",
        "                        'OppGameScoreF_last8_mean','OppGameScoreF_last8_median','OppGameScoreF_last8_max','OppGameScoreF_last8_std',\n",
        "                        'OppGameScoreF_last16_mean','OppGameScoreF_last16_median','OppGameScoreF_last16_max','OppGameScoreF_last16_std',\n",
        "                        'OppGameScoreF_last32_mean','OppGameScoreF_last32_median','OppGameScoreF_last32_max','OppGameScoreF_last32_std',\n",
        "                        'OppGameScoreF_last64_mean','OppGameScoreF_last64_median','OppGameScoreF_last64_max','OppGameScoreF_last64_std',\n",
        "                        'OppGameScoreD_mean','OppGameScoreD_median','OppGameScoreD_max','OppGameScoreD_std',\n",
        "                        'OppGameScoreD_last8_mean','OppGameScoreD_last8_median','OppGameScoreD_last8_max','OppGameScoreD_last8_std',\n",
        "                        'OppGameScoreD_last16_mean','OppGameScoreD_last16_median','OppGameScoreD_last16_max','OppGameScoreD_last16_std',\n",
        "                        'OppGameScoreD_last32_mean','OppGameScoreD_last32_median','OppGameScoreD_last32_max','OppGameScoreD_last32_std',\n",
        "                        'OppGameScoreD_last64_mean','OppGameScoreD_last64_median','OppGameScoreD_last64_max','OppGameScoreD_last64_std',\n",
        "                        'OppGoals_last8','OppShots_last8','OppShotAttempts_last8','OppxG_last8',\n",
        "                        'OppGoals_5v5_last8','OppShots_5v5_last8','OppShotAttempts_5v5_last8','OppxG_5v5_last8',\n",
        "                        'OppGoals_last16','OppShots_last16','OppShotAttempts_last16','OppxG_last16',\n",
        "                        'OppGoals_5v5_last16','OppShots_5v5_last16','OppShotAttempts_5v5_last16','OppxG_5v5_last16',\n",
        "                        'OppGoals_last32','OppShots_last32','OppShotAttempts_last32','OppxG_last32',\n",
        "                        'OppGoals_5v5_last32','OppShots_5v5_last32','OppShotAttempts_5v5_last32','OppxG_5v5_last32',\n",
        "                        'OppGoals_last64','OppShots_last64','OppShotAttempts_last64','OppxG_last64',\n",
        "                        'OppGoals_5v5_last64','OppShots_5v5_last64','OppShotAttempts_5v5_last64','OppxG_5v5_last64',\n",
        "                        'OppGameScore_mean_last8','OppGameScore_median_last8','OppGameScore_max_last8','OppGameScore_std_last8',\n",
        "                        'OppGameScore_mean_last16','OppGameScore_median_last16','OppGameScore_max_last16','OppGameScore_std_last16',\n",
        "                        'OppGameScore_mean_last32','OppGameScore_median_last32','OppGameScore_max_last32','OppGameScore_std_last32',\n",
        "                        'OppGameScore_mean_last64','OppGameScore_median_last64','OppGameScore_max_last64','OppGameScore_std_last64',\n",
        "                        'teamGameVal'\n",
        "                        ]\n",
        "train_df = train_df.merge(train_df_opp, on=['Game_Id','Date','Season','teamGameVal'])\n",
        "train_df = train_df.drop('teamGameVal',1)\n",
        "train_df['EloDiff'] = train_df['Elo'] - train_df['OppElo']\n",
        "train_df['EloDiff_538adj'] = (train_df['Elo'] - train_df['OppElo'] + (train_df['Home']*50) + ((train_df['Home']-1)*50))*(train_df['Playoffs']*0.25+1)"
      ],
      "execution_count": null,
      "outputs": []
    },
    {
      "cell_type": "code",
      "metadata": {
        "id": "SdIiKLnT08NL"
      },
      "source": [
        "# add lag features for allowed stats\n",
        "train_df = _add_lag(train_df, ['GoalsAgainst','ShotsAgainst','ShotAttemptsAgainst','xGAgainst',\n",
        "                               'GoalsAgainst_5v5','ShotsAgainst_5v5','ShotAttemptsAgainst_5v5','xGAgainst_5v5'], 8, 'Team')\n",
        "train_df = _add_lag(train_df, ['GoalsAgainst','ShotsAgainst','ShotAttemptsAgainst','xGAgainst',\n",
        "                               'GoalsAgainst_5v5','ShotsAgainst_5v5','ShotAttemptsAgainst_5v5','xGAgainst_5v5'], 16, 'Team')\n",
        "train_df = _add_lag(train_df, ['GoalsAgainst','ShotsAgainst','ShotAttemptsAgainst','xGAgainst',\n",
        "                               'GoalsAgainst_5v5','ShotsAgainst_5v5','ShotAttemptsAgainst_5v5','xGAgainst_5v5'], 32, 'Team')\n",
        "train_df = _add_lag(train_df, ['GoalsAgainst','ShotsAgainst','ShotAttemptsAgainst','xGAgainst',\n",
        "                               'GoalsAgainst_5v5','ShotsAgainst_5v5','ShotAttemptsAgainst_5v5','xGAgainst_5v5'], 64, 'Team')"
      ],
      "execution_count": null,
      "outputs": []
    },
    {
      "cell_type": "code",
      "source": [
        "train_df['LastGame'] = train_df.groupby('Team')['Date'].shift(1)\n",
        "train_df['RestDays'] = (pd.to_datetime(train_df['Date']) - pd.to_datetime(train_df['LastGame']))/np.timedelta64(1,'D')"
      ],
      "metadata": {
        "id": "SY25AXDcYO5P"
      },
      "execution_count": null,
      "outputs": []
    },
    {
      "cell_type": "code",
      "source": [
        "train_df = train_df.merge(lines[['Season','Date','Team','Open','Close']], how='left', on=['Season','Date','Team'])"
      ],
      "metadata": {
        "id": "df33V2M6iUB2"
      },
      "execution_count": null,
      "outputs": []
    },
    {
      "cell_type": "code",
      "source": [
        "train_df['OpenImpliedPct'] = 0.\n",
        "train_df['Open'] = train_df['Open'].astype(float)\n",
        "train_df.loc[train_df['Open']<0, 'OpenImpliedPct'] = train_df.loc[train_df['Open']<0, 'Open']/(train_df.loc[train_df['Open']<0, 'Open']-100)\n",
        "train_df.loc[train_df['Open']>0, 'OpenImpliedPct'] = 100/(100+train_df.loc[train_df['Open']>0, 'Open'])\n",
        "\n",
        "train_df['CloseImpliedPct'] = 0.\n",
        "train_df['Close'] = train_df['Close'].astype(float)\n",
        "train_df.loc[train_df['Close']<0, 'CloseImpliedPct'] = train_df.loc[train_df['Close']<0, 'Close']/(train_df.loc[train_df['Close']<0, 'Close']-100)\n",
        "train_df.loc[train_df['Close']>0, 'CloseImpliedPct'] = 100/(100+train_df.loc[train_df['Close']>0, 'Close'])"
      ],
      "metadata": {
        "id": "KJLngEA0uVdj"
      },
      "execution_count": null,
      "outputs": []
    },
    {
      "cell_type": "code",
      "source": [
        "df_all = train_df.copy(deep=True)"
      ],
      "metadata": {
        "id": "G88EeL0BYHJs"
      },
      "execution_count": null,
      "outputs": []
    },
    {
      "cell_type": "markdown",
      "source": [
        "#Current Model"
      ],
      "metadata": {
        "id": "fdmcoiBB-zZn"
      }
    },
    {
      "cell_type": "code",
      "source": [
        "features_set = ['Elo', 'GameScore_last8_mean',\n",
        "       'GameScore_last8_median', 'GameScore_last8_max', 'GameScore_last8_std',\n",
        "       'GameScore_last16_mean', 'GameScore_last16_median',\n",
        "       'GameScore_last16_max', 'GameScore_last16_std', 'GameScore_last32_mean',\n",
        "       'GameScore_last32_median', 'GameScore_last32_max',\n",
        "       'GameScore_last32_std', 'GameScore_last64_mean',\n",
        "       'GameScore_last64_median', 'GameScore_last64_max',\n",
        "       'GameScore_last64_std', 'GameScoreF_last8_mean',\n",
        "       'GameScoreF_last8_median', 'GameScoreF_last8_max',\n",
        "       'GameScoreF_last8_std', 'GameScoreF_last16_mean',\n",
        "       'GameScoreF_last16_median','GameScoreF_last16_max', 'GameScoreF_last16_std',\n",
        "       'GameScoreF_last32_mean', 'GameScoreF_last32_median',\n",
        "       'GameScoreF_last32_max', 'GameScoreF_last32_std',\n",
        "       'GameScoreF_last64_mean', 'GameScoreF_last64_median',\n",
        "       'GameScoreF_last64_max', 'GameScoreF_last64_std',\n",
        "       'GameScoreD_last8_mean', 'GameScoreD_last8_median',\n",
        "       'GameScoreD_last8_max', 'GameScoreD_last8_std',\n",
        "       'GameScoreD_last16_mean', 'GameScoreD_last16_median',\n",
        "       'GameScoreD_last16_max', 'GameScoreD_last16_std',\n",
        "       'GameScoreD_last32_mean', 'GameScoreD_last32_median',\n",
        "       'GameScoreD_last32_max', 'GameScoreD_last32_std',\n",
        "       'GameScoreD_last64_mean', 'GameScoreD_last64_median',\n",
        "       'GameScoreD_last64_max', 'GameScoreD_last64_std', 'Goals_last8',\n",
        "       'Shots_last8', 'ShotAttempts_last8', 'xG_last8', 'Goals_5v5_last8',\n",
        "       'Shots_5v5_last8', 'ShotAttempts_5v5_last8', 'xG_5v5_last8',\n",
        "       'GameScore_mean_last8', 'GameScore_median_last8', 'GameScore_max_last8',\n",
        "       'GameScore_std_last8', 'Goals_last16', 'Shots_last16',\n",
        "       'ShotAttempts_last16', 'xG_last16', 'Goals_5v5_last16',\n",
        "       'Shots_5v5_last16', 'ShotAttempts_5v5_last16', 'xG_5v5_last16',\n",
        "       'GameScore_mean_last16', 'GameScore_median_last16',\n",
        "       'GameScore_max_last16', 'GameScore_std_last16', 'Goals_last32',\n",
        "       'Shots_last32', 'ShotAttempts_last32', 'xG_last32', 'Goals_5v5_last32',\n",
        "       'Shots_5v5_last32', 'ShotAttempts_5v5_last32', 'xG_5v5_last32',\n",
        "       'GameScore_mean_last32', 'GameScore_median_last32',\n",
        "       'GameScore_max_last32', 'GameScore_std_last32', 'Goals_last64',\n",
        "       'Shots_last64', 'ShotAttempts_last64', 'xG_last64', 'Goals_5v5_last64',\n",
        "       'Shots_5v5_last64', 'ShotAttempts_5v5_last64', 'xG_5v5_last64',\n",
        "       'GameScore_mean_last64', 'GameScore_median_last64',\n",
        "       'GameScore_max_last64', 'GameScore_std_last64', 'OppElo', \n",
        "       'OppGameScore_last8_mean', 'OppGameScore_last8_median',\n",
        "       'OppGameScore_last8_max', 'OppGameScore_last8_std',\n",
        "       'OppGameScore_last16_mean', 'OppGameScore_last16_median',\n",
        "       'OppGameScore_last16_max', 'OppGameScore_last16_std', 'OppGameScore_last32_mean',\n",
        "       'OppGameScore_last32_median', 'OppGameScore_last32_max',\n",
        "       'OppGameScore_last32_std', 'OppGameScore_last64_mean',\n",
        "       'OppGameScore_last64_median', 'OppGameScore_last64_max',\n",
        "       'OppGameScore_last64_std', 'OppGameScoreF_last8_mean',\n",
        "       'OppGameScoreF_last8_median', 'OppGameScoreF_last8_max',\n",
        "       'OppGameScoreF_last8_std', 'OppGameScoreF_last16_mean',\n",
        "       'OppGameScoreF_last16_median', 'OppGameScoreF_last16_max',\n",
        "       'OppGameScoreF_last16_std', 'OppGameScoreF_last32_mean',\n",
        "       'OppGameScoreF_last32_median', 'OppGameScoreF_last32_max',\n",
        "       'OppGameScoreF_last32_std', 'OppGameScoreF_last64_mean',\n",
        "       'OppGameScoreF_last64_median', 'OppGameScoreF_last64_max',\n",
        "       'OppGameScoreF_last64_std', 'OppGameScoreD_last8_mean', 'OppGameScoreD_last8_median',\n",
        "       'OppGameScoreD_last8_max', 'OppGameScoreD_last8_std',\n",
        "       'OppGameScoreD_last16_mean', 'OppGameScoreD_last16_median',\n",
        "       'OppGameScoreD_last16_max', 'OppGameScoreD_last16_std',\n",
        "       'OppGameScoreD_last32_mean', 'OppGameScoreD_last32_median',\n",
        "       'OppGameScoreD_last32_max', 'OppGameScoreD_last32_std',\n",
        "       'OppGameScoreD_last64_mean', 'OppGameScoreD_last64_median',\n",
        "       'OppGameScoreD_last64_max', 'OppGameScoreD_last64_std',\n",
        "       'OppGoals_last8', 'OppShots_last8', 'OppShotAttempts_last8', 'OppxG_last8',\n",
        "       'OppGoals_5v5_last8', 'OppShots_5v5_last8', 'OppShotAttempts_5v5_last8',\n",
        "       'OppxG_5v5_last8', 'OppGoals_last16', 'OppShots_last16',\n",
        "       'OppShotAttempts_last16', 'OppxG_last16', 'OppGoals_5v5_last16',\n",
        "       'OppShots_5v5_last16', 'OppShotAttempts_5v5_last16', 'OppxG_5v5_last16',\n",
        "       'OppGoals_last32', 'OppShots_last32', 'OppShotAttempts_last32',\n",
        "       'OppxG_last32', 'OppGoals_5v5_last32', 'OppShots_5v5_last32',\n",
        "       'OppShotAttempts_5v5_last32', 'OppxG_5v5_last32', 'OppGoals_last64',\n",
        "       'OppShots_last64', 'OppShotAttempts_last64', 'OppxG_last64',\n",
        "       'OppGoals_5v5_last64', 'OppShots_5v5_last64',\n",
        "       'OppShotAttempts_5v5_last64', 'OppxG_5v5_last64',\n",
        "       'OppGameScore_mean_last8', 'OppGameScore_median_last8',\n",
        "       'OppGameScore_max_last8', 'OppGameScore_std_last8',\n",
        "       'OppGameScore_mean_last16', 'OppGameScore_median_last16',\n",
        "       'OppGameScore_max_last16', 'OppGameScore_std_last16',\n",
        "       'OppGameScore_mean_last32', 'OppGameScore_median_last32',\n",
        "       'OppGameScore_max_last32', 'OppGameScore_std_last32',\n",
        "       'OppGameScore_mean_last64', 'OppGameScore_median_last64',\n",
        "       'OppGameScore_max_last64', 'OppGameScore_std_last64', 'EloDiff',\n",
        "       'EloDiff_538adj', 'GoalsAgainst_last8', 'ShotsAgainst_last8', 'ShotAttemptsAgainst_last8', 'xGAgainst_last8',\n",
        "       'GoalsAgainst_5v5_last8', 'ShotsAgainst_5v5_last8',\n",
        "       'ShotAttemptsAgainst_5v5_last8', 'xGAgainst_5v5_last8',\n",
        "       'GoalsAgainst_last16', 'ShotsAgainst_last16',\n",
        "       'ShotAttemptsAgainst_last16', 'xGAgainst_last16',\n",
        "       'GoalsAgainst_5v5_last16', 'ShotsAgainst_5v5_last16',\n",
        "       'ShotAttemptsAgainst_5v5_last16', 'xGAgainst_5v5_last16',\n",
        "       'GoalsAgainst_last32', 'ShotsAgainst_last32',\n",
        "       'ShotAttemptsAgainst_last32', 'xGAgainst_last32',\n",
        "       'GoalsAgainst_5v5_last32', 'ShotsAgainst_5v5_last32',\n",
        "       'ShotAttemptsAgainst_5v5_last32', 'xGAgainst_5v5_last32',\n",
        "       'GoalsAgainst_last64', 'ShotsAgainst_last64',\n",
        "       'ShotAttemptsAgainst_last64', 'xGAgainst_last64',\n",
        "       'GoalsAgainst_5v5_last64', 'ShotsAgainst_5v5_last64',\n",
        "       'ShotAttemptsAgainst_5v5_last64', 'xGAgainst_5v5_last64',\n",
        "       'RestDays', 'Close', 'CloseImpliedPct'\n",
        "       ]"
      ],
      "metadata": {
        "id": "ouwp_Ej1G9cu"
      },
      "execution_count": null,
      "outputs": []
    },
    {
      "cell_type": "code",
      "source": [
        "train_df = df_all.loc[df_all['Home']==1]\n",
        "curFeatures_logloss = 0.6733682725936084\n",
        "best_logloss = 0.6733682725936084\n",
        "\n",
        "curFeatures = ['Open','OpenImpliedPct']\n",
        "\n",
        "improving = True\n",
        "\n",
        "while improving:\n",
        "    improving = False\n",
        "    for c in features_set:\n",
        "        if c not in curFeatures:\n",
        "            features = curFeatures+[c]\n",
        "            train_df_loop = train_df.loc[~train_df[features].isnull().max(1)]\n",
        "\n",
        "            [X_train_df, X_test_df, y_train_df, y_test_df] = train_test_split(train_df_loop, train_df_loop[['Win']], test_size=0.3, random_state=26)\n",
        "            y_train = y_train_df['Win'].values\n",
        "            y_test = y_test_df['Win'].values\n",
        "\n",
        "            X_train = X_train_df[features].values\n",
        "            X_test = X_test_df[features].values\n",
        "\n",
        "            scaler = StandardScaler()\n",
        "            X_train = scaler.fit_transform(X_train)\n",
        "            X_test = scaler.transform(X_test)\n",
        "\n",
        "            X = np.concatenate((X_train, X_test))\n",
        "            y = np.concatenate((y_train, y_test))\n",
        "\n",
        "            model_lr = LogisticRegression(max_iter=1000)\n",
        "            model_lr.fit(X_train, y_train)\n",
        "            preds_lr = model_lr.predict_proba(X_test)[:,1]\n",
        "            logloss = log_loss(y_test, preds_lr)\n",
        "\n",
        "            if logloss<curFeatures_logloss:\n",
        "                improving=True\n",
        "                if logloss<best_logloss:\n",
        "                    best_feature = c\n",
        "                    best_logloss = logloss\n",
        "\n",
        "    if improving:\n",
        "        curFeatures.append(best_feature)\n",
        "        curFeatures_logloss = best_logloss\n",
        "\n",
        "    print (curFeatures)\n",
        "    print (curFeatures_logloss)"
      ],
      "metadata": {
        "colab": {
          "base_uri": "https://localhost:8080/"
        },
        "id": "MY0KQpLYG2IF",
        "outputId": "a57b95b1-6130-4133-8cb5-404386a4234c"
      },
      "execution_count": null,
      "outputs": [
        {
          "output_type": "stream",
          "name": "stdout",
          "text": [
            "['Open', 'OpenImpliedPct', 'ShotAttempts_5v5_last8']\n",
            "0.6658297293367441\n",
            "['Open', 'OpenImpliedPct', 'ShotAttempts_5v5_last8', 'OppShotAttempts_5v5_last16']\n",
            "0.6629198075747901\n",
            "['Open', 'OpenImpliedPct', 'ShotAttempts_5v5_last8', 'OppShotAttempts_5v5_last16', 'CloseImpliedPct']\n",
            "0.6607783389027913\n",
            "['Open', 'OpenImpliedPct', 'ShotAttempts_5v5_last8', 'OppShotAttempts_5v5_last16', 'CloseImpliedPct', 'GameScoreF_last32_median']\n",
            "0.660327161456636\n",
            "['Open', 'OpenImpliedPct', 'ShotAttempts_5v5_last8', 'OppShotAttempts_5v5_last16', 'CloseImpliedPct', 'GameScoreF_last32_median', 'ShotsAgainst_5v5_last8']\n",
            "0.6600429241821676\n",
            "['Open', 'OpenImpliedPct', 'ShotAttempts_5v5_last8', 'OppShotAttempts_5v5_last16', 'CloseImpliedPct', 'GameScoreF_last32_median', 'ShotsAgainst_5v5_last8', 'GoalsAgainst_5v5_last8']\n",
            "0.6597906406997897\n",
            "['Open', 'OpenImpliedPct', 'ShotAttempts_5v5_last8', 'OppShotAttempts_5v5_last16', 'CloseImpliedPct', 'GameScoreF_last32_median', 'ShotsAgainst_5v5_last8', 'GoalsAgainst_5v5_last8', 'GameScoreD_last16_mean']\n",
            "0.6595669368983595\n",
            "['Open', 'OpenImpliedPct', 'ShotAttempts_5v5_last8', 'OppShotAttempts_5v5_last16', 'CloseImpliedPct', 'GameScoreF_last32_median', 'ShotsAgainst_5v5_last8', 'GoalsAgainst_5v5_last8', 'GameScoreD_last16_mean', 'OppShotAttempts_last32']\n",
            "0.6593791745976072\n",
            "['Open', 'OpenImpliedPct', 'ShotAttempts_5v5_last8', 'OppShotAttempts_5v5_last16', 'CloseImpliedPct', 'GameScoreF_last32_median', 'ShotsAgainst_5v5_last8', 'GoalsAgainst_5v5_last8', 'GameScoreD_last16_mean', 'OppShotAttempts_last32', 'ShotsAgainst_last8']\n",
            "0.6591733114475654\n",
            "['Open', 'OpenImpliedPct', 'ShotAttempts_5v5_last8', 'OppShotAttempts_5v5_last16', 'CloseImpliedPct', 'GameScoreF_last32_median', 'ShotsAgainst_5v5_last8', 'GoalsAgainst_5v5_last8', 'GameScoreD_last16_mean', 'OppShotAttempts_last32', 'ShotsAgainst_last8', 'EloDiff']\n",
            "0.6590035092400606\n",
            "['Open', 'OpenImpliedPct', 'ShotAttempts_5v5_last8', 'OppShotAttempts_5v5_last16', 'CloseImpliedPct', 'GameScoreF_last32_median', 'ShotsAgainst_5v5_last8', 'GoalsAgainst_5v5_last8', 'GameScoreD_last16_mean', 'OppShotAttempts_last32', 'ShotsAgainst_last8', 'EloDiff', 'OppShotAttempts_5v5_last8']\n",
            "0.6589060146829361\n",
            "['Open', 'OpenImpliedPct', 'ShotAttempts_5v5_last8', 'OppShotAttempts_5v5_last16', 'CloseImpliedPct', 'GameScoreF_last32_median', 'ShotsAgainst_5v5_last8', 'GoalsAgainst_5v5_last8', 'GameScoreD_last16_mean', 'OppShotAttempts_last32', 'ShotsAgainst_last8', 'EloDiff', 'OppShotAttempts_5v5_last8', 'ShotAttempts_last8']\n",
            "0.6588321743916149\n",
            "['Open', 'OpenImpliedPct', 'ShotAttempts_5v5_last8', 'OppShotAttempts_5v5_last16', 'CloseImpliedPct', 'GameScoreF_last32_median', 'ShotsAgainst_5v5_last8', 'GoalsAgainst_5v5_last8', 'GameScoreD_last16_mean', 'OppShotAttempts_last32', 'ShotsAgainst_last8', 'EloDiff', 'OppShotAttempts_5v5_last8', 'ShotAttempts_last8', 'GameScore_last8_max']\n",
            "0.658759964145412\n",
            "['Open', 'OpenImpliedPct', 'ShotAttempts_5v5_last8', 'OppShotAttempts_5v5_last16', 'CloseImpliedPct', 'GameScoreF_last32_median', 'ShotsAgainst_5v5_last8', 'GoalsAgainst_5v5_last8', 'GameScoreD_last16_mean', 'OppShotAttempts_last32', 'ShotsAgainst_last8', 'EloDiff', 'OppShotAttempts_5v5_last8', 'ShotAttempts_last8', 'GameScore_last8_max', 'GameScoreF_last8_max']\n",
            "0.6584381060660367\n",
            "['Open', 'OpenImpliedPct', 'ShotAttempts_5v5_last8', 'OppShotAttempts_5v5_last16', 'CloseImpliedPct', 'GameScoreF_last32_median', 'ShotsAgainst_5v5_last8', 'GoalsAgainst_5v5_last8', 'GameScoreD_last16_mean', 'OppShotAttempts_last32', 'ShotsAgainst_last8', 'EloDiff', 'OppShotAttempts_5v5_last8', 'ShotAttempts_last8', 'GameScore_last8_max', 'GameScoreF_last8_max', 'GameScoreD_last8_max']\n",
            "0.6583629728114733\n",
            "['Open', 'OpenImpliedPct', 'ShotAttempts_5v5_last8', 'OppShotAttempts_5v5_last16', 'CloseImpliedPct', 'GameScoreF_last32_median', 'ShotsAgainst_5v5_last8', 'GoalsAgainst_5v5_last8', 'GameScoreD_last16_mean', 'OppShotAttempts_last32', 'ShotsAgainst_last8', 'EloDiff', 'OppShotAttempts_5v5_last8', 'ShotAttempts_last8', 'GameScore_last8_max', 'GameScoreF_last8_max', 'GameScoreD_last8_max', 'RestDays']\n",
            "0.658342139681343\n",
            "['Open', 'OpenImpliedPct', 'ShotAttempts_5v5_last8', 'OppShotAttempts_5v5_last16', 'CloseImpliedPct', 'GameScoreF_last32_median', 'ShotsAgainst_5v5_last8', 'GoalsAgainst_5v5_last8', 'GameScoreD_last16_mean', 'OppShotAttempts_last32', 'ShotsAgainst_last8', 'EloDiff', 'OppShotAttempts_5v5_last8', 'ShotAttempts_last8', 'GameScore_last8_max', 'GameScoreF_last8_max', 'GameScoreD_last8_max', 'RestDays', 'GameScore_last64_median']\n",
            "0.6583205869731368\n",
            "['Open', 'OpenImpliedPct', 'ShotAttempts_5v5_last8', 'OppShotAttempts_5v5_last16', 'CloseImpliedPct', 'GameScoreF_last32_median', 'ShotsAgainst_5v5_last8', 'GoalsAgainst_5v5_last8', 'GameScoreD_last16_mean', 'OppShotAttempts_last32', 'ShotsAgainst_last8', 'EloDiff', 'OppShotAttempts_5v5_last8', 'ShotAttempts_last8', 'GameScore_last8_max', 'GameScoreF_last8_max', 'GameScoreD_last8_max', 'RestDays', 'GameScore_last64_median', 'GameScore_last64_std']\n",
            "0.6582696270196484\n",
            "['Open', 'OpenImpliedPct', 'ShotAttempts_5v5_last8', 'OppShotAttempts_5v5_last16', 'CloseImpliedPct', 'GameScoreF_last32_median', 'ShotsAgainst_5v5_last8', 'GoalsAgainst_5v5_last8', 'GameScoreD_last16_mean', 'OppShotAttempts_last32', 'ShotsAgainst_last8', 'EloDiff', 'OppShotAttempts_5v5_last8', 'ShotAttempts_last8', 'GameScore_last8_max', 'GameScoreF_last8_max', 'GameScoreD_last8_max', 'RestDays', 'GameScore_last64_median', 'GameScore_last64_std', 'GameScoreF_last64_std']\n",
            "0.6581250992153996\n",
            "['Open', 'OpenImpliedPct', 'ShotAttempts_5v5_last8', 'OppShotAttempts_5v5_last16', 'CloseImpliedPct', 'GameScoreF_last32_median', 'ShotsAgainst_5v5_last8', 'GoalsAgainst_5v5_last8', 'GameScoreD_last16_mean', 'OppShotAttempts_last32', 'ShotsAgainst_last8', 'EloDiff', 'OppShotAttempts_5v5_last8', 'ShotAttempts_last8', 'GameScore_last8_max', 'GameScoreF_last8_max', 'GameScoreD_last8_max', 'RestDays', 'GameScore_last64_median', 'GameScore_last64_std', 'GameScoreF_last64_std', 'GameScoreF_last16_mean']\n",
            "0.658095288604367\n",
            "['Open', 'OpenImpliedPct', 'ShotAttempts_5v5_last8', 'OppShotAttempts_5v5_last16', 'CloseImpliedPct', 'GameScoreF_last32_median', 'ShotsAgainst_5v5_last8', 'GoalsAgainst_5v5_last8', 'GameScoreD_last16_mean', 'OppShotAttempts_last32', 'ShotsAgainst_last8', 'EloDiff', 'OppShotAttempts_5v5_last8', 'ShotAttempts_last8', 'GameScore_last8_max', 'GameScoreF_last8_max', 'GameScoreD_last8_max', 'RestDays', 'GameScore_last64_median', 'GameScore_last64_std', 'GameScoreF_last64_std', 'GameScoreF_last16_mean', 'OppShots_5v5_last8']\n",
            "0.6580865561136077\n",
            "['Open', 'OpenImpliedPct', 'ShotAttempts_5v5_last8', 'OppShotAttempts_5v5_last16', 'CloseImpliedPct', 'GameScoreF_last32_median', 'ShotsAgainst_5v5_last8', 'GoalsAgainst_5v5_last8', 'GameScoreD_last16_mean', 'OppShotAttempts_last32', 'ShotsAgainst_last8', 'EloDiff', 'OppShotAttempts_5v5_last8', 'ShotAttempts_last8', 'GameScore_last8_max', 'GameScoreF_last8_max', 'GameScoreD_last8_max', 'RestDays', 'GameScore_last64_median', 'GameScore_last64_std', 'GameScoreF_last64_std', 'GameScoreF_last16_mean', 'OppShots_5v5_last8', 'OppShots_last32']\n",
            "0.6580673516367035\n",
            "['Open', 'OpenImpliedPct', 'ShotAttempts_5v5_last8', 'OppShotAttempts_5v5_last16', 'CloseImpliedPct', 'GameScoreF_last32_median', 'ShotsAgainst_5v5_last8', 'GoalsAgainst_5v5_last8', 'GameScoreD_last16_mean', 'OppShotAttempts_last32', 'ShotsAgainst_last8', 'EloDiff', 'OppShotAttempts_5v5_last8', 'ShotAttempts_last8', 'GameScore_last8_max', 'GameScoreF_last8_max', 'GameScoreD_last8_max', 'RestDays', 'GameScore_last64_median', 'GameScore_last64_std', 'GameScoreF_last64_std', 'GameScoreF_last16_mean', 'OppShots_5v5_last8', 'OppShots_last32', 'EloDiff_538adj']\n",
            "0.6580631981225172\n",
            "['Open', 'OpenImpliedPct', 'ShotAttempts_5v5_last8', 'OppShotAttempts_5v5_last16', 'CloseImpliedPct', 'GameScoreF_last32_median', 'ShotsAgainst_5v5_last8', 'GoalsAgainst_5v5_last8', 'GameScoreD_last16_mean', 'OppShotAttempts_last32', 'ShotsAgainst_last8', 'EloDiff', 'OppShotAttempts_5v5_last8', 'ShotAttempts_last8', 'GameScore_last8_max', 'GameScoreF_last8_max', 'GameScoreD_last8_max', 'RestDays', 'GameScore_last64_median', 'GameScore_last64_std', 'GameScoreF_last64_std', 'GameScoreF_last16_mean', 'OppShots_5v5_last8', 'OppShots_last32', 'EloDiff_538adj']\n",
            "0.6580631981225172\n"
          ]
        }
      ]
    },
    {
      "cell_type": "code",
      "source": [
        "curFeatures = ['ShotAttempts_5v5_last8', 'OppShotAttempts_5v5_last16', 'CloseImpliedPct', 'GameScoreF_last32_median', 'ShotsAgainst_5v5_last8', 'GoalsAgainst_5v5_last8', 'GameScoreD_last16_mean', 'OppShotAttempts_last32', 'ShotsAgainst_last8', 'EloDiff', 'OppShotAttempts_5v5_last8', 'ShotAttempts_last8', 'GameScore_last8_max', 'GameScoreF_last8_max', 'GameScoreD_last8_max', 'RestDays', 'GameScore_last64_median', 'GameScore_last64_std', 'GameScoreF_last64_std', 'GameScoreF_last16_mean', 'OppShots_5v5_last8', 'OppShots_last32', 'EloDiff_538adj']"
      ],
      "metadata": {
        "id": "RM3lbPj_S39i"
      },
      "execution_count": null,
      "outputs": []
    },
    {
      "cell_type": "code",
      "source": [
        "curFeatures_logloss = 0.6580631981225172\n",
        "best_logloss = 0.6580631981225172\n",
        "\n",
        "#curFeatures = ['Open','OpenImpliedPct']\n",
        "\n",
        "removed = []\n",
        "\n",
        "improving = True\n",
        "\n",
        "while improving:\n",
        "    improving = False\n",
        "    for c in curFeatures:\n",
        "        if c not in removed:\n",
        "            features = ['Open','OpenImpliedPct'] + curFeatures.copy()\n",
        "            features.remove(c)\n",
        "            train_df_loop = train_df.loc[~train_df[features].isnull().max(1)]\n",
        "\n",
        "            [X_train_df, X_test_df, y_train_df, y_test_df] = train_test_split(train_df_loop, train_df_loop[['Win']], test_size=0.3, random_state=26)\n",
        "            y_train = y_train_df['Win'].values\n",
        "            y_test = y_test_df['Win'].values\n",
        "\n",
        "            X_train = X_train_df[features].values\n",
        "            X_test = X_test_df[features].values\n",
        "\n",
        "            scaler = StandardScaler()\n",
        "            X_train = scaler.fit_transform(X_train)\n",
        "            X_test = scaler.transform(X_test)\n",
        "\n",
        "            X = np.concatenate((X_train, X_test))\n",
        "            y = np.concatenate((y_train, y_test))\n",
        "\n",
        "            model_lr = LogisticRegression(max_iter=1000)\n",
        "            model_lr.fit(X_train, y_train)\n",
        "            preds_lr = model_lr.predict_proba(X_test)[:,1]\n",
        "            logloss = log_loss(y_test, preds_lr)\n",
        "\n",
        "            if logloss<curFeatures_logloss:\n",
        "                improving=True\n",
        "                if logloss<best_logloss:\n",
        "                    worst_feature = c\n",
        "                    best_logloss = logloss\n",
        "\n",
        "    if improving:\n",
        "        curFeatures.remove(worst_feature)\n",
        "        curFeatures_logloss = best_logloss\n",
        "\n",
        "    print (curFeatures)\n",
        "    print (curFeatures_logloss)\n",
        "\n",
        "curFeatures = ['Open','OpenImpliedPct'] + curFeatures"
      ],
      "metadata": {
        "colab": {
          "base_uri": "https://localhost:8080/"
        },
        "id": "vK6OCqjm-Hxr",
        "outputId": "c96547e7-e651-4303-caa4-0e5f4ca673f9"
      },
      "execution_count": null,
      "outputs": [
        {
          "output_type": "stream",
          "name": "stdout",
          "text": [
            "['Open', 'ShotAttempts_5v5_last8', 'OppShotAttempts_5v5_last16', 'GameScoreF_last32_median', 'ShotsAgainst_5v5_last8', 'GoalsAgainst_5v5_last8', 'OppShotAttempts_last32', 'ShotsAgainst_last8', 'EloDiff', 'OppShotAttempts_5v5_last8', 'ShotAttempts_last8', 'GameScore_last8_max', 'GameScoreF_last8_max', 'GameScoreD_last8_max', 'RestDays', 'GameScore_last64_median', 'GameScore_last64_std', 'GameScoreF_last64_std', 'GameScoreF_last16_mean', 'OppShots_5v5_last8', 'OppShots_last32', 'EloDiff_538adj', 'CloseImpliedPct']\n",
            "0.657972967059018\n",
            "['ShotAttempts_5v5_last8', 'OppShotAttempts_5v5_last16', 'GameScoreF_last32_median', 'ShotsAgainst_5v5_last8', 'GoalsAgainst_5v5_last8', 'OppShotAttempts_last32', 'ShotsAgainst_last8', 'EloDiff', 'OppShotAttempts_5v5_last8', 'ShotAttempts_last8', 'GameScore_last8_max', 'GameScoreF_last8_max', 'GameScoreD_last8_max', 'RestDays', 'GameScore_last64_median', 'GameScore_last64_std', 'GameScoreF_last64_std', 'GameScoreF_last16_mean', 'OppShots_5v5_last8', 'OppShots_last32', 'EloDiff_538adj', 'CloseImpliedPct']\n",
            "0.6579716698594569\n",
            "['ShotAttempts_5v5_last8', 'OppShotAttempts_5v5_last16', 'GameScoreF_last32_median', 'ShotsAgainst_5v5_last8', 'GoalsAgainst_5v5_last8', 'OppShotAttempts_last32', 'ShotsAgainst_last8', 'EloDiff', 'OppShotAttempts_5v5_last8', 'ShotAttempts_last8', 'GameScore_last8_max', 'GameScoreF_last8_max', 'GameScoreD_last8_max', 'RestDays', 'GameScore_last64_median', 'GameScore_last64_std', 'GameScoreF_last64_std', 'GameScoreF_last16_mean', 'OppShots_5v5_last8', 'OppShots_last32', 'EloDiff_538adj', 'CloseImpliedPct']\n",
            "0.6579716698594569\n"
          ]
        }
      ]
    },
    {
      "cell_type": "code",
      "source": [
        "curFeatures"
      ],
      "metadata": {
        "colab": {
          "base_uri": "https://localhost:8080/"
        },
        "id": "3aUMrQFsC4pd",
        "outputId": "5596a8a4-c8fe-4a64-d2d3-fe1a509e3ddd"
      },
      "execution_count": null,
      "outputs": [
        {
          "output_type": "execute_result",
          "data": {
            "text/plain": [
              "['Open',\n",
              " 'OpenImpliedPct',\n",
              " 'ShotAttempts_5v5_last8',\n",
              " 'OppShotAttempts_5v5_last16',\n",
              " 'GameScoreF_last32_median',\n",
              " 'ShotsAgainst_5v5_last8',\n",
              " 'GoalsAgainst_5v5_last8',\n",
              " 'OppShotAttempts_last32',\n",
              " 'ShotsAgainst_last8',\n",
              " 'EloDiff',\n",
              " 'OppShotAttempts_5v5_last8',\n",
              " 'ShotAttempts_last8',\n",
              " 'GameScore_last8_max',\n",
              " 'GameScoreF_last8_max',\n",
              " 'GameScoreD_last8_max',\n",
              " 'RestDays',\n",
              " 'GameScore_last64_median',\n",
              " 'GameScore_last64_std',\n",
              " 'GameScoreF_last64_std',\n",
              " 'GameScoreF_last16_mean',\n",
              " 'OppShots_5v5_last8',\n",
              " 'OppShots_last32',\n",
              " 'EloDiff_538adj',\n",
              " 'CloseImpliedPct']"
            ]
          },
          "metadata": {},
          "execution_count": 264
        }
      ]
    },
    {
      "cell_type": "code",
      "metadata": {
        "id": "lXTMWqazjnww"
      },
      "source": [
        "# remove rows without enough prior data\n",
        "#train_df = train_df.loc[~((train_df['xG_last64'].isnull()) | (train_df['OppxG_last64'].isnull()))]\n",
        "#train_df = df_all.loc[(df_all['Home']==1)&(df_all['Season']<2021)]\n",
        "train_df = df_all.loc[df_all['Home']==1]\n",
        "features = ['Open','OpenImpliedPct']\n",
        "#features = curFeatures\n",
        "\n",
        "\n",
        "train_df = train_df.loc[~train_df[features].isnull().max(1)]\n",
        "\n",
        "# train/test split\n",
        "[X_train_df, X_test_df, y_train_df, y_test_df] = train_test_split(train_df, train_df[['Win']], test_size=0.3, random_state=26)\n",
        "y_train = y_train_df['Win'].values\n",
        "y_test = y_test_df['Win'].values\n",
        "\n",
        "\n",
        "#X_train_df = train_df.loc[train_df['Season']<2020].copy()\n",
        "#X_test_df = train_df.loc[train_df['Season'].isin([2020])].copy()\n",
        "#y_train = train_df.loc[train_df['Season']<2020]['Win'].values\n",
        "#y_test = train_df.loc[train_df['Season'].isin([2020])]['Win'].values\n",
        "\n",
        "X_train = X_train_df[features].values\n",
        "X_test = X_test_df[features].values\n",
        "\n",
        "# apply scaler\n",
        "scaler = StandardScaler()\n",
        "X_train = scaler.fit_transform(X_train)\n",
        "X_test = scaler.transform(X_test)\n",
        "\n",
        "X = np.concatenate((X_train, X_test))\n",
        "y = np.concatenate((y_train, y_test))"
      ],
      "execution_count": null,
      "outputs": []
    },
    {
      "cell_type": "code",
      "metadata": {
        "colab": {
          "base_uri": "https://localhost:8080/"
        },
        "id": "KMUhh_oNChSx",
        "outputId": "49de54d7-f2db-4ea3-c275-880779f0db89"
      },
      "source": [
        "model_lr = LogisticRegression(max_iter=1000)\n",
        "model_lr.fit(X_train, y_train)\n",
        "preds_lr = model_lr.predict_proba(X_test)[:,1]\n",
        "print ('LogLoss score: {}'.format(str(log_loss(y_test, preds_lr))))\n",
        "print ('AUC score: {}'.format(str(roc_auc_score(y_test, preds_lr))))\n",
        "#V3 0.665534621181465, train_test_split\n",
        "#v4 0.6558728278825735, train pre-2020, test on 2020\n",
        "#v4 0.6720558119637386, train_test_split, with all through dec 21 2021"
      ],
      "execution_count": null,
      "outputs": [
        {
          "output_type": "stream",
          "name": "stdout",
          "text": [
            "LogLoss score: 0.6733682725936084\n",
            "AUC score: 0.6054777083550505\n"
          ]
        }
      ]
    },
    {
      "cell_type": "code",
      "source": [
        "adj_preds_lr = ((preds_lr - 0.5) * 1.28) + 0.5\n",
        "print ('LogLoss score: {}'.format(str(log_loss(y_test, adj_preds_lr))))\n",
        "print ('AUC score: {}'.format(str(roc_auc_score(y_test, adj_preds_lr))))\n",
        "#0.6679878762459884"
      ],
      "metadata": {
        "colab": {
          "base_uri": "https://localhost:8080/"
        },
        "id": "91BohLwmY7Kn",
        "outputId": "d559854b-1f3a-4e32-e1dc-e5a55306307c"
      },
      "execution_count": null,
      "outputs": [
        {
          "output_type": "stream",
          "name": "stdout",
          "text": [
            "LogLoss score: 0.6772394272790156\n",
            "AUC score: 0.6054777083550505\n"
          ]
        }
      ]
    },
    {
      "cell_type": "code",
      "source": [
        "X_test_df['winPct'] = preds_lr\n",
        "X_test_df['binned_winPct'] = np.round(X_test_df['winPct'], 1)\n",
        "X_test_df[['binned_winPct','winPct','Win']]\\\n",
        "    .groupby(['binned_winPct']).agg({'winPct':['mean'],'Win':['count','mean']})"
      ],
      "metadata": {
        "colab": {
          "base_uri": "https://localhost:8080/",
          "height": 332
        },
        "id": "XMECpctiXrzY",
        "outputId": "47afbb57-144c-4192-e910-e58613b374b1"
      },
      "execution_count": null,
      "outputs": [
        {
          "output_type": "execute_result",
          "data": {
            "text/html": [
              "\n",
              "  <div id=\"df-c215b0bf-1d26-40d4-b1fe-ea59050e2a05\">\n",
              "    <div class=\"colab-df-container\">\n",
              "      <div>\n",
              "<style scoped>\n",
              "    .dataframe tbody tr th:only-of-type {\n",
              "        vertical-align: middle;\n",
              "    }\n",
              "\n",
              "    .dataframe tbody tr th {\n",
              "        vertical-align: top;\n",
              "    }\n",
              "\n",
              "    .dataframe thead tr th {\n",
              "        text-align: left;\n",
              "    }\n",
              "\n",
              "    .dataframe thead tr:last-of-type th {\n",
              "        text-align: right;\n",
              "    }\n",
              "</style>\n",
              "<table border=\"1\" class=\"dataframe\">\n",
              "  <thead>\n",
              "    <tr>\n",
              "      <th></th>\n",
              "      <th>winPct</th>\n",
              "      <th colspan=\"2\" halign=\"left\">Win</th>\n",
              "    </tr>\n",
              "    <tr>\n",
              "      <th></th>\n",
              "      <th>mean</th>\n",
              "      <th>count</th>\n",
              "      <th>mean</th>\n",
              "    </tr>\n",
              "    <tr>\n",
              "      <th>binned_winPct</th>\n",
              "      <th></th>\n",
              "      <th></th>\n",
              "      <th></th>\n",
              "    </tr>\n",
              "  </thead>\n",
              "  <tbody>\n",
              "    <tr>\n",
              "      <th>0.2</th>\n",
              "      <td>0.234207</td>\n",
              "      <td>5</td>\n",
              "      <td>0.600000</td>\n",
              "    </tr>\n",
              "    <tr>\n",
              "      <th>0.3</th>\n",
              "      <td>0.317444</td>\n",
              "      <td>79</td>\n",
              "      <td>0.303797</td>\n",
              "    </tr>\n",
              "    <tr>\n",
              "      <th>0.4</th>\n",
              "      <td>0.412217</td>\n",
              "      <td>436</td>\n",
              "      <td>0.394495</td>\n",
              "    </tr>\n",
              "    <tr>\n",
              "      <th>0.5</th>\n",
              "      <td>0.500988</td>\n",
              "      <td>1119</td>\n",
              "      <td>0.499553</td>\n",
              "    </tr>\n",
              "    <tr>\n",
              "      <th>0.6</th>\n",
              "      <td>0.595013</td>\n",
              "      <td>1008</td>\n",
              "      <td>0.628968</td>\n",
              "    </tr>\n",
              "    <tr>\n",
              "      <th>0.7</th>\n",
              "      <td>0.686583</td>\n",
              "      <td>386</td>\n",
              "      <td>0.735751</td>\n",
              "    </tr>\n",
              "    <tr>\n",
              "      <th>0.8</th>\n",
              "      <td>0.775797</td>\n",
              "      <td>31</td>\n",
              "      <td>0.967742</td>\n",
              "    </tr>\n",
              "  </tbody>\n",
              "</table>\n",
              "</div>\n",
              "      <button class=\"colab-df-convert\" onclick=\"convertToInteractive('df-c215b0bf-1d26-40d4-b1fe-ea59050e2a05')\"\n",
              "              title=\"Convert this dataframe to an interactive table.\"\n",
              "              style=\"display:none;\">\n",
              "        \n",
              "  <svg xmlns=\"http://www.w3.org/2000/svg\" height=\"24px\"viewBox=\"0 0 24 24\"\n",
              "       width=\"24px\">\n",
              "    <path d=\"M0 0h24v24H0V0z\" fill=\"none\"/>\n",
              "    <path d=\"M18.56 5.44l.94 2.06.94-2.06 2.06-.94-2.06-.94-.94-2.06-.94 2.06-2.06.94zm-11 1L8.5 8.5l.94-2.06 2.06-.94-2.06-.94L8.5 2.5l-.94 2.06-2.06.94zm10 10l.94 2.06.94-2.06 2.06-.94-2.06-.94-.94-2.06-.94 2.06-2.06.94z\"/><path d=\"M17.41 7.96l-1.37-1.37c-.4-.4-.92-.59-1.43-.59-.52 0-1.04.2-1.43.59L10.3 9.45l-7.72 7.72c-.78.78-.78 2.05 0 2.83L4 21.41c.39.39.9.59 1.41.59.51 0 1.02-.2 1.41-.59l7.78-7.78 2.81-2.81c.8-.78.8-2.07 0-2.86zM5.41 20L4 18.59l7.72-7.72 1.47 1.35L5.41 20z\"/>\n",
              "  </svg>\n",
              "      </button>\n",
              "      \n",
              "  <style>\n",
              "    .colab-df-container {\n",
              "      display:flex;\n",
              "      flex-wrap:wrap;\n",
              "      gap: 12px;\n",
              "    }\n",
              "\n",
              "    .colab-df-convert {\n",
              "      background-color: #E8F0FE;\n",
              "      border: none;\n",
              "      border-radius: 50%;\n",
              "      cursor: pointer;\n",
              "      display: none;\n",
              "      fill: #1967D2;\n",
              "      height: 32px;\n",
              "      padding: 0 0 0 0;\n",
              "      width: 32px;\n",
              "    }\n",
              "\n",
              "    .colab-df-convert:hover {\n",
              "      background-color: #E2EBFA;\n",
              "      box-shadow: 0px 1px 2px rgba(60, 64, 67, 0.3), 0px 1px 3px 1px rgba(60, 64, 67, 0.15);\n",
              "      fill: #174EA6;\n",
              "    }\n",
              "\n",
              "    [theme=dark] .colab-df-convert {\n",
              "      background-color: #3B4455;\n",
              "      fill: #D2E3FC;\n",
              "    }\n",
              "\n",
              "    [theme=dark] .colab-df-convert:hover {\n",
              "      background-color: #434B5C;\n",
              "      box-shadow: 0px 1px 3px 1px rgba(0, 0, 0, 0.15);\n",
              "      filter: drop-shadow(0px 1px 2px rgba(0, 0, 0, 0.3));\n",
              "      fill: #FFFFFF;\n",
              "    }\n",
              "  </style>\n",
              "\n",
              "      <script>\n",
              "        const buttonEl =\n",
              "          document.querySelector('#df-c215b0bf-1d26-40d4-b1fe-ea59050e2a05 button.colab-df-convert');\n",
              "        buttonEl.style.display =\n",
              "          google.colab.kernel.accessAllowed ? 'block' : 'none';\n",
              "\n",
              "        async function convertToInteractive(key) {\n",
              "          const element = document.querySelector('#df-c215b0bf-1d26-40d4-b1fe-ea59050e2a05');\n",
              "          const dataTable =\n",
              "            await google.colab.kernel.invokeFunction('convertToInteractive',\n",
              "                                                     [key], {});\n",
              "          if (!dataTable) return;\n",
              "\n",
              "          const docLinkHtml = 'Like what you see? Visit the ' +\n",
              "            '<a target=\"_blank\" href=https://colab.research.google.com/notebooks/data_table.ipynb>data table notebook</a>'\n",
              "            + ' to learn more about interactive tables.';\n",
              "          element.innerHTML = '';\n",
              "          dataTable['output_type'] = 'display_data';\n",
              "          await google.colab.output.renderOutput(dataTable, element);\n",
              "          const docLink = document.createElement('div');\n",
              "          docLink.innerHTML = docLinkHtml;\n",
              "          element.appendChild(docLink);\n",
              "        }\n",
              "      </script>\n",
              "    </div>\n",
              "  </div>\n",
              "  "
            ],
            "text/plain": [
              "                 winPct   Win          \n",
              "                   mean count      mean\n",
              "binned_winPct                          \n",
              "0.2            0.234207     5  0.600000\n",
              "0.3            0.317444    79  0.303797\n",
              "0.4            0.412217   436  0.394495\n",
              "0.5            0.500988  1119  0.499553\n",
              "0.6            0.595013  1008  0.628968\n",
              "0.7            0.686583   386  0.735751\n",
              "0.8            0.775797    31  0.967742"
            ]
          },
          "metadata": {},
          "execution_count": 170
        }
      ]
    },
    {
      "cell_type": "code",
      "source": [
        "df_2021 = df_all.loc[(df_all['Home']==1)&(df_all['Season']==2021)]\n",
        "df_2021 = df_2021.loc[~df_2021[features].isnull().max(1)]\n",
        "y_2021 = df_2021['Win'].values\n",
        "X_2021 = scaler.transform(df_2021[features].values)"
      ],
      "metadata": {
        "id": "eMcxrEd0wxVX"
      },
      "execution_count": null,
      "outputs": []
    },
    {
      "cell_type": "code",
      "source": [
        "preds_2021 = model_lr.predict_proba(X_2021)[:,1]\n",
        "print ('LogLoss score: {}'.format(str(log_loss(y_2021, preds_2021))))\n",
        "print ('AUC score: {}'.format(str(roc_auc_score(y_2021, preds_2021))))"
      ],
      "metadata": {
        "colab": {
          "base_uri": "https://localhost:8080/"
        },
        "id": "z96tPdUdwq4I",
        "outputId": "4548d320-b59f-464e-9bcd-e340edee8793"
      },
      "execution_count": null,
      "outputs": [
        {
          "output_type": "stream",
          "name": "stdout",
          "text": [
            "LogLoss score: 0.6452322068652986\n",
            "AUC score: 0.6620987125263178\n"
          ]
        }
      ]
    },
    {
      "cell_type": "code",
      "metadata": {
        "colab": {
          "base_uri": "https://localhost:8080/"
        },
        "id": "gKJS5R7d9-nM",
        "outputId": "6a76d2f1-0d93-4d5d-edfe-c726da3f2ddc"
      },
      "source": [
        "full_train = train_df.loc[train_df['Season']<2021][features].values\n",
        "full_y = train_df.loc[train_df['Season']<2021]['Win'].values\n",
        "scaler = StandardScaler()\n",
        "full_train = scaler.fit_transform(full_train)\n",
        "model = LogisticRegression(max_iter=2000)\n",
        "model.fit(full_train, full_y)\n",
        "preds_lr = model.predict_proba(scaler.transform(X_test_df[features].values))[:,1]\n",
        "print ('LogLoss score: {}'.format(str(log_loss(y_test, preds_lr))))\n",
        "print ('AUC score: {}'.format(str(roc_auc_score(y_test, preds_lr))))"
      ],
      "execution_count": null,
      "outputs": [
        {
          "output_type": "stream",
          "name": "stdout",
          "text": [
            "LogLoss score: 0.6729674466071449\n",
            "AUC score: 0.6061133443656834\n"
          ]
        }
      ]
    },
    {
      "cell_type": "code",
      "source": [
        "preds_2021 = model.predict_proba(X_2021)[:,1]\n",
        "print ('LogLoss score: {}'.format(str(log_loss(y_2021, preds_2021))))\n",
        "print ('AUC score: {}'.format(str(roc_auc_score(y_2021, preds_2021))))"
      ],
      "metadata": {
        "colab": {
          "base_uri": "https://localhost:8080/"
        },
        "id": "kVW6V9CCxX3l",
        "outputId": "7d002bb8-e7f2-4dc6-d0df-073618c1ccfd"
      },
      "execution_count": null,
      "outputs": [
        {
          "output_type": "stream",
          "name": "stdout",
          "text": [
            "LogLoss score: 0.6472410805787999\n",
            "AUC score: 0.6616329116282537\n"
          ]
        }
      ]
    },
    {
      "cell_type": "code",
      "source": [
        "df_2021['winPct'] = preds_2021\n",
        "df_2021['OppWinPct'] = 1 - df_2021['winPct']"
      ],
      "metadata": {
        "id": "9MGI0dfUBa76"
      },
      "execution_count": null,
      "outputs": []
    },
    {
      "cell_type": "code",
      "metadata": {
        "id": "Gv6Ls01X9r_3"
      },
      "source": [
        "pickle.dump(model, open('lr.pkl', 'wb'))\n",
        "pickle.dump(scaler, open('scaler.pkl', 'wb'))"
      ],
      "execution_count": null,
      "outputs": []
    },
    {
      "cell_type": "markdown",
      "source": [
        "#CNN of Game Scores"
      ],
      "metadata": {
        "id": "ENGvtsx3F_Nt"
      }
    },
    {
      "cell_type": "code",
      "source": [
        "df_gameScores = train_df[['Team','Date','Opp','Season','Win']]"
      ],
      "metadata": {
        "id": "g8XGMizLGHlV"
      },
      "execution_count": null,
      "outputs": []
    },
    {
      "cell_type": "code",
      "source": [
        "#get game scores by game and position\n",
        "temp_df = playerGame.loc[playerGame['Position']=='F'][['Team','Date','GameScore']].groupby(['Team','Date'])['GameScore'].apply(np.array).reset_index()\n",
        "temp_df['count'] = temp_df['GameScore'].apply(lambda x: len(x))\n",
        "temp_df['GameScore'] = temp_df['GameScore'].apply(lambda x: np.sort(x))\n",
        "temp_df = temp_df.loc[temp_df['count']>=1]\n",
        "temp_df.loc[temp_df['count']>12, 'GameScore'] = temp_df.loc[temp_df['count']>12, 'GameScore'].apply(lambda x: x[:12])\n",
        "temp_df['GameScore'] = temp_df['GameScore'].apply(lambda x: np.pad(x, (0,12-len(x)))[:12])\n",
        "temp_df = temp_df.drop('count',1)\n",
        "\n",
        "#get previous 32 games of game scores\n",
        "temp_df['GameScoresF_last32'] = np.nan\n",
        "for t in temp_df['Team'].unique():\n",
        "    X_gameScores = []\n",
        "    team_df = temp_df.loc[temp_df['Team']==t,:]\n",
        "    if len(team_df.index)>32:\n",
        "        for i in range(32,len(team_df.index)):\n",
        "            X_gameScores.append(np.stack(team_df.iloc[i-32:i, :].loc[:,'GameScore'].values))\n",
        "        temp_df.loc[temp_df['Team']==t,'GameScoresF_last32'] = [np.nan]*32 + X_gameScores\n",
        "\n",
        "#join to original data\n",
        "temp_df = temp_df[['Team','Date','GameScoresF_last32']].copy()\n",
        "df_gameScores = df_gameScores.merge(temp_df, on=['Team','Date'], how='left')\n",
        "temp_df.columns = ['Opp','Date','OppGameScoresF_last32']\n",
        "df_gameScores = df_gameScores.merge(temp_df, on=['Opp','Date'], how='left')"
      ],
      "metadata": {
        "colab": {
          "base_uri": "https://localhost:8080/"
        },
        "id": "5uD9fqPRL9vK",
        "outputId": "b6983469-571f-463c-8e49-68bd4c2a60a1"
      },
      "execution_count": null,
      "outputs": [
        {
          "output_type": "stream",
          "name": "stderr",
          "text": [
            "/usr/local/lib/python3.7/dist-packages/numpy/core/_asarray.py:83: VisibleDeprecationWarning: Creating an ndarray from ragged nested sequences (which is a list-or-tuple of lists-or-tuples-or ndarrays with different lengths or shapes) is deprecated. If you meant to do this, you must specify 'dtype=object' when creating the ndarray\n",
            "  return array(a, dtype, copy=False, order=order)\n",
            "/usr/local/lib/python3.7/dist-packages/pandas/core/internals/blocks.py:832: VisibleDeprecationWarning: Creating an ndarray from ragged nested sequences (which is a list-or-tuple of lists-or-tuples-or ndarrays with different lengths or shapes) is deprecated. If you meant to do this, you must specify 'dtype=object' when creating the ndarray\n",
            "  dtype, _ = maybe_promote(np.array(value).dtype)\n",
            "/usr/local/lib/python3.7/dist-packages/pandas/core/internals/blocks.py:849: VisibleDeprecationWarning: Creating an ndarray from ragged nested sequences (which is a list-or-tuple of lists-or-tuples-or ndarrays with different lengths or shapes) is deprecated. If you meant to do this, you must specify 'dtype=object' when creating the ndarray\n",
            "  arr_value = np.array(value)\n"
          ]
        }
      ]
    },
    {
      "cell_type": "code",
      "source": [
        "#get game scores by game and position\n",
        "temp_df = playerGame.loc[playerGame['Position']=='D'][['Team','Date','GameScore']].groupby(['Team','Date'])['GameScore'].apply(np.array).reset_index()\n",
        "temp_df['count'] = temp_df['GameScore'].apply(lambda x: len(x))\n",
        "temp_df['GameScore'] = temp_df['GameScore'].apply(lambda x: np.sort(x))\n",
        "temp_df = temp_df.loc[temp_df['count']>=1]\n",
        "temp_df.loc[temp_df['count']>6, 'GameScore'] = temp_df.loc[temp_df['count']>6, 'GameScore'].apply(lambda x: x[:6])\n",
        "temp_df['GameScore'] = temp_df['GameScore'].apply(lambda x: np.pad(x, (0,6-len(x)))[:6])\n",
        "temp_df = temp_df.drop('count',1)\n",
        "\n",
        "#get previous 32 games of game scores\n",
        "temp_df['GameScoresD_last32'] = np.nan\n",
        "for t in temp_df['Team'].unique():\n",
        "    X_gameScores = []\n",
        "    team_df = temp_df.loc[temp_df['Team']==t,:]\n",
        "    if len(team_df.index)>32:\n",
        "        for i in range(32,len(team_df.index)):\n",
        "            X_gameScores.append(np.stack(team_df.iloc[i-32:i, :].loc[:,'GameScore'].values))\n",
        "        temp_df.loc[temp_df['Team']==t,'GameScoresD_last32'] = [np.nan]*32 + X_gameScores\n",
        "\n",
        "#join to original data\n",
        "temp_df = temp_df[['Team','Date','GameScoresD_last32']].copy()\n",
        "df_gameScores = df_gameScores.merge(temp_df, on=['Team','Date'], how='left')\n",
        "temp_df.columns = ['Opp','Date','OppGameScoresD_last32']\n",
        "df_gameScores = df_gameScores.merge(temp_df, on=['Opp','Date'], how='left')"
      ],
      "metadata": {
        "colab": {
          "base_uri": "https://localhost:8080/"
        },
        "id": "GilUZ4BgiNao",
        "outputId": "15c05cc4-70f7-4005-d39e-0fe18b9d662c"
      },
      "execution_count": null,
      "outputs": [
        {
          "output_type": "stream",
          "name": "stderr",
          "text": [
            "/usr/local/lib/python3.7/dist-packages/numpy/core/_asarray.py:83: VisibleDeprecationWarning: Creating an ndarray from ragged nested sequences (which is a list-or-tuple of lists-or-tuples-or ndarrays with different lengths or shapes) is deprecated. If you meant to do this, you must specify 'dtype=object' when creating the ndarray\n",
            "  return array(a, dtype, copy=False, order=order)\n",
            "/usr/local/lib/python3.7/dist-packages/pandas/core/internals/blocks.py:832: VisibleDeprecationWarning: Creating an ndarray from ragged nested sequences (which is a list-or-tuple of lists-or-tuples-or ndarrays with different lengths or shapes) is deprecated. If you meant to do this, you must specify 'dtype=object' when creating the ndarray\n",
            "  dtype, _ = maybe_promote(np.array(value).dtype)\n",
            "/usr/local/lib/python3.7/dist-packages/pandas/core/internals/blocks.py:849: VisibleDeprecationWarning: Creating an ndarray from ragged nested sequences (which is a list-or-tuple of lists-or-tuples-or ndarrays with different lengths or shapes) is deprecated. If you meant to do this, you must specify 'dtype=object' when creating the ndarray\n",
            "  arr_value = np.array(value)\n"
          ]
        }
      ]
    },
    {
      "cell_type": "code",
      "source": [
        "features_nn = ['GameScoresF_last32','GameScoresD_last32','OppGameScoresF_last32','OppGameScoresD_last32']\n",
        "train_df_temp = df_gameScores.loc[~df_gameScores[features_nn].isnull().max(1)]\n",
        "\n",
        "X_F_train = np.stack(train_df_temp.loc[train_df_temp['Season']<2019]['GameScoresF_last32'].values)\n",
        "X_D_train = np.stack(train_df_temp.loc[train_df_temp['Season']<2019]['GameScoresD_last32'].values)\n",
        "X_F_Opp_train = np.stack(train_df_temp.loc[train_df_temp['Season']<2019]['OppGameScoresF_last32'].values)\n",
        "X_D_Opp_train = np.stack(train_df_temp.loc[train_df_temp['Season']<2019]['OppGameScoresD_last32'].values)\n",
        "y_nn_train = train_df_temp.loc[train_df_temp['Season']<2019]['Win'].values\n",
        "\n",
        "#X_F_train = np.concatenate([np.expand_dims(X_F_train, 3), np.expand_dims(X_F_Opp_train, 3)], axis=3)\n",
        "#X_D_train = np.concatenate([np.expand_dims(X_D_train, 3), np.expand_dims(X_D_Opp_train, 3)], axis=3)\n",
        "\n",
        "X_F_test = np.stack(train_df_temp.loc[train_df_temp['Season'].isin([2019,2020])]['GameScoresF_last32'].values)\n",
        "X_D_test = np.stack(train_df_temp.loc[train_df_temp['Season'].isin([2019,2020])]['GameScoresD_last32'].values)\n",
        "X_F_Opp_test = np.stack(train_df_temp.loc[train_df_temp['Season'].isin([2019,2020])]['OppGameScoresF_last32'].values)\n",
        "X_D_Opp_test = np.stack(train_df_temp.loc[train_df_temp['Season'].isin([2019,2020])]['OppGameScoresD_last32'].values)\n",
        "y_nn_test = train_df_temp.loc[train_df_temp['Season'].isin([2019,2020])]['Win'].values\n",
        "\n",
        "#X_F_test = np.concatenate([np.expand_dims(X_F_test, 3), np.expand_dims(X_F_Opp_test, 3)], axis=3)\n",
        "#X_D_test = np.concatenate([np.expand_dims(X_D_test, 3), np.expand_dims(X_D_Opp_test, 3)], axis=3)"
      ],
      "metadata": {
        "id": "tHCzT41_mAHu"
      },
      "execution_count": null,
      "outputs": []
    },
    {
      "cell_type": "code",
      "source": [
        "def create_model_nn(F_dim, D_dim):\n",
        "    #forward channel\n",
        "    inputsF = Input(shape=F_dim, name='F')\n",
        "    conv1 = Conv2D(1, kernel_size=(8,1), activation='relu')(inputsF)\n",
        "    pool1 = AveragePooling2D(pool_size=(4,1))(conv1)\n",
        "    drop1 = Dropout(0.25)(pool1)\n",
        "    conv2 = Conv2D(1, kernel_size=(2,2), activation='relu')(drop1)\n",
        "    pool2 = AveragePooling2D(pool_size=(4,2))(conv2)\n",
        "    drop2 = Dropout(0.25)(pool2)\n",
        "    flatF = Flatten()(drop2)\n",
        "\n",
        "    #defence channel\n",
        "    inputsD = Input(shape=D_dim, name='D')\n",
        "    conv3 = Conv2D(1, kernel_size=(8,1), activation='relu')(inputsD)\n",
        "    pool3 = AveragePooling2D(pool_size=(4,1))(conv3)\n",
        "    drop3 = Dropout(0.25)(pool3)\n",
        "    conv4 = Conv2D(1, kernel_size=(2,2), activation='relu')(drop3)\n",
        "    pool4 = AveragePooling2D(pool_size=(4,2))(conv4)\n",
        "    drop4 = Dropout(0.25)(pool4)\n",
        "    flatD = Flatten()(drop4)\n",
        "\n",
        "    #forward channel opponents\n",
        "    inputsF_opp = Input(shape=F_dim, name='F_opp')\n",
        "    conv1_opp = Conv2D(1, kernel_size=(8,1), activation='relu')(inputsF_opp)\n",
        "    pool1_opp = AveragePooling2D(pool_size=(4,1))(conv1_opp)\n",
        "    drop1_opp = Dropout(0.25)(pool1_opp)\n",
        "    conv2_opp = Conv2D(1, kernel_size=(2,2), activation='relu')(drop1_opp)\n",
        "    pool2_opp = AveragePooling2D(pool_size=(4,2))(conv2_opp)\n",
        "    drop2_opp = Dropout(0.25)(pool2_opp)\n",
        "    flatF_opp = Flatten()(drop2_opp)\n",
        "\n",
        "    #defence channel opponents\n",
        "    inputsD_opp = Input(shape=D_dim, name='D_opp')\n",
        "    conv3_opp = Conv2D(1, kernel_size=(8,1), activation='relu')(inputsD_opp)\n",
        "    pool3_opp = AveragePooling2D(pool_size=(4,1))(conv3_opp)\n",
        "    drop3_opp = Dropout(0.25)(pool3_opp)\n",
        "    conv4_opp = Conv2D(1, kernel_size=(2,2), activation='relu')(drop3_opp)\n",
        "    pool4_opp = AveragePooling2D(pool_size=(4,2))(conv4_opp)\n",
        "    drop4_opp = Dropout(0.25)(pool4_opp)\n",
        "    flatD_opp = Flatten()(drop4_opp)\n",
        "\n",
        "    #merge\n",
        "    merged = concatenate([flatF,flatD,flatF_opp,flatD_opp])\n",
        "\n",
        "    #final layer\n",
        "    dense1 = Dense(8, activation='relu')(merged)\n",
        "    dense2 = Dense(8, activation='relu')(dense1)\n",
        "    outputs = Dense(1, activation='sigmoid')(dense1)\n",
        "\n",
        "    #compile\n",
        "    model = Model(inputs=[inputsF, inputsD, inputsF_opp, inputsD_opp], outputs=outputs)\n",
        "    model.compile(loss='binary_crossentropy')\n",
        "\n",
        "    return model"
      ],
      "metadata": {
        "id": "QoygXUGoyMLM"
      },
      "execution_count": null,
      "outputs": []
    },
    {
      "cell_type": "code",
      "source": [
        "model_nn = create_model_nn((32,12,1), (32,6,1))\n",
        "model_nn.fit([X_F_train,X_D_train,X_F_Opp_train,X_D_Opp_train], y_nn_train, verbose=0, epochs=100, batch_size=256)\n",
        "preds_nn = model_nn.predict([X_F_test,X_D_test,X_F_Opp_test,X_D_Opp_test])[:,0]\n",
        "print ('LogLoss score: {}'.format(str(log_loss(y_nn_test, np.clip(preds_nn, a_min=10e-5, a_max = 1-10e-5)))))\n",
        "print ('AUC score: {}'.format(str(roc_auc_score(y_nn_test, np.clip(preds_nn, a_min=10e-5, a_max = 1-10e-5)))))"
      ],
      "metadata": {
        "colab": {
          "base_uri": "https://localhost:8080/"
        },
        "id": "ClGGQUvMGFNS",
        "outputId": "e7b2d941-9dec-410e-93b7-964454033736"
      },
      "execution_count": null,
      "outputs": [
        {
          "output_type": "stream",
          "name": "stdout",
          "text": [
            "LogLoss score: 0.6836144541210107\n",
            "AUC score: 0.5792617829328774\n"
          ]
        }
      ]
    },
    {
      "cell_type": "code",
      "source": [
        "X_F_meta = np.stack(train_df_temp.loc[train_df_temp['Season']>=2019]['GameScoresF_last32'].values)\n",
        "X_D_meta = np.stack(train_df_temp.loc[train_df_temp['Season']>=2019]['GameScoresD_last32'].values)\n",
        "X_F_Opp_meta = np.stack(train_df_temp.loc[train_df_temp['Season']>=2019]['OppGameScoresF_last32'].values)\n",
        "X_D_Opp_meta = np.stack(train_df_temp.loc[train_df_temp['Season']>=2019]['OppGameScoresD_last32'].values)\n",
        "\n",
        "preds_nn_meta = model_nn.predict([X_F_meta,X_D_meta,X_F_Opp_meta,X_D_Opp_meta])[:,0]\n",
        "\n",
        "df_nn_meta_preds = train_df_temp.loc[train_df_temp['Season']>=2019][['Date','Team']]\n",
        "df_nn_meta_preds['preds_nn_meta'] = preds_nn_meta"
      ],
      "metadata": {
        "id": "BonhCrsv4Wt7"
      },
      "execution_count": null,
      "outputs": []
    },
    {
      "cell_type": "markdown",
      "source": [
        "#Ensemble"
      ],
      "metadata": {
        "id": "DF3V-rDc-sQ8"
      }
    },
    {
      "cell_type": "code",
      "source": [
        "train_df = df_all.loc[df_all['Home']==1]"
      ],
      "metadata": {
        "id": "1_OT7vaIf3RR"
      },
      "execution_count": null,
      "outputs": []
    },
    {
      "cell_type": "code",
      "source": [
        "features_elo = ['EloDiff','EloDiff_538adj','Elo','OppElo']\n",
        "\n",
        "# train/test split\n",
        "train_df_temp = train_df.loc[~train_df[features_elo].isnull().max(1)]\n",
        "X_train = train_df_temp.loc[train_df_temp['Season']<2019][features_elo].values\n",
        "X_test = train_df_temp.loc[train_df_temp['Season'].isin([2019,2020])][features_elo].values\n",
        "y_train = train_df_temp.loc[train_df_temp['Season']<2019]['Win'].values\n",
        "y_test = train_df_temp.loc[train_df_temp['Season'].isin([2019,2020])]['Win'].values\n",
        "\n",
        "# apply scaler\n",
        "scaler_elo = StandardScaler()\n",
        "X_train = scaler_elo.fit_transform(X_train)\n",
        "X_test = scaler_elo.transform(X_test)\n",
        "\n",
        "lr_elo = LogisticRegression(max_iter=1000)\n",
        "lr_elo.fit(X_train, y_train)\n",
        "preds_lr_elo = lr_elo.predict_proba(X_test)[:,1]\n",
        "print ('LogLoss score: {}'.format(str(log_loss(y_test, preds_lr_elo))))\n",
        "print ('AUC score: {}'.format(str(roc_auc_score(y_test, preds_lr_elo))))\n",
        "#0.6711898384613472"
      ],
      "metadata": {
        "colab": {
          "base_uri": "https://localhost:8080/"
        },
        "id": "gMFWJDRT_qzS",
        "outputId": "090a2df4-4b1d-4b07-e97b-6ec278704b86"
      },
      "execution_count": null,
      "outputs": [
        {
          "output_type": "stream",
          "name": "stdout",
          "text": [
            "LogLoss score: 0.6711898384613472\n",
            "AUC score: 0.6158138320898373\n"
          ]
        }
      ]
    },
    {
      "cell_type": "code",
      "source": [
        "features_last8 = []\n",
        "for c in train_df.columns:\n",
        "    if 'last8' in c:\n",
        "        features_last8.append(c)\n",
        "\n",
        "# train/test split\n",
        "train_df_temp = train_df.loc[~train_df[features_last8].isnull().max(1)]\n",
        "X_train = train_df_temp.loc[train_df_temp['Season']<2019][features_last8].values\n",
        "X_test = train_df_temp.loc[train_df_temp['Season'].isin([2019,2020])][features_last8].values\n",
        "y_train = train_df_temp.loc[train_df_temp['Season']<2019]['Win'].values\n",
        "y_test = train_df_temp.loc[train_df_temp['Season'].isin([2019,2020])]['Win'].values\n",
        "\n",
        "# apply scaler\n",
        "scaler_xgb_last8 = StandardScaler()\n",
        "X_train = scaler_xgb_last8.fit_transform(X_train)\n",
        "X_test = scaler_xgb_last8.transform(X_test)\n",
        "\n",
        "xgb_last8 = GradientBoostingClassifier(max_depth=1)\n",
        "xgb_last8.fit(X_train, y_train)\n",
        "preds_xgb_last8 = xgb_last8.predict_proba(X_test)[:,1]\n",
        "print ('LogLoss score: {}'.format(str(log_loss(y_test, preds_xgb_last8))))\n",
        "print ('AUC score: {}'.format(str(roc_auc_score(y_test, preds_xgb_last8))))\n",
        "#0.6804475734308898"
      ],
      "metadata": {
        "colab": {
          "base_uri": "https://localhost:8080/"
        },
        "id": "obwSFLw1fcpw",
        "outputId": "97d72c60-7728-4f03-8149-c15be4e3e933"
      },
      "execution_count": null,
      "outputs": [
        {
          "output_type": "stream",
          "name": "stdout",
          "text": [
            "LogLoss score: 0.6804475734308898\n",
            "AUC score: 0.5814696264861463\n"
          ]
        }
      ]
    },
    {
      "cell_type": "code",
      "source": [
        "features_last16 = []\n",
        "for c in train_df.columns:\n",
        "    if 'last16' in c:\n",
        "        features_last16.append(c)\n",
        "\n",
        "# train/test split\n",
        "train_df_temp = train_df.loc[~train_df[features_last16].isnull().max(1)]\n",
        "X_train = train_df_temp.loc[train_df_temp['Season']<2019][features_last16].values\n",
        "X_test = train_df_temp.loc[train_df_temp['Season'].isin([2019,2020])][features_last16].values\n",
        "y_train = train_df_temp.loc[train_df_temp['Season']<2019]['Win'].values\n",
        "y_test = train_df_temp.loc[train_df_temp['Season'].isin([2019,2020])]['Win'].values\n",
        "\n",
        "# apply scaler\n",
        "scaler_xgb_last16 = StandardScaler()\n",
        "X_train = scaler_xgb_last16.fit_transform(X_train)\n",
        "X_test = scaler_xgb_last16.transform(X_test)\n",
        "\n",
        "xgb_last16 = GradientBoostingClassifier(max_depth=1)\n",
        "xgb_last16.fit(X_train, y_train)\n",
        "preds_xgb_last16 = xgb_last16.predict_proba(X_test)[:,1]\n",
        "print ('LogLoss score: {}'.format(str(log_loss(y_test, preds_xgb_last16))))\n",
        "print ('AUC score: {}'.format(str(roc_auc_score(y_test, preds_xgb_last16))))\n",
        "#0.6766852089235553"
      ],
      "metadata": {
        "colab": {
          "base_uri": "https://localhost:8080/"
        },
        "id": "gPskSoqshRdk",
        "outputId": "dc4b1730-e367-45c3-c134-24e8447d17db"
      },
      "execution_count": null,
      "outputs": [
        {
          "output_type": "stream",
          "name": "stdout",
          "text": [
            "LogLoss score: 0.6766852089235553\n",
            "AUC score: 0.5928751084312758\n"
          ]
        }
      ]
    },
    {
      "cell_type": "code",
      "source": [
        "features_last32 = []\n",
        "for c in train_df.columns:\n",
        "    if 'last32' in c:\n",
        "        features_last32.append(c)\n",
        "\n",
        "# train/test split\n",
        "train_df_temp = train_df.loc[~train_df[features_last32].isnull().max(1)]\n",
        "X_train = train_df_temp.loc[train_df_temp['Season']<2019][features_last32].values\n",
        "X_test = train_df_temp.loc[train_df_temp['Season'].isin([2019,2020])][features_last32].values\n",
        "y_train = train_df_temp.loc[train_df_temp['Season']<2019]['Win'].values\n",
        "y_test = train_df_temp.loc[train_df_temp['Season'].isin([2019,2020])]['Win'].values\n",
        "\n",
        "# apply scaler\n",
        "scaler_xgb_last32 = StandardScaler()\n",
        "X_train = scaler_xgb_last32.fit_transform(X_train)\n",
        "X_test = scaler_xgb_last32.transform(X_test)\n",
        "\n",
        "xgb_last32 = GradientBoostingClassifier(max_depth=1)\n",
        "xgb_last32.fit(X_train, y_train)\n",
        "preds_xgb_last32 = xgb_last32.predict_proba(X_test)[:,1]\n",
        "print ('LogLoss score: {}'.format(str(log_loss(y_test, preds_xgb_last32))))\n",
        "print ('AUC score: {}'.format(str(roc_auc_score(y_test, preds_xgb_last32))))\n",
        "#0.6770797861560187"
      ],
      "metadata": {
        "colab": {
          "base_uri": "https://localhost:8080/"
        },
        "id": "DLKKUj0ahhvl",
        "outputId": "711e73b1-e780-4c0d-a1e4-8163fa13140b"
      },
      "execution_count": null,
      "outputs": [
        {
          "output_type": "stream",
          "name": "stdout",
          "text": [
            "LogLoss score: 0.6770797861560187\n",
            "AUC score: 0.5941231311550694\n"
          ]
        }
      ]
    },
    {
      "cell_type": "code",
      "source": [
        "features_last64 = []\n",
        "for c in train_df.columns:\n",
        "    if 'last64' in c:\n",
        "        features_last64.append(c)\n",
        "\n",
        "# train/test split\n",
        "train_df_temp = train_df.loc[~train_df[features_last64].isnull().max(1)]\n",
        "X_train = train_df_temp.loc[train_df_temp['Season']<2019][features_last64].values\n",
        "X_test = train_df_temp.loc[train_df_temp['Season'].isin([2019,2020])][features_last64].values\n",
        "y_train = train_df_temp.loc[train_df_temp['Season']<2019]['Win'].values\n",
        "y_test = train_df_temp.loc[train_df_temp['Season'].isin([2019,2020])]['Win'].values\n",
        "\n",
        "# apply scaler\n",
        "scaler_xgb_last64 = StandardScaler()\n",
        "X_train = scaler_xgb_last64.fit_transform(X_train)\n",
        "X_test = scaler_xgb_last64.transform(X_test)\n",
        "\n",
        "xgb_last64 = GradientBoostingClassifier(max_depth=1)\n",
        "xgb_last64.fit(X_train, y_train)\n",
        "preds_xgb_last64 = xgb_last64.predict_proba(X_test)[:,1]\n",
        "print ('LogLoss score: {}'.format(str(log_loss(y_test, preds_xgb_last64))))\n",
        "print ('AUC score: {}'.format(str(roc_auc_score(y_test, preds_xgb_last64))))\n",
        "#0.6756582208556394"
      ],
      "metadata": {
        "colab": {
          "base_uri": "https://localhost:8080/"
        },
        "id": "oCRC1VFfhoum",
        "outputId": "b4a24f92-96d6-4fb9-f09e-ba44d634a588"
      },
      "execution_count": null,
      "outputs": [
        {
          "output_type": "stream",
          "name": "stdout",
          "text": [
            "LogLoss score: 0.6756582208556394\n",
            "AUC score: 0.603926594152365\n"
          ]
        }
      ]
    },
    {
      "cell_type": "code",
      "source": [
        "features_lines = ['Open','OpenImpliedPct']\n",
        "\n",
        "# train/test split\n",
        "train_df_temp = train_df.loc[~train_df[features_lines].isnull().max(1)]\n",
        "X_train = train_df_temp.loc[train_df_temp['Season']<2021][features_lines].values\n",
        "X_test = train_df_temp.loc[train_df_temp['Season'].isin([2021])][features_lines].values\n",
        "y_train = train_df_temp.loc[train_df_temp['Season']<2021]['Win'].values\n",
        "y_test = train_df_temp.loc[train_df_temp['Season'].isin([2021])]['Win'].values\n",
        "\n",
        "# apply scaler\n",
        "scaler_line = StandardScaler()\n",
        "X_train = scaler_line.fit_transform(X_train)\n",
        "X_test = scaler_line.transform(X_test)\n",
        "\n",
        "lr_line = LogisticRegression(max_iter=1000)\n",
        "lr_line.fit(X_train, y_train)\n",
        "preds_lr_line = lr_line.predict_proba(X_test)[:,1]\n",
        "print ('LogLoss score: {}'.format(str(log_loss(y_test, preds_lr_line))))\n",
        "print ('AUC score: {}'.format(str(roc_auc_score(y_test, preds_lr_line))))\n",
        "#0.6706709685264426"
      ],
      "metadata": {
        "colab": {
          "base_uri": "https://localhost:8080/"
        },
        "id": "sxa38DD4iy3Z",
        "outputId": "744fda37-26ec-4311-a1a8-4319e14c4cb6"
      },
      "execution_count": null,
      "outputs": [
        {
          "output_type": "stream",
          "name": "stdout",
          "text": [
            "LogLoss score: 0.6474150197825156\n",
            "AUC score: 0.6616329116282537\n"
          ]
        }
      ]
    },
    {
      "cell_type": "code",
      "source": [
        "pickle.dump(lr_line, open('lr_line.pkl', 'wb'))\n",
        "pickle.dump(scaler_line, open('scaler_line.pkl', 'wb'))"
      ],
      "metadata": {
        "id": "uNlJGJtzChIc"
      },
      "execution_count": null,
      "outputs": []
    },
    {
      "cell_type": "code",
      "source": [
        "#combine models\n",
        "features = features_elo+features_last8+features_last16+features_last32+features_last64+features_lines\n",
        "train_df_temp = train_df.loc[~train_df[features].isnull().max(1)]\n",
        "X_meta_df = train_df_temp.loc[train_df_temp['Season']>=2019]\n",
        "\n",
        "preds_elo = lr_elo.predict_proba(scaler_elo.transform(X_meta_df[features_elo].values))[:,1]\n",
        "preds_last8 = xgb_last8.predict_proba(scaler_xgb_last8.transform(X_meta_df[features_last8].values))[:,1]\n",
        "preds_last16 = xgb_last16.predict_proba(scaler_xgb_last16.transform(X_meta_df[features_last16].values))[:,1]\n",
        "preds_last32 = xgb_last32.predict_proba(scaler_xgb_last32.transform(X_meta_df[features_last32].values))[:,1]\n",
        "preds_last64 = xgb_last64.predict_proba(scaler_xgb_last64.transform(X_meta_df[features_last64].values))[:,1]\n",
        "preds_line = lr_line.predict_proba(scaler_line.transform(X_meta_df[features_lines].values))[:,1]\n",
        "temp_df = X_meta_df.merge(df_nn_meta_preds, on=['Date','Team'], how='left')\n",
        "preds_nn = temp_df['preds_nn_meta'].values\n",
        "\n",
        "X_meta_df = X_meta_df[['Game_Id','Date','Team','Season','Opp','Win','Elo','OppElo','OpenImpliedPct']]\n",
        "X_meta_df['winPct_elo'] = preds_elo\n",
        "X_meta_df['winPct_last8'] = preds_last8\n",
        "X_meta_df['winPct_last16'] = preds_last16\n",
        "X_meta_df['winPct_last32'] = preds_last32\n",
        "X_meta_df['winPct_last64'] = preds_last64\n",
        "X_meta_df['winPct_line'] = preds_line\n",
        "X_meta_df['winPct_player_nn'] = preds_nn\n",
        "\n",
        "X_meta_df = X_meta_df.loc[~X_meta_df[['winPct_elo','winPct_last8','winPct_last16','winPct_last32','winPct_last64','winPct_line',\n",
        "                                     'winPct_player_nn']].isnull().max(1)].copy()\n",
        "y_meta = X_meta_df.loc[X_meta_df['Season']==2019]['Win'].values\n",
        "y_meta_test = X_meta_df.loc[X_meta_df['Season']==2020]['Win'].values\n",
        "\n",
        "X_meta = X_meta_df.loc[X_meta_df['Season']==2019][['winPct_elo','winPct_last8','winPct_last16','winPct_last32','winPct_last64','winPct_line',\n",
        "                                                   'winPct_player_nn']].values\n",
        "X_meta_test = X_meta_df.loc[X_meta_df['Season']==2020][['winPct_elo','winPct_last8','winPct_last16','winPct_last32','winPct_last64','winPct_line',\n",
        "                                                        'winPct_player_nn']].values\n",
        "X_meta_2021_test = X_meta_df.loc[X_meta_df['Season']==2021][['winPct_elo','winPct_last8','winPct_last16','winPct_last32','winPct_last64','winPct_line',\n",
        "                                                             'winPct_player_nn']].values"
      ],
      "metadata": {
        "id": "I-3sr718uQKM"
      },
      "execution_count": null,
      "outputs": []
    },
    {
      "cell_type": "code",
      "source": [
        "X_meta_df = X_meta_df.loc[~X_meta_df[['winPct_elo','winPct_line']].isnull().max(1)].copy()\n",
        "y_meta = X_meta_df.loc[X_meta_df['Season']==2019]['Win'].values\n",
        "y_meta_test = X_meta_df.loc[X_meta_df['Season']==2020]['Win'].values\n",
        "\n",
        "X_meta = X_meta_df.loc[X_meta_df['Season']==2019][['winPct_elo','winPct_line']].values\n",
        "X_meta_test = X_meta_df.loc[X_meta_df['Season']==2020][['winPct_elo','winPct_line']].values\n",
        "X_meta_2021_test = X_meta_df.loc[X_meta_df['Season']==2021][['winPct_elo','winPct_line']].values"
      ],
      "metadata": {
        "id": "kcDSJrnG-nA7"
      },
      "execution_count": null,
      "outputs": []
    },
    {
      "cell_type": "code",
      "source": [
        "lr_meta = LogisticRegression(max_iter=1000)\n",
        "lr_meta.fit(X_meta, y_meta)\n",
        "preds_meta = lr_meta.predict_proba(X_meta_test)[:,1]\n",
        "print ('LogLoss score: {}'.format(str(log_loss(y_meta_test, preds_meta))))\n",
        "print ('AUC score: {}'.format(str(roc_auc_score(y_meta_test, preds_meta))))\n",
        "#0.6616456184956504"
      ],
      "metadata": {
        "colab": {
          "base_uri": "https://localhost:8080/"
        },
        "id": "nFiTsIENyPqZ",
        "outputId": "ae6af74d-d659-4a94-bba6-d6928acee988"
      },
      "execution_count": null,
      "outputs": [
        {
          "output_type": "stream",
          "name": "stdout",
          "text": [
            "LogLoss score: 0.6607597339829103\n",
            "AUC score: 0.650942265795207\n"
          ]
        }
      ]
    },
    {
      "cell_type": "code",
      "source": [
        "#baseline - just based on game lines\n",
        "X_2021 = X_meta_df.loc[X_meta_df['Season']==2021]\n",
        "print ('LogLoss score: {}'.format(str(log_loss(X_2021['Win'].values, X_2021['winPct_line'].values))))\n",
        "print ('AUC score: {}'.format(str(roc_auc_score(X_2021['Win'].values, X_2021['winPct_line'].values))))\n",
        "#0.6491894740554831"
      ],
      "metadata": {
        "colab": {
          "base_uri": "https://localhost:8080/"
        },
        "id": "SYd3aSThKTfK",
        "outputId": "9c70b438-29d9-4c69-c747-d23eccf4c418"
      },
      "execution_count": null,
      "outputs": [
        {
          "output_type": "stream",
          "name": "stdout",
          "text": [
            "LogLoss score: 0.6405089875200644\n",
            "AUC score: 0.6760801144492131\n"
          ]
        }
      ]
    },
    {
      "cell_type": "code",
      "source": [
        "X_2021 = X_meta_df.loc[X_meta_df['Season']==2021]\n",
        "#X_2021['winPct'] = lr_meta.predict_proba(X_meta_2021_test)[:,1]\n",
        "#X_2021['winPct'] = X_2021['winPct_line'].copy() #1.1091120390813323!!!!\n",
        "X_2021['winPct'] = (X_2021['winPct_line'] + X_2021['winPct_elo'])/2\n",
        "X_2021['OppWinPct'] = 1 - X_2021['winPct']\n",
        "print ('LogLoss score: {}'.format(str(log_loss(X_2021['Win'].values, X_2021['winPct'].values))))\n",
        "print ('AUC score: {}'.format(str(roc_auc_score(X_2021['Win'].values, X_2021['winPct'].values))))\n",
        "#0.6405089875200644"
      ],
      "metadata": {
        "colab": {
          "base_uri": "https://localhost:8080/"
        },
        "id": "AZy8LrXp4dFx",
        "outputId": "57b106ee-cd0d-4bbc-a5d4-d3c2904d1977"
      },
      "execution_count": null,
      "outputs": [
        {
          "output_type": "stream",
          "name": "stdout",
          "text": [
            "LogLoss score: 0.643678850036709\n",
            "AUC score: 0.6714735336194564\n"
          ]
        },
        {
          "output_type": "stream",
          "name": "stderr",
          "text": [
            "/usr/local/lib/python3.7/dist-packages/ipykernel_launcher.py:4: SettingWithCopyWarning: \n",
            "A value is trying to be set on a copy of a slice from a DataFrame.\n",
            "Try using .loc[row_indexer,col_indexer] = value instead\n",
            "\n",
            "See the caveats in the documentation: https://pandas.pydata.org/pandas-docs/stable/user_guide/indexing.html#returning-a-view-versus-a-copy\n",
            "  after removing the cwd from sys.path.\n",
            "/usr/local/lib/python3.7/dist-packages/ipykernel_launcher.py:5: SettingWithCopyWarning: \n",
            "A value is trying to be set on a copy of a slice from a DataFrame.\n",
            "Try using .loc[row_indexer,col_indexer] = value instead\n",
            "\n",
            "See the caveats in the documentation: https://pandas.pydata.org/pandas-docs/stable/user_guide/indexing.html#returning-a-view-versus-a-copy\n",
            "  \"\"\"\n"
          ]
        }
      ]
    },
    {
      "cell_type": "markdown",
      "source": [
        "#2021 Lines Test"
      ],
      "metadata": {
        "id": "dj9hhOEOAaHL"
      }
    },
    {
      "cell_type": "code",
      "source": [
        "lines = pd.read_csv('lines.csv')"
      ],
      "metadata": {
        "id": "FGUrJMaDCQd0"
      },
      "execution_count": null,
      "outputs": []
    },
    {
      "cell_type": "code",
      "source": [
        "lines.columns"
      ],
      "metadata": {
        "colab": {
          "base_uri": "https://localhost:8080/"
        },
        "id": "yjiuYCtgAbxR",
        "outputId": "0d76df9e-84b9-48d8-e25b-cfd98bbe57ba"
      },
      "execution_count": null,
      "outputs": [
        {
          "output_type": "execute_result",
          "data": {
            "text/plain": [
              "Index(['Season', 'Year', 'Date', 'Team', 'Open', 'Close'], dtype='object')"
            ]
          },
          "metadata": {},
          "execution_count": 256
        }
      ]
    },
    {
      "cell_type": "code",
      "source": [
        "lines = lines.merge(df_all[['Date','Team','Win']], how='left', on=['Date','Team'])"
      ],
      "metadata": {
        "id": "P4cO4pRu0Wq4"
      },
      "execution_count": null,
      "outputs": []
    },
    {
      "cell_type": "code",
      "source": [
        "lines['ImpliedPct'] = 0.\n",
        "lines.loc[lines['Close']<0, 'ImpliedPct'] = lines.loc[lines['Close']<0, 'Close']/(lines.loc[lines['Close']<0, 'Close']-100)\n",
        "lines.loc[lines['Close']>0, 'ImpliedPct'] = 100/(100+lines.loc[lines['Close']>0, 'Close'])"
      ],
      "metadata": {
        "id": "vzcuKlyD0jB3"
      },
      "execution_count": null,
      "outputs": []
    },
    {
      "cell_type": "code",
      "source": [
        "def _calc_rel_win(lines, X_df, pct_col, pct_col_opp, line_col):\n",
        "    #combine game lines with predictions\n",
        "    home = X_df[['Date','Team',pct_col]]\n",
        "    away = X_df[['Date','Opp',pct_col_opp]]\n",
        "    away.columns = ['Date','Team',pct_col]\n",
        "    tmp_df = pd.concat([home, away], ignore_index=True)\n",
        "    tmp_df = lines.merge(tmp_df, how='inner', on=['Date','Team'])\n",
        "\n",
        "    #find all games/teams that would have been bet on\n",
        "    tmp_df = tmp_df.loc[tmp_df[pct_col]>tmp_df['ImpliedPct'], :]\n",
        "\n",
        "    #calculate ratio of win to bet, assuming a win\n",
        "    tmp_df['GainRatio'] = 0.\n",
        "    tmp_df.loc[tmp_df[line_col]<0, 'GainRatio'] = -100/tmp_df.loc[tmp_df[line_col]<0, line_col]\n",
        "    tmp_df.loc[tmp_df[line_col]>0, 'GainRatio'] = tmp_df.loc[tmp_df[line_col]>0, line_col]/100.\n",
        "\n",
        "    #calculate bet amount\n",
        "    tmp_df['NormBet'] = tmp_df[pct_col]-((1-tmp_df[pct_col])/tmp_df['GainRatio'])\n",
        "\n",
        "    #try capping bets\n",
        "    #tmp_df.loc[tmp_df['NormBet']>0.1, 'NormBet'] = 0.1\n",
        "\n",
        "    #calculate net win\n",
        "    tmp_df['NetWin'] = 0.\n",
        "    tmp_df.loc[tmp_df['Win']==1, 'NetWin'] = tmp_df.loc[tmp_df['Win']==1, 'NormBet']*tmp_df.loc[tmp_df['Win']==1, 'GainRatio']\n",
        "    tmp_df.loc[tmp_df['Win']==0, 'NetWin'] = -tmp_df.loc[tmp_df['Win']==0, 'NormBet']\n",
        "\n",
        "    return tmp_df"
      ],
      "metadata": {
        "id": "1WIHM5-iC2Oc"
      },
      "execution_count": null,
      "outputs": []
    },
    {
      "cell_type": "code",
      "source": [
        "df = _calc_rel_win(lines, df_2021, 'winPct','OppWinPct', 'Close')\n",
        "print (df['NetWin'].sum())"
      ],
      "metadata": {
        "colab": {
          "base_uri": "https://localhost:8080/"
        },
        "id": "i7UkuUlj0vgm",
        "outputId": "623d5c01-8df0-4954-aa7a-5f88a7d37d99"
      },
      "execution_count": null,
      "outputs": [
        {
          "output_type": "stream",
          "name": "stdout",
          "text": [
            "2.2971860905901904\n"
          ]
        }
      ]
    },
    {
      "cell_type": "code",
      "source": [
        "df.loc[df['Date']=='2021-10-12']"
      ],
      "metadata": {
        "colab": {
          "base_uri": "https://localhost:8080/",
          "height": 81
        },
        "id": "YRL82Aa1INzw",
        "outputId": "008611be-a6e8-4389-9658-f07a5574bd55"
      },
      "execution_count": null,
      "outputs": [
        {
          "output_type": "execute_result",
          "data": {
            "text/html": [
              "\n",
              "  <div id=\"df-b7d49442-7f44-4277-82c5-9e8666faf1ec\">\n",
              "    <div class=\"colab-df-container\">\n",
              "      <div>\n",
              "<style scoped>\n",
              "    .dataframe tbody tr th:only-of-type {\n",
              "        vertical-align: middle;\n",
              "    }\n",
              "\n",
              "    .dataframe tbody tr th {\n",
              "        vertical-align: top;\n",
              "    }\n",
              "\n",
              "    .dataframe thead th {\n",
              "        text-align: right;\n",
              "    }\n",
              "</style>\n",
              "<table border=\"1\" class=\"dataframe\">\n",
              "  <thead>\n",
              "    <tr style=\"text-align: right;\">\n",
              "      <th></th>\n",
              "      <th>Season</th>\n",
              "      <th>Year</th>\n",
              "      <th>Date</th>\n",
              "      <th>Team</th>\n",
              "      <th>Open</th>\n",
              "      <th>Close</th>\n",
              "      <th>Win</th>\n",
              "      <th>ImpliedPct</th>\n",
              "      <th>winPct</th>\n",
              "      <th>GainRatio</th>\n",
              "      <th>NormBet</th>\n",
              "      <th>NetWin</th>\n",
              "    </tr>\n",
              "  </thead>\n",
              "  <tbody>\n",
              "    <tr>\n",
              "      <th>1</th>\n",
              "      <td>2021</td>\n",
              "      <td>2021</td>\n",
              "      <td>2021-10-12</td>\n",
              "      <td>TBL</td>\n",
              "      <td>-140.0</td>\n",
              "      <td>-250</td>\n",
              "      <td>0.0</td>\n",
              "      <td>0.714286</td>\n",
              "      <td>0.72828</td>\n",
              "      <td>0.4</td>\n",
              "      <td>0.048981</td>\n",
              "      <td>-0.048981</td>\n",
              "    </tr>\n",
              "  </tbody>\n",
              "</table>\n",
              "</div>\n",
              "      <button class=\"colab-df-convert\" onclick=\"convertToInteractive('df-b7d49442-7f44-4277-82c5-9e8666faf1ec')\"\n",
              "              title=\"Convert this dataframe to an interactive table.\"\n",
              "              style=\"display:none;\">\n",
              "        \n",
              "  <svg xmlns=\"http://www.w3.org/2000/svg\" height=\"24px\"viewBox=\"0 0 24 24\"\n",
              "       width=\"24px\">\n",
              "    <path d=\"M0 0h24v24H0V0z\" fill=\"none\"/>\n",
              "    <path d=\"M18.56 5.44l.94 2.06.94-2.06 2.06-.94-2.06-.94-.94-2.06-.94 2.06-2.06.94zm-11 1L8.5 8.5l.94-2.06 2.06-.94-2.06-.94L8.5 2.5l-.94 2.06-2.06.94zm10 10l.94 2.06.94-2.06 2.06-.94-2.06-.94-.94-2.06-.94 2.06-2.06.94z\"/><path d=\"M17.41 7.96l-1.37-1.37c-.4-.4-.92-.59-1.43-.59-.52 0-1.04.2-1.43.59L10.3 9.45l-7.72 7.72c-.78.78-.78 2.05 0 2.83L4 21.41c.39.39.9.59 1.41.59.51 0 1.02-.2 1.41-.59l7.78-7.78 2.81-2.81c.8-.78.8-2.07 0-2.86zM5.41 20L4 18.59l7.72-7.72 1.47 1.35L5.41 20z\"/>\n",
              "  </svg>\n",
              "      </button>\n",
              "      \n",
              "  <style>\n",
              "    .colab-df-container {\n",
              "      display:flex;\n",
              "      flex-wrap:wrap;\n",
              "      gap: 12px;\n",
              "    }\n",
              "\n",
              "    .colab-df-convert {\n",
              "      background-color: #E8F0FE;\n",
              "      border: none;\n",
              "      border-radius: 50%;\n",
              "      cursor: pointer;\n",
              "      display: none;\n",
              "      fill: #1967D2;\n",
              "      height: 32px;\n",
              "      padding: 0 0 0 0;\n",
              "      width: 32px;\n",
              "    }\n",
              "\n",
              "    .colab-df-convert:hover {\n",
              "      background-color: #E2EBFA;\n",
              "      box-shadow: 0px 1px 2px rgba(60, 64, 67, 0.3), 0px 1px 3px 1px rgba(60, 64, 67, 0.15);\n",
              "      fill: #174EA6;\n",
              "    }\n",
              "\n",
              "    [theme=dark] .colab-df-convert {\n",
              "      background-color: #3B4455;\n",
              "      fill: #D2E3FC;\n",
              "    }\n",
              "\n",
              "    [theme=dark] .colab-df-convert:hover {\n",
              "      background-color: #434B5C;\n",
              "      box-shadow: 0px 1px 3px 1px rgba(0, 0, 0, 0.15);\n",
              "      filter: drop-shadow(0px 1px 2px rgba(0, 0, 0, 0.3));\n",
              "      fill: #FFFFFF;\n",
              "    }\n",
              "  </style>\n",
              "\n",
              "      <script>\n",
              "        const buttonEl =\n",
              "          document.querySelector('#df-b7d49442-7f44-4277-82c5-9e8666faf1ec button.colab-df-convert');\n",
              "        buttonEl.style.display =\n",
              "          google.colab.kernel.accessAllowed ? 'block' : 'none';\n",
              "\n",
              "        async function convertToInteractive(key) {\n",
              "          const element = document.querySelector('#df-b7d49442-7f44-4277-82c5-9e8666faf1ec');\n",
              "          const dataTable =\n",
              "            await google.colab.kernel.invokeFunction('convertToInteractive',\n",
              "                                                     [key], {});\n",
              "          if (!dataTable) return;\n",
              "\n",
              "          const docLinkHtml = 'Like what you see? Visit the ' +\n",
              "            '<a target=\"_blank\" href=https://colab.research.google.com/notebooks/data_table.ipynb>data table notebook</a>'\n",
              "            + ' to learn more about interactive tables.';\n",
              "          element.innerHTML = '';\n",
              "          dataTable['output_type'] = 'display_data';\n",
              "          await google.colab.output.renderOutput(dataTable, element);\n",
              "          const docLink = document.createElement('div');\n",
              "          docLink.innerHTML = docLinkHtml;\n",
              "          element.appendChild(docLink);\n",
              "        }\n",
              "      </script>\n",
              "    </div>\n",
              "  </div>\n",
              "  "
            ],
            "text/plain": [
              "   Season  Year        Date Team  ...   winPct  GainRatio   NormBet    NetWin\n",
              "1    2021  2021  2021-10-12  TBL  ...  0.72828        0.4  0.048981 -0.048981\n",
              "\n",
              "[1 rows x 12 columns]"
            ]
          },
          "metadata": {},
          "execution_count": 231
        }
      ]
    },
    {
      "cell_type": "markdown",
      "metadata": {
        "id": "s228KVm89CA6"
      },
      "source": [
        "# Training"
      ]
    },
    {
      "cell_type": "code",
      "metadata": {
        "colab": {
          "base_uri": "https://localhost:8080/"
        },
        "id": "o4RyrwOCM2Ph",
        "outputId": "fbdd51d8-ffb9-4cbe-e095-67f2eb8dc4ab"
      },
      "source": [
        "# elo benchmark\n",
        "preds_elo = 1/(10**(-X_test_df['EloDiff']/400)+1)\n",
        "print ('LogLoss score: {}'.format(str(log_loss(y_test, preds_elo))))\n",
        "print ('AUC score: {}'.format(str(roc_auc_score(y_test, preds_elo))))"
      ],
      "execution_count": null,
      "outputs": [
        {
          "output_type": "stream",
          "name": "stdout",
          "text": [
            "LogLoss score: 0.6763902260468215\n",
            "AUC score: 0.604360911576526\n"
          ]
        }
      ]
    },
    {
      "cell_type": "code",
      "metadata": {
        "colab": {
          "base_uri": "https://localhost:8080/"
        },
        "id": "47PRuqyXQyDH",
        "outputId": "8a85e055-1bc0-40f8-c53c-fb74280c137f"
      },
      "source": [
        "preds_elo = 1/(10**(-X_test_df['EloDiff_538adj']/400)+1)\n",
        "print ('LogLoss score: {}'.format(str(log_loss(y_test, preds_elo))))\n",
        "print ('AUC score: {}'.format(str(roc_auc_score(y_test, preds_elo))))"
      ],
      "execution_count": null,
      "outputs": [
        {
          "output_type": "stream",
          "name": "stdout",
          "text": [
            "LogLoss score: 0.6740140773905731\n",
            "AUC score: 0.604360911576526\n"
          ]
        }
      ]
    },
    {
      "cell_type": "code",
      "metadata": {
        "colab": {
          "base_uri": "https://localhost:8080/",
          "height": 112
        },
        "id": "3FGrFL5E7TAd",
        "outputId": "69a43da9-ba69-4f58-9bff-033730d520a7"
      },
      "source": [
        "#model_test = GradientBoostingClassifier(max_depth=1, min_samples_leaf=1000, subsample=0.7)\n",
        "model_test = LogisticRegression(max_iter=1000)\n",
        "\n",
        "param_dist = {\n",
        "    'solver' : ['liblinear'],\n",
        "    'penalty' : ['l2','l1']\n",
        "}\n",
        "#0.675321\n",
        "random_search = GridSearchCV(model_test, param_dist, scoring=['neg_log_loss','roc_auc'], refit='neg_log_loss', cv=3, return_train_score=True)\n",
        "random_search.fit(X_train, y_train)\n",
        "\n",
        "report_cols = ['mean_test_neg_log_loss','mean_test_roc_auc']+['param_'+param for param in param_dist]\n",
        "report = pd.DataFrame(random_search.cv_results_)[report_cols].sort_values(by='mean_test_neg_log_loss', ascending=False)\n",
        "report"
      ],
      "execution_count": null,
      "outputs": [
        {
          "output_type": "execute_result",
          "data": {
            "text/html": [
              "<div>\n",
              "<style scoped>\n",
              "    .dataframe tbody tr th:only-of-type {\n",
              "        vertical-align: middle;\n",
              "    }\n",
              "\n",
              "    .dataframe tbody tr th {\n",
              "        vertical-align: top;\n",
              "    }\n",
              "\n",
              "    .dataframe thead th {\n",
              "        text-align: right;\n",
              "    }\n",
              "</style>\n",
              "<table border=\"1\" class=\"dataframe\">\n",
              "  <thead>\n",
              "    <tr style=\"text-align: right;\">\n",
              "      <th></th>\n",
              "      <th>mean_test_neg_log_loss</th>\n",
              "      <th>mean_test_roc_auc</th>\n",
              "      <th>param_solver</th>\n",
              "      <th>param_penalty</th>\n",
              "    </tr>\n",
              "  </thead>\n",
              "  <tbody>\n",
              "    <tr>\n",
              "      <th>1</th>\n",
              "      <td>-0.675167</td>\n",
              "      <td>0.594961</td>\n",
              "      <td>liblinear</td>\n",
              "      <td>l1</td>\n",
              "    </tr>\n",
              "    <tr>\n",
              "      <th>0</th>\n",
              "      <td>-0.675321</td>\n",
              "      <td>0.594539</td>\n",
              "      <td>liblinear</td>\n",
              "      <td>l2</td>\n",
              "    </tr>\n",
              "  </tbody>\n",
              "</table>\n",
              "</div>"
            ],
            "text/plain": [
              "   mean_test_neg_log_loss  mean_test_roc_auc param_solver param_penalty\n",
              "1               -0.675167           0.594961    liblinear            l1\n",
              "0               -0.675321           0.594539    liblinear            l2"
            ]
          },
          "metadata": {},
          "execution_count": 26
        }
      ]
    },
    {
      "cell_type": "code",
      "metadata": {
        "colab": {
          "base_uri": "https://localhost:8080/"
        },
        "id": "r1-7ae3c9BGi",
        "outputId": "4d16e69c-f2f0-493e-cac7-565a39a3b1d9"
      },
      "source": [
        "model_gb = GradientBoostingClassifier(max_depth=1)\n",
        "model_gb.fit(X_train, y_train)\n",
        "preds_gb = model_gb.predict_proba(X_test)[:,1]\n",
        "print ('LogLoss score: {}'.format(str(log_loss(y_test, preds_gb))))\n",
        "print ('AUC score: {}'.format(str(roc_auc_score(y_test, preds_gb))))\n",
        "#.6764, max_depth=1, min_samples_leaf=1000, subsample=0.5"
      ],
      "execution_count": null,
      "outputs": [
        {
          "output_type": "stream",
          "name": "stdout",
          "text": [
            "LogLoss score: 0.6756183132835901\n",
            "AUC score: 0.6059693384984285\n"
          ]
        }
      ]
    },
    {
      "cell_type": "code",
      "metadata": {
        "colab": {
          "base_uri": "https://localhost:8080/",
          "height": 359
        },
        "id": "WutWxKWd98dj",
        "outputId": "44cd9c71-7d0c-4a34-d9ef-819919417e18"
      },
      "source": [
        "gb_features = pd.DataFrame()\n",
        "gb_features['feature'] = features\n",
        "gb_features['importance'] = model_gb.feature_importances_\n",
        "gb_features.sort_values(by='importance', ascending=False).head(10)"
      ],
      "execution_count": null,
      "outputs": [
        {
          "output_type": "execute_result",
          "data": {
            "text/html": [
              "<div>\n",
              "<style scoped>\n",
              "    .dataframe tbody tr th:only-of-type {\n",
              "        vertical-align: middle;\n",
              "    }\n",
              "\n",
              "    .dataframe tbody tr th {\n",
              "        vertical-align: top;\n",
              "    }\n",
              "\n",
              "    .dataframe thead th {\n",
              "        text-align: right;\n",
              "    }\n",
              "</style>\n",
              "<table border=\"1\" class=\"dataframe\">\n",
              "  <thead>\n",
              "    <tr style=\"text-align: right;\">\n",
              "      <th></th>\n",
              "      <th>feature</th>\n",
              "      <th>importance</th>\n",
              "    </tr>\n",
              "  </thead>\n",
              "  <tbody>\n",
              "    <tr>\n",
              "      <th>1</th>\n",
              "      <td>EloDiff</td>\n",
              "      <td>0.683369</td>\n",
              "    </tr>\n",
              "    <tr>\n",
              "      <th>0</th>\n",
              "      <td>Home</td>\n",
              "      <td>0.158023</td>\n",
              "    </tr>\n",
              "    <tr>\n",
              "      <th>11</th>\n",
              "      <td>OppxG_last32</td>\n",
              "      <td>0.030737</td>\n",
              "    </tr>\n",
              "    <tr>\n",
              "      <th>2</th>\n",
              "      <td>ShotAttempts_last8</td>\n",
              "      <td>0.022946</td>\n",
              "    </tr>\n",
              "    <tr>\n",
              "      <th>5</th>\n",
              "      <td>ShotAttempts_last16</td>\n",
              "      <td>0.021557</td>\n",
              "    </tr>\n",
              "    <tr>\n",
              "      <th>14</th>\n",
              "      <td>Goals_last64</td>\n",
              "      <td>0.019695</td>\n",
              "    </tr>\n",
              "    <tr>\n",
              "      <th>22</th>\n",
              "      <td>GameScore_median_last64</td>\n",
              "      <td>0.014531</td>\n",
              "    </tr>\n",
              "    <tr>\n",
              "      <th>23</th>\n",
              "      <td>GameScore_std_last16</td>\n",
              "      <td>0.008643</td>\n",
              "    </tr>\n",
              "    <tr>\n",
              "      <th>17</th>\n",
              "      <td>OppShotAttempts_last64</td>\n",
              "      <td>0.007674</td>\n",
              "    </tr>\n",
              "    <tr>\n",
              "      <th>7</th>\n",
              "      <td>OppShotAttempts_last16</td>\n",
              "      <td>0.007091</td>\n",
              "    </tr>\n",
              "  </tbody>\n",
              "</table>\n",
              "</div>"
            ],
            "text/plain": [
              "                    feature  importance\n",
              "1                   EloDiff    0.683369\n",
              "0                      Home    0.158023\n",
              "11             OppxG_last32    0.030737\n",
              "2        ShotAttempts_last8    0.022946\n",
              "5       ShotAttempts_last16    0.021557\n",
              "14             Goals_last64    0.019695\n",
              "22  GameScore_median_last64    0.014531\n",
              "23     GameScore_std_last16    0.008643\n",
              "17   OppShotAttempts_last64    0.007674\n",
              "7    OppShotAttempts_last16    0.007091"
            ]
          },
          "metadata": {},
          "execution_count": 71
        }
      ]
    },
    {
      "cell_type": "code",
      "metadata": {
        "colab": {
          "base_uri": "https://localhost:8080/"
        },
        "id": "aEoUGpRL-FOd",
        "outputId": "bfc9c4d1-2227-47a0-996d-dae69d15eb2c"
      },
      "source": [
        "model_lr = LogisticRegression(max_iter=1000)\n",
        "model_lr.fit(X_train, y_train)\n",
        "preds_lr = model_lr.predict_proba(X_test)[:,1]\n",
        "print ('LogLoss score: {}'.format(str(log_loss(y_test, preds_lr))))\n",
        "print ('AUC score: {}'.format(str(roc_auc_score(y_test, preds_lr))))"
      ],
      "execution_count": null,
      "outputs": [
        {
          "output_type": "stream",
          "name": "stdout",
          "text": [
            "LogLoss score: 0.6787630660770344\n",
            "AUC score: 0.5890738935171417\n"
          ]
        }
      ]
    },
    {
      "cell_type": "code",
      "metadata": {
        "colab": {
          "base_uri": "https://localhost:8080/"
        },
        "id": "8eiVMuZA_mqJ",
        "outputId": "362fe211-e27c-4dfa-8423-6f7fca87a7cb"
      },
      "source": [
        "model_rf = RandomForestClassifier()\n",
        "model_rf.fit(X_train, y_train)\n",
        "preds_rf = model_rf.predict_proba(X_test)[:,1]\n",
        "print ('LogLoss score: {}'.format(str(log_loss(y_test, preds_rf))))\n",
        "print ('AUC score: {}'.format(str(roc_auc_score(y_test, preds_rf))))"
      ],
      "execution_count": null,
      "outputs": [
        {
          "output_type": "stream",
          "name": "stdout",
          "text": [
            "LogLoss score: 0.6912985663090124\n",
            "AUC score: 0.5654997410556647\n"
          ]
        }
      ]
    },
    {
      "cell_type": "code",
      "metadata": {
        "id": "UW_-2F0pMWj7"
      },
      "source": [
        "def create_model_nn(input_dim):\n",
        "    model = Sequential()\n",
        "    model.add(Dense(256, input_dim=input_dim))\n",
        "    model.add(Activation('relu'))\n",
        "    model.add(Dropout(0.7))\n",
        "    model.add(Dense(64))\n",
        "    model.add(Activation('relu'))\n",
        "    model.add(Dropout(0.4))\n",
        "    model.add(Dense(16))\n",
        "    model.add(Activation('relu'))\n",
        "    model.add(Dropout(0.2))\n",
        "    model.add(Dense(4))\n",
        "    model.add(Activation('relu'))\n",
        "    #model.add(Dropout(0.2))\n",
        "\n",
        "    model.add(Dense(1))\n",
        "    model.add(Activation('sigmoid'))\n",
        "\n",
        "    model.compile(loss='binary_crossentropy')\n",
        "    return model"
      ],
      "execution_count": null,
      "outputs": []
    },
    {
      "cell_type": "code",
      "metadata": {
        "colab": {
          "base_uri": "https://localhost:8080/",
          "height": 236
        },
        "id": "Ui4Fz-KzMZhX",
        "outputId": "1dc2ed43-787d-43aa-feab-57f3f7ff1b6d"
      },
      "source": [
        "model_nn = create_model_nn(X_train.shape[1])\n",
        "model_nn.fit(X_train, y_train, verbose=0, epochs=100, batch_size=512)\n",
        "preds_nn = model_nn.predict(X_test)[:,0]\n",
        "print ('LogLoss score: {}'.format(str(log_loss(y_test, np.clip(preds_nn, a_min=10e-5, a_max = 1-10e-5)))))\n",
        "print ('AUC score: {}'.format(str(roc_auc_score(y_test, np.clip(preds_nn, a_min=10e-5, a_max = 1-10e-5)))))"
      ],
      "execution_count": null,
      "outputs": [
        {
          "output_type": "error",
          "ename": "NameError",
          "evalue": "ignored",
          "traceback": [
            "\u001b[0;31m---------------------------------------------------------------------------\u001b[0m",
            "\u001b[0;31mNameError\u001b[0m                                 Traceback (most recent call last)",
            "\u001b[0;32m<ipython-input-257-045775bb1a06>\u001b[0m in \u001b[0;36m<module>\u001b[0;34m()\u001b[0m\n\u001b[0;32m----> 1\u001b[0;31m \u001b[0mmodel_nn\u001b[0m \u001b[0;34m=\u001b[0m \u001b[0mcreate_model_nn\u001b[0m\u001b[0;34m(\u001b[0m\u001b[0mX_train\u001b[0m\u001b[0;34m.\u001b[0m\u001b[0mshape\u001b[0m\u001b[0;34m[\u001b[0m\u001b[0;36m1\u001b[0m\u001b[0;34m]\u001b[0m\u001b[0;34m)\u001b[0m\u001b[0;34m\u001b[0m\u001b[0;34m\u001b[0m\u001b[0m\n\u001b[0m\u001b[1;32m      2\u001b[0m \u001b[0mmodel_nn\u001b[0m\u001b[0;34m.\u001b[0m\u001b[0mfit\u001b[0m\u001b[0;34m(\u001b[0m\u001b[0mX_train\u001b[0m\u001b[0;34m,\u001b[0m \u001b[0my_train\u001b[0m\u001b[0;34m,\u001b[0m \u001b[0mverbose\u001b[0m\u001b[0;34m=\u001b[0m\u001b[0;36m0\u001b[0m\u001b[0;34m,\u001b[0m \u001b[0mepochs\u001b[0m\u001b[0;34m=\u001b[0m\u001b[0;36m100\u001b[0m\u001b[0;34m,\u001b[0m \u001b[0mbatch_size\u001b[0m\u001b[0;34m=\u001b[0m\u001b[0;36m512\u001b[0m\u001b[0;34m)\u001b[0m\u001b[0;34m\u001b[0m\u001b[0;34m\u001b[0m\u001b[0m\n\u001b[1;32m      3\u001b[0m \u001b[0mpreds_nn\u001b[0m \u001b[0;34m=\u001b[0m \u001b[0mmodel_nn\u001b[0m\u001b[0;34m.\u001b[0m\u001b[0mpredict\u001b[0m\u001b[0;34m(\u001b[0m\u001b[0mX_test\u001b[0m\u001b[0;34m)\u001b[0m\u001b[0;34m[\u001b[0m\u001b[0;34m:\u001b[0m\u001b[0;34m,\u001b[0m\u001b[0;36m0\u001b[0m\u001b[0;34m]\u001b[0m\u001b[0;34m\u001b[0m\u001b[0;34m\u001b[0m\u001b[0m\n\u001b[1;32m      4\u001b[0m \u001b[0mprint\u001b[0m \u001b[0;34m(\u001b[0m\u001b[0;34m'LogLoss score: {}'\u001b[0m\u001b[0;34m.\u001b[0m\u001b[0mformat\u001b[0m\u001b[0;34m(\u001b[0m\u001b[0mstr\u001b[0m\u001b[0;34m(\u001b[0m\u001b[0mlog_loss\u001b[0m\u001b[0;34m(\u001b[0m\u001b[0my_test\u001b[0m\u001b[0;34m,\u001b[0m \u001b[0mnp\u001b[0m\u001b[0;34m.\u001b[0m\u001b[0mclip\u001b[0m\u001b[0;34m(\u001b[0m\u001b[0mpreds_nn\u001b[0m\u001b[0;34m,\u001b[0m \u001b[0ma_min\u001b[0m\u001b[0;34m=\u001b[0m\u001b[0;36m10e-5\u001b[0m\u001b[0;34m,\u001b[0m \u001b[0ma_max\u001b[0m \u001b[0;34m=\u001b[0m \u001b[0;36m1\u001b[0m\u001b[0;34m-\u001b[0m\u001b[0;36m10e-5\u001b[0m\u001b[0;34m)\u001b[0m\u001b[0;34m)\u001b[0m\u001b[0;34m)\u001b[0m\u001b[0;34m)\u001b[0m\u001b[0;34m)\u001b[0m\u001b[0;34m\u001b[0m\u001b[0;34m\u001b[0m\u001b[0m\n\u001b[1;32m      5\u001b[0m \u001b[0mprint\u001b[0m \u001b[0;34m(\u001b[0m\u001b[0;34m'AUC score: {}'\u001b[0m\u001b[0;34m.\u001b[0m\u001b[0mformat\u001b[0m\u001b[0;34m(\u001b[0m\u001b[0mstr\u001b[0m\u001b[0;34m(\u001b[0m\u001b[0mroc_auc_score\u001b[0m\u001b[0;34m(\u001b[0m\u001b[0my_test\u001b[0m\u001b[0;34m,\u001b[0m \u001b[0mnp\u001b[0m\u001b[0;34m.\u001b[0m\u001b[0mclip\u001b[0m\u001b[0;34m(\u001b[0m\u001b[0mpreds_nn\u001b[0m\u001b[0;34m,\u001b[0m \u001b[0ma_min\u001b[0m\u001b[0;34m=\u001b[0m\u001b[0;36m10e-5\u001b[0m\u001b[0;34m,\u001b[0m \u001b[0ma_max\u001b[0m \u001b[0;34m=\u001b[0m \u001b[0;36m1\u001b[0m\u001b[0;34m-\u001b[0m\u001b[0;36m10e-5\u001b[0m\u001b[0;34m)\u001b[0m\u001b[0;34m)\u001b[0m\u001b[0;34m)\u001b[0m\u001b[0;34m)\u001b[0m\u001b[0;34m)\u001b[0m\u001b[0;34m\u001b[0m\u001b[0;34m\u001b[0m\u001b[0m\n",
            "\u001b[0;31mNameError\u001b[0m: name 'create_model_nn' is not defined"
          ]
        }
      ]
    }
  ]
}