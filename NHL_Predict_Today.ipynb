{
  "nbformat": 4,
  "nbformat_minor": 0,
  "metadata": {
    "colab": {
      "name": "NHL_Predict_Today.ipynb",
      "provenance": [],
      "collapsed_sections": [],
      "authorship_tag": "ABX9TyNTRnyGtZz1TOdkf5VvJkSp",
      "include_colab_link": true
    },
    "kernelspec": {
      "name": "python3",
      "display_name": "Python 3"
    },
    "language_info": {
      "name": "python"
    }
  },
  "cells": [
    {
      "cell_type": "markdown",
      "metadata": {
        "id": "view-in-github",
        "colab_type": "text"
      },
      "source": [
        "<a href=\"https://colab.research.google.com/github/ceb263/nhl/blob/main/NHL_Predict_Today.ipynb\" target=\"_parent\"><img src=\"https://colab.research.google.com/assets/colab-badge.svg\" alt=\"Open In Colab\"/></a>"
      ]
    },
    {
      "cell_type": "markdown",
      "metadata": {
        "id": "Yy1KmNyQ8a2w"
      },
      "source": [
        "To do:\n",
        "\n",
        "LAK not in PlayerGame for 2020-05-10 but are in teamGame\n",
        "\n",
        "Null values in train_df for game prediction model\n",
        "\n",
        "SJS missing from PlayerGame 2021-05-12\n",
        "\n",
        "Fix playerGame game_id\n",
        "\n",
        "Different loss functions?\n",
        "\n",
        "Improve use of player data\n",
        "\n",
        "Goalie sv% or goals saved vs expected?\n",
        "\n",
        "Use regular-season only for game score by player?"
      ]
    },
    {
      "cell_type": "code",
      "metadata": {
        "colab": {
          "base_uri": "https://localhost:8080/"
        },
        "id": "bLrxIifo4NFj",
        "outputId": "5770a567-c9b0-4b0a-c22e-e24494233e81"
      },
      "source": [
        "!pip install hockey_scraper"
      ],
      "execution_count": 1,
      "outputs": [
        {
          "output_type": "stream",
          "name": "stdout",
          "text": [
            "Collecting hockey_scraper\n",
            "  Downloading hockey_scraper-1.38-py3-none-any.whl (86 kB)\n",
            "\u001b[?25l\r\u001b[K     |███▉                            | 10 kB 26.1 MB/s eta 0:00:01\r\u001b[K     |███████▋                        | 20 kB 10.6 MB/s eta 0:00:01\r\u001b[K     |███████████▍                    | 30 kB 8.9 MB/s eta 0:00:01\r\u001b[K     |███████████████▏                | 40 kB 8.1 MB/s eta 0:00:01\r\u001b[K     |███████████████████             | 51 kB 4.9 MB/s eta 0:00:01\r\u001b[K     |██████████████████████▉         | 61 kB 5.2 MB/s eta 0:00:01\r\u001b[K     |██████████████████████████▋     | 71 kB 5.4 MB/s eta 0:00:01\r\u001b[K     |██████████████████████████████▍ | 81 kB 6.1 MB/s eta 0:00:01\r\u001b[K     |████████████████████████████████| 86 kB 2.5 MB/s \n",
            "\u001b[?25hRequirement already satisfied: BeautifulSoup4 in /usr/local/lib/python3.7/dist-packages (from hockey_scraper) (4.6.3)\n",
            "Requirement already satisfied: pandas in /usr/local/lib/python3.7/dist-packages (from hockey_scraper) (1.1.5)\n",
            "Requirement already satisfied: lxml in /usr/local/lib/python3.7/dist-packages (from hockey_scraper) (4.2.6)\n",
            "Requirement already satisfied: html5lib in /usr/local/lib/python3.7/dist-packages (from hockey_scraper) (1.0.1)\n",
            "Requirement already satisfied: requests in /usr/local/lib/python3.7/dist-packages (from hockey_scraper) (2.23.0)\n",
            "Requirement already satisfied: pytest in /usr/local/lib/python3.7/dist-packages (from hockey_scraper) (3.6.4)\n",
            "Requirement already satisfied: webencodings in /usr/local/lib/python3.7/dist-packages (from html5lib->hockey_scraper) (0.5.1)\n",
            "Requirement already satisfied: six>=1.9 in /usr/local/lib/python3.7/dist-packages (from html5lib->hockey_scraper) (1.15.0)\n",
            "Requirement already satisfied: python-dateutil>=2.7.3 in /usr/local/lib/python3.7/dist-packages (from pandas->hockey_scraper) (2.8.2)\n",
            "Requirement already satisfied: numpy>=1.15.4 in /usr/local/lib/python3.7/dist-packages (from pandas->hockey_scraper) (1.19.5)\n",
            "Requirement already satisfied: pytz>=2017.2 in /usr/local/lib/python3.7/dist-packages (from pandas->hockey_scraper) (2018.9)\n",
            "Requirement already satisfied: py>=1.5.0 in /usr/local/lib/python3.7/dist-packages (from pytest->hockey_scraper) (1.11.0)\n",
            "Requirement already satisfied: setuptools in /usr/local/lib/python3.7/dist-packages (from pytest->hockey_scraper) (57.4.0)\n",
            "Requirement already satisfied: pluggy<0.8,>=0.5 in /usr/local/lib/python3.7/dist-packages (from pytest->hockey_scraper) (0.7.1)\n",
            "Requirement already satisfied: attrs>=17.4.0 in /usr/local/lib/python3.7/dist-packages (from pytest->hockey_scraper) (21.4.0)\n",
            "Requirement already satisfied: atomicwrites>=1.0 in /usr/local/lib/python3.7/dist-packages (from pytest->hockey_scraper) (1.4.0)\n",
            "Requirement already satisfied: more-itertools>=4.0.0 in /usr/local/lib/python3.7/dist-packages (from pytest->hockey_scraper) (8.12.0)\n",
            "Requirement already satisfied: certifi>=2017.4.17 in /usr/local/lib/python3.7/dist-packages (from requests->hockey_scraper) (2021.10.8)\n",
            "Requirement already satisfied: chardet<4,>=3.0.2 in /usr/local/lib/python3.7/dist-packages (from requests->hockey_scraper) (3.0.4)\n",
            "Requirement already satisfied: urllib3!=1.25.0,!=1.25.1,<1.26,>=1.21.1 in /usr/local/lib/python3.7/dist-packages (from requests->hockey_scraper) (1.24.3)\n",
            "Requirement already satisfied: idna<3,>=2.5 in /usr/local/lib/python3.7/dist-packages (from requests->hockey_scraper) (2.10)\n",
            "Installing collected packages: hockey-scraper\n",
            "Successfully installed hockey-scraper-1.38\n"
          ]
        }
      ]
    },
    {
      "cell_type": "code",
      "metadata": {
        "id": "g7dIWWek4T3i"
      },
      "source": [
        "import hockey_scraper\n",
        "import pandas as pd\n",
        "import numpy as np\n",
        "import pickle\n",
        "from datetime import date, timedelta\n",
        "from sklearn.metrics import log_loss, roc_auc_score"
      ],
      "execution_count": 2,
      "outputs": []
    },
    {
      "cell_type": "code",
      "metadata": {
        "id": "SITWbqXp4Zk8"
      },
      "source": [
        "today = date.today()\n",
        "yesterday = today - timedelta(days=1)"
      ],
      "execution_count": 3,
      "outputs": []
    },
    {
      "cell_type": "code",
      "metadata": {
        "id": "Zz6aXoYu9Hs5"
      },
      "source": [
        "#pbp = hockey_scraper.scrape_seasons([2021], False, data_format='Pandas')"
      ],
      "execution_count": 4,
      "outputs": []
    },
    {
      "cell_type": "code",
      "metadata": {
        "id": "QXknCbWM4-UU",
        "colab": {
          "base_uri": "https://localhost:8080/"
        },
        "outputId": "41765063-e0e9-4ef4-fb86-4205244d22bf"
      },
      "source": [
        "pbp = hockey_scraper.scrape_date_range(\"2022-01-18\", yesterday.strftime('%Y-%m-%d'), False, data_format='Pandas')\n",
        "today_df = hockey_scraper.scrape_schedule(today.strftime('%Y-%m-%d'), today.strftime('%Y-%m-%d'))"
      ],
      "execution_count": 5,
      "outputs": [
        {
          "output_type": "stream",
          "name": "stdout",
          "text": [
            "Scraping Game  2021020340 2022-01-18\n",
            "Scraping Game  2021020691 2022-01-18\n",
            "Scraping Game  2021020692 2022-01-18\n",
            "Scraping Game  2021020695 2022-01-18\n"
          ]
        },
        {
          "output_type": "stream",
          "name": "stderr",
          "text": [
            "\u001b[0;33mWarning: The number of rows in the Html and json pbp are different because someone fucked up. Will instead merge on Period, Event, Time, and p1_id.\n",
            "\u001b[0m"
          ]
        },
        {
          "output_type": "stream",
          "name": "stdout",
          "text": [
            "Scraping Game  2021020696 2022-01-18\n",
            "Scraping Game  2021020697 2022-01-18\n",
            "Scraping Game  2021020698 2022-01-18\n",
            "Scraping Game  2021020700 2022-01-18\n",
            "\n",
            "Scraping the schedule between 2022-01-19 and 2022-01-19\n"
          ]
        }
      ]
    },
    {
      "cell_type": "code",
      "metadata": {
        "id": "aCAMdGUGA2eB"
      },
      "source": [
        "pbp = pbp['pbp']\n",
        "pbp['Season'] = 2021\n",
        "\n",
        "pbp['Empty_Net'] = (pbp['Away_Goalie'].isnull()) | (pbp['Home_Goalie'].isnull())\n",
        "\n",
        "# fix team names\n",
        "pbp['Ev_Team'] = pbp['Ev_Team'].replace({'PHX':'ARI', 'S.J':'SJS', 'L.A':'LAK', 'T.B':'TBL', 'N.J':'NJD'})\n",
        "pbp['Home_Team'] = pbp['Home_Team'].replace({'PHX':'ARI', 'S.J':'SJS', 'L.A':'LAK', 'T.B':'TBL', 'N.J':'NJD'})\n",
        "pbp['Away_Team'] = pbp['Away_Team'].replace({'PHX':'ARI', 'S.J':'SJS', 'L.A':'LAK', 'T.B':'TBL', 'N.J':'NJD'})\n",
        "\n",
        "# remove null location data\n",
        "pbp = pbp.loc[~pbp['xC'].isnull()]\n",
        "pbp = pbp.loc[~pbp['yC'].isnull()]\n",
        "\n",
        "# get previous event time and location\n",
        "pbp = pbp.sort_values(by=['Game_Id','Period','Seconds_Elapsed'])\n",
        "pbp['prev_Game_Id'] = pbp['Game_Id'].shift(1)\n",
        "pbp['prev_Period'] = pbp['Period'].shift(1)\n",
        "pbp['keepPrev'] = ((pbp['prev_Game_Id']==pbp['Game_Id']) & (pbp['prev_Period']==pbp['Period'])).astype(int)\n",
        "pbp['prev_Event'] = pbp['Event'].shift(1)\n",
        "pbp['prev_Seconds_Elapsed'] = pbp['Seconds_Elapsed'].shift(1)\n",
        "pbp['prev_xC'] = pbp['xC'].shift(1)\n",
        "pbp['prev_yC'] = pbp['yC'].shift(1)\n",
        "pbp.at[pbp['keepPrev']==0, ['prev_Event']] = np.NaN\n",
        "pbp.at[pbp['keepPrev']==0, ['prev_Seconds_Elapsed','prev_xC','prev_yC']] = 0.\n",
        "#pbp = pbp.loc[~pbp['prev_Event'].isnull()]\n",
        "\n",
        "# get time elapsed, and distance from previous event\n",
        "pbp['timeSincePrev'] = pbp['Seconds_Elapsed'] - pbp['prev_Seconds_Elapsed']\n",
        "pbp['distanceSincePrev'] = np.sqrt(np.square(pbp['xC']-pbp['prev_xC']) + np.square(pbp['yC']-pbp['prev_yC']))\n",
        "pbp['yDistanceSincePrev'] = np.abs(pbp['yC'] - pbp['prev_yC'])\n",
        "\n",
        "# remove invalid data\n",
        "#pbp = pbp.loc[(pbp['timeSincePrev']>0) | (pbp['timeSincePrev'].isnull())]\n",
        "\n",
        "# filter for only shots and shot attempts\n",
        "pbp = pbp.loc[pbp['Event'].isin(['BLOCK','MISS','SHOT','GOAL'])]\n",
        "\n",
        "# filter for only most common game states\n",
        "pbp = pbp.loc[pbp['Strength'].isin(['5x5','4x5','3x5','5x4','4x4','5x3','4x3','6x5','5x6','3x4','3x3'])]\n",
        "\n",
        "# field for whether the shooting team has an empty net to shoot at\n",
        "pbp['ShotIntoEmptyNet'] = (((pbp['Ev_Team']==pbp['Home_Team']) & pbp['Away_Goalie'].isnull()) | ((pbp['Ev_Team']==pbp['Away_Team']) & pbp['Home_Goalie'].isnull())).astype(int)\n",
        "\n",
        "# get previous shot time and location, and then calculate derived metrics\n",
        "pbp['prevShot_Game_Id'] = pbp['Game_Id'].shift(1)\n",
        "pbp['prevShot_Period'] = pbp['Period'].shift(1)\n",
        "pbp['keepPrevShot'] = ((pbp['prevShot_Game_Id']==pbp['Game_Id']) & (pbp['prevShot_Period']==pbp['Period'])).astype(int)\n",
        "pbp['prevShot_Seconds_Elapsed'] = pbp['Seconds_Elapsed'].shift(1)\n",
        "pbp['prevShot_xC'] = pbp['xC'].shift(1)\n",
        "pbp['prevShot_yC'] = pbp['yC'].shift(1)\n",
        "pbp['prevShot_Ev_Team'] = pbp['Ev_Team'].shift(1)\n",
        "pbp['prevShot_sameTeam'] = (pbp['prevShot_Ev_Team']==pbp['Ev_Team']).astype(int)\n",
        "pbp.at[pbp['keepPrevShot']==0, ['prevShot_Seconds_Elapsed','prevShot_xC','prevShot_yC','prevShot_Ev_Team']] = np.NaN\n",
        "pbp['timeSincePrevShot'] = pbp['Seconds_Elapsed'] - pbp['prevShot_Seconds_Elapsed']\n",
        "pbp['distanceSincePrevShot'] = np.sqrt(np.square(pbp['xC']-pbp['prevShot_xC']) + np.square(pbp['yC']-pbp['prevShot_yC']))\n",
        "pbp['yDistanceSincePrevShot'] = np.abs(pbp['yC'] - pbp['prevShot_yC'])\n",
        "\n",
        "# adjust shot locations so everything is on the same side of the ice\n",
        "# TODO this isn't quite right - shots from the D zone (into an empty net, for example), will not be adjusted correctly\n",
        "pbp['loc_adjust_factor'] = (((pbp['xC']>0).astype(int).astype(float)) - 0.5) * 2\n",
        "pbp['x_adj'] = pbp['xC']*pbp['loc_adjust_factor']\n",
        "pbp['y_adj'] = pbp['yC']*pbp['loc_adjust_factor']\n",
        "pbp['prev_loc_adjust_factor'] = (((pbp['prev_xC']>0).astype(int).astype(float)) - 0.5) * 2\n",
        "pbp['prev_x_adj'] = pbp['prev_xC']*pbp['prev_loc_adjust_factor']\n",
        "pbp['prev_y_adj'] = pbp['prev_yC']*pbp['prev_loc_adjust_factor']\n",
        "pbp['prevShot_loc_adjust_factor'] = (((pbp['prevShot_xC']>0).astype(int).astype(float)) - 0.5) * 2\n",
        "pbp['prevShot_x_adj'] = pbp['prevShot_xC']*pbp['prevShot_loc_adjust_factor']\n",
        "pbp['prevShot_y_adj'] = pbp['prevShot_yC']*pbp['prevShot_loc_adjust_factor']\n",
        "\n",
        "# fill nulls\n",
        "pbp[['prevShot_Seconds_Elapsed','prevShot_yC','prevShot_y_adj','prevShot_xC']] = \\\n",
        "    pbp[['prevShot_Seconds_Elapsed','prevShot_yC','prevShot_y_adj','prevShot_xC']].fillna(0)\n",
        "pbp[['prevShot_x_adj','distanceSincePrevShot','yDistanceSincePrevShot']] = pbp[['prevShot_x_adj','distanceSincePrevShot','yDistanceSincePrevShot']].fillna(-1)\n",
        "pbp[['timeSincePrevShot']] = pbp[['timeSincePrevShot']].fillna(1200)\n",
        "\n",
        "# fix time since prev shot if prev shot was in another period\n",
        "pbp.at[pbp['timeSincePrevShot']<0, 'timeSincePrevShot'] = 1200\n",
        "\n",
        "# adjust score to be score for and against, instead of home and away\n",
        "pbp['homeTeamShot'] = (pbp['Home_Team']==pbp['Ev_Team']).astype(int)\n",
        "pbp['scoreFor'] = (pbp['Home_Score']*pbp['homeTeamShot']) + (pbp['Away_Score']*(1-pbp['homeTeamShot']))\n",
        "pbp['scoreAgainst'] = (pbp['Away_Score']*pbp['homeTeamShot']) + (pbp['Home_Score']*(1-pbp['homeTeamShot']))\n",
        "pbp['scoreDiff'] = pbp['scoreFor'] - pbp['scoreAgainst']\n",
        "\n",
        "# add target variable\n",
        "pbp['goal'] = (pbp['Event']=='GOAL').astype(int)"
      ],
      "execution_count": 6,
      "outputs": []
    },
    {
      "cell_type": "code",
      "metadata": {
        "id": "BNH0O5BmOE0t"
      },
      "source": [
        "mean_encodings = pickle.load(open('xG_mean_encodings.pkl', 'rb'))"
      ],
      "execution_count": 7,
      "outputs": []
    },
    {
      "cell_type": "code",
      "metadata": {
        "id": "5C2U37NZSkpr"
      },
      "source": [
        "pbp['Strength_meanEnc'] = pbp['Strength'].map(mean_encodings['strength'])\n",
        "pbp['Ev_Zone_meanEnc'] = pbp['Ev_Zone'].map(mean_encodings['zone'])\n",
        "pbp['Type_meanEnc'] = pbp['Type'].map(mean_encodings['type'])\n",
        "pbp['prev_Event_meanEnc'] = pbp['prev_Event'].map(mean_encodings['prevEvent'])"
      ],
      "execution_count": 8,
      "outputs": []
    },
    {
      "cell_type": "code",
      "metadata": {
        "id": "YRTWLUIQS2uX",
        "colab": {
          "base_uri": "https://localhost:8080/"
        },
        "outputId": "87f2152c-ceec-4e57-aeb0-d130bc3763c9"
      },
      "source": [
        "xg_scaler = pickle.load(open('xG_scaler.pkl', 'rb'))"
      ],
      "execution_count": 9,
      "outputs": [
        {
          "output_type": "stream",
          "name": "stderr",
          "text": [
            "Trying to unpickle estimator StandardScaler from version 0.22.2.post1 when using version 1.0.2. This might lead to breaking code or invalid results. Use at your own risk. For more info please refer to:\n",
            "https://scikit-learn.org/stable/modules/model_persistence.html#security-maintainability-limitations\n",
            "\u001b[0m"
          ]
        }
      ]
    },
    {
      "cell_type": "code",
      "metadata": {
        "id": "3Bqf88RfTHub",
        "colab": {
          "base_uri": "https://localhost:8080/"
        },
        "outputId": "3f07ccdf-4be0-4916-c1fd-145910445071"
      },
      "source": [
        "xg_model = pickle.load(open('xG_gb.pkl', 'rb'))"
      ],
      "execution_count": 10,
      "outputs": [
        {
          "output_type": "stream",
          "name": "stderr",
          "text": [
            "Trying to unpickle estimator DummyClassifier from version 0.22.2.post1 when using version 1.0.2. This might lead to breaking code or invalid results. Use at your own risk. For more info please refer to:\n",
            "https://scikit-learn.org/stable/modules/model_persistence.html#security-maintainability-limitations\n",
            "\u001b[0mTrying to unpickle estimator DecisionTreeRegressor from version 0.22.2.post1 when using version 1.0.2. This might lead to breaking code or invalid results. Use at your own risk. For more info please refer to:\n",
            "https://scikit-learn.org/stable/modules/model_persistence.html#security-maintainability-limitations\n",
            "\u001b[0mTrying to unpickle estimator GradientBoostingClassifier from version 0.22.2.post1 when using version 1.0.2. This might lead to breaking code or invalid results. Use at your own risk. For more info please refer to:\n",
            "https://scikit-learn.org/stable/modules/model_persistence.html#security-maintainability-limitations\n",
            "\u001b[0m"
          ]
        }
      ]
    },
    {
      "cell_type": "code",
      "metadata": {
        "id": "4spmspHZS11w"
      },
      "source": [
        "features = ['Period','Seconds_Elapsed','scoreDiff','yC','prev_Seconds_Elapsed','timeSincePrev','distanceSincePrev',\n",
        "           'prevShot_Seconds_Elapsed','prevShot_sameTeam','timeSincePrevShot','ShotIntoEmptyNet',\n",
        "           'x_adj','y_adj','Strength_meanEnc','Ev_Zone_meanEnc','Type_meanEnc']\n",
        "xg_x = xg_scaler.transform(pbp[features].values)\n",
        "pbp['xG'] = xg_model.predict_proba(xg_x)[:,1]"
      ],
      "execution_count": 11,
      "outputs": []
    },
    {
      "cell_type": "markdown",
      "metadata": {
        "id": "5heNWfcmfZAN"
      },
      "source": [
        "# Team Aggregation"
      ]
    },
    {
      "cell_type": "code",
      "metadata": {
        "id": "7kaFyXFCOB5L"
      },
      "source": [
        "# calculate some stats in the disaggregated data\n",
        "pbp['Goals'] = ((pbp['Event'] == 'GOAL') & (pbp['Seconds_Elapsed']!=0)).astype(np.int16)\n",
        "pbp['Shootout_Goals'] = ((pbp['Event'] == 'GOAL') & (pbp['Seconds_Elapsed']==0)).astype(np.int16)\n",
        "pbp['Shots'] = ((pbp['Event'].isin(['SHOT','GOAL'])) & (pbp['Seconds_Elapsed']!=0)).astype(np.int16)\n",
        "pbp['ShotAttempts'] = ((pbp['Event'].isin(['SHOT','MISS','GOAL','BLOCK'])) & (pbp['Seconds_Elapsed']!=0)).astype(np.int16)\n",
        "pbp['Goals_5v5'] = ((pbp['Event'] == 'GOAL') & (pbp['Strength']=='5x5')).astype(np.int16)\n",
        "pbp['Shots_5v5'] = ((pbp['Event'].isin(['SHOT','GOAL'])) & (pbp['Strength']=='5x5')).astype(np.int16)\n",
        "pbp['ShotAttempts_5v5'] = ((pbp['Event'].isin(['SHOT','MISS','GOAL','BLOCK'])) & (pbp['Strength']=='5x5')).astype(np.int16)\n",
        "pbp['xG_5v5'] = np.nan\n",
        "pbp.loc[pbp['Strength']=='5x5', 'xG_5v5'] = pbp.loc[pbp['Strength']=='5x5']['xG']\n",
        "pbp['Penalties'] = (pbp['Event'] == 'PENL').astype(np.int16)\n",
        "pbp['Home'] = (pbp['Ev_Team']==pbp['Home_Team']).astype(np.int16)\n",
        "\n",
        "# create aggregate\n",
        "teamGame = pbp[[\n",
        "        'Game_Id','Date','Ev_Team','Season','Goals','Shootout_Goals','Shots','ShotAttempts','xG','Goals_5v5','Shots_5v5','ShotAttempts_5v5','xG_5v5','Penalties','Home'\n",
        "    ]].groupby([\n",
        "        'Game_Id','Date','Ev_Team','Season'\n",
        "    ]).agg({\n",
        "        'Goals' : 'sum',\n",
        "        'Shootout_Goals' : 'sum',\n",
        "        'Shots' : 'sum',\n",
        "        'ShotAttempts' : 'sum',\n",
        "        'xG' : 'sum',\n",
        "        'Goals_5v5' : 'sum',\n",
        "        'Shots_5v5' : 'sum',\n",
        "        'ShotAttempts_5v5' : 'sum',\n",
        "        'xG_5v5' : 'sum',\n",
        "        'Penalties' : 'sum',\n",
        "        'Home' : 'max'\n",
        "    }).reset_index()\n",
        "teamGame = teamGame.rename(columns={'Ev_Team':'Team'})\n",
        "teamGame = teamGame.fillna(0)\n",
        "\n",
        "# add win column\n",
        "df_temp = teamGame.groupby(['Game_Id','Date']).agg({'Goals':'max', 'Shootout_Goals':'max'}).reset_index()\n",
        "df_temp = df_temp.rename(columns={'Goals':'winGoals', 'Shootout_Goals':'winShootoutGoals'})\n",
        "teamGame = teamGame.merge(df_temp, on=['Game_Id','Date'])\n",
        "del df_temp\n",
        "teamGame['Win'] = ((teamGame['Goals']==teamGame['winGoals']) & (teamGame['Shootout_Goals']==teamGame['winShootoutGoals'])).astype(np.int16)\n",
        "teamGame = teamGame.drop(['Shootout_Goals','winGoals','winShootoutGoals'],1)\n",
        "\n",
        "# add field for whether this is a playoff game or not\n",
        "teamGame['DateInt'] = teamGame['Date'].str.replace('-','').astype(np.int64)\n",
        "teamGame['teamGameRank'] = teamGame.groupby(['Team'])['DateInt'].rank(\"dense\")\n",
        "teamGame['Playoffs'] = (teamGame['teamGameRank']>82).astype(np.int8)\n",
        "teamGame.loc[(teamGame['Season']==2012)&(teamGame['teamGameRank']>48),'Playoffs'] = 1 #fix for the lockout-shortened season\n",
        "teamGame.loc[(teamGame['Season']==2019)&(teamGame['Date']>'2020-03-12'),'Playoffs'] = 1 #fix for the first covid-shortened season\n",
        "teamGame.loc[(teamGame['Season']==2020)&(teamGame['teamGameRank']>56),'Playoffs'] = 1 #fix for the second covid-shortened season\n",
        "\n",
        "teamGame = teamGame.loc[teamGame['Team'].str.len()==3]\n",
        "\n",
        "teamGame = teamGame.sort_values(by=['DateInt','Game_Id'])\n",
        "teamGame['Game_Id'] = (teamGame['Season'].astype(str) + teamGame['Game_Id'].astype(str)).astype(np.int64)"
      ],
      "execution_count": 12,
      "outputs": []
    },
    {
      "cell_type": "code",
      "metadata": {
        "id": "dMsTNUTsJCwU"
      },
      "source": [
        "teamGameOld = pd.read_csv('teamGame.gz')\n",
        "#teamGameOld = teamGameOld.loc[teamGameOld['Date']<\"2022-01-13\"]"
      ],
      "execution_count": 13,
      "outputs": []
    },
    {
      "cell_type": "code",
      "source": [
        "teamGameOld['Date'].max()"
      ],
      "metadata": {
        "colab": {
          "base_uri": "https://localhost:8080/",
          "height": 35
        },
        "id": "xus6H4xQYGnS",
        "outputId": "362f84de-34ff-4379-c6ce-1aa51be75a0d"
      },
      "execution_count": 14,
      "outputs": [
        {
          "output_type": "execute_result",
          "data": {
            "application/vnd.google.colaboratory.intrinsic+json": {
              "type": "string"
            },
            "text/plain": [
              "'2022-01-17'"
            ]
          },
          "metadata": {},
          "execution_count": 14
        }
      ]
    },
    {
      "cell_type": "code",
      "source": [
        "#teamGame = teamGameOld.copy()"
      ],
      "metadata": {
        "id": "qBONYEPtcPEg"
      },
      "execution_count": 15,
      "outputs": []
    },
    {
      "cell_type": "code",
      "metadata": {
        "id": "SVWqrKX9necm"
      },
      "source": [
        "today_home = today_df[['game_id','date','home_team']].copy()\n",
        "today_home.columns = ['Game_Id','Date','Team']\n",
        "today_home['Home'] = 1\n",
        "today_away = today_df[['game_id','date','away_team']].copy()\n",
        "today_away.columns = ['Game_Id','Date','Team']\n",
        "today_away['Home'] = 0\n",
        "today_df = pd.concat([today_home, today_away], ignore_index=True)\n",
        "today_df['Team'] = today_df['Team'].replace({'PHX':'ARI', 'S.J':'SJS', 'L.A':'LAK', 'T.B':'TBL', 'N.J':'NJD'})\n",
        "today_df['Season'] = today_df['Game_Id'].astype(str).str[:4].astype(int)"
      ],
      "execution_count": 16,
      "outputs": []
    },
    {
      "cell_type": "code",
      "metadata": {
        "id": "yyLPrAGynOCU"
      },
      "source": [
        "teamGame = pd.concat([teamGame, today_df], ignore_index=True)\n",
        "#teamGame = today_df.copy()\n",
        "\n",
        "teamGame['DateInt'] = teamGame['Date'].str.replace('-','').astype(np.int64)\n",
        "teamGame['teamGameRank'] = teamGame.groupby(['Team'])['DateInt'].rank(\"dense\")"
      ],
      "execution_count": 17,
      "outputs": []
    },
    {
      "cell_type": "code",
      "metadata": {
        "id": "cmazzcEaN8cu"
      },
      "source": [
        "latestGames = teamGameOld.loc[teamGameOld['Game_Id'].isin(teamGameOld.groupby(['Team']).agg({'Game_Id':'max'})['Game_Id'])]"
      ],
      "execution_count": 18,
      "outputs": []
    },
    {
      "cell_type": "code",
      "metadata": {
        "id": "tO4BFuEbXEKm"
      },
      "source": [
        "latestRanks = latestGames.groupby('Team').agg({'teamGameRankOverall':'max'})\n",
        "latestRanks = latestRanks.to_dict()['teamGameRankOverall']"
      ],
      "execution_count": 19,
      "outputs": []
    },
    {
      "cell_type": "code",
      "metadata": {
        "colab": {
          "base_uri": "https://localhost:8080/"
        },
        "id": "CYXhb4AZWIrz",
        "outputId": "7589125d-fdbc-44dd-c0f8-281ad508432b"
      },
      "source": [
        "teamGame['latestRank'] = teamGame['Team'].map(latestRanks)\n",
        "teamGame['teamGameRankOverall'] = teamGame['teamGameRank'] + teamGame['latestRank'].fillna(0)\n",
        "teamGame = teamGame.drop('latestRank',1)\n",
        "teamGame['Elo'] = np.nan\n",
        "teamGame['keep'] = True\n",
        "latestGames['keep'] = False\n",
        "\n",
        "teamGame = pd.concat([latestGames,teamGame], ignore_index=True)"
      ],
      "execution_count": 20,
      "outputs": [
        {
          "output_type": "stream",
          "name": "stderr",
          "text": [
            "\n",
            "A value is trying to be set on a copy of a slice from a DataFrame.\n",
            "Try using .loc[row_indexer,col_indexer] = value instead\n",
            "\n",
            "See the caveats in the documentation: https://pandas.pydata.org/pandas-docs/stable/user_guide/indexing.html#returning-a-view-versus-a-copy\n",
            "\u001b[0m"
          ]
        }
      ]
    },
    {
      "cell_type": "code",
      "metadata": {
        "id": "tYG8FMhfcvum"
      },
      "source": [
        "for s in teamGame.loc[teamGame['keep']]['Season'].unique():\n",
        "    teamGameRankStarts = teamGame.loc[(~teamGame['keep']) & (teamGame['Season']==s)].groupby('Team').agg({'teamGameRank':'max'})\n",
        "    teamGameRankStarts = teamGameRankStarts.to_dict()['teamGameRank']\n",
        "    teamGame.loc[(teamGame['keep']) & (teamGame['Season']==s), 'teamGameRank'] = teamGame.loc[(teamGame['keep']) & (teamGame['Season']==s), 'teamGameRank'] + \\\n",
        "        teamGame['Team'].map(teamGameRankStarts)"
      ],
      "execution_count": 21,
      "outputs": []
    },
    {
      "cell_type": "code",
      "metadata": {
        "id": "QuRq-RfaMoxr"
      },
      "source": [
        "# add elo ratings\n",
        "# https://fivethirtyeight.com/methodology/how-our-nhl-predictions-work/\n",
        "teamGame = teamGame.sort_values(by=['DateInt','Game_Id'])\n",
        "teamGame.loc[(teamGame['teamGameRankOverall']==1)&(teamGame['Elo'].isnull()),'Elo'] = 1500\n",
        "for gid in teamGame['Game_Id'].unique():\n",
        "    game_df = teamGame.loc[teamGame['Game_Id']==gid].copy()\n",
        "    elo_1 = game_df['Elo'].iloc[0]\n",
        "    elo_2 = game_df['Elo'].iloc[1]\n",
        "    if game_df['teamGameRank'].iloc[0]==1:\n",
        "        elo_1 = (elo_1*0.7) + (1505*0.3)\n",
        "        teamGame.loc[(teamGame['Team']==game_df['Team'].iloc[0]) & (teamGame['teamGameRankOverall']==game_df['teamGameRankOverall'].iloc[0]), 'Elo'] = elo_1\n",
        "    if game_df['teamGameRank'].iloc[1]==1:\n",
        "        elo_2 = (elo_2*0.7) + (1505*0.3)\n",
        "        teamGame.loc[(teamGame['Team']==game_df['Team'].iloc[1]) & (teamGame['teamGameRankOverall']==game_df['teamGameRankOverall'].iloc[1]), 'Elo'] = elo_2\n",
        "    p_1 = 1/(10**((elo_2-elo_1)/400)+1)\n",
        "    p_2 = 1/(10**((elo_1-elo_2)/400)+1)\n",
        "    win_1 = game_df['Win'].iloc[0]\n",
        "    win_2 = game_df['Win'].iloc[1]\n",
        "    victoryMarginMultiplier_1 = 0.6686 * np.log(np.max([np.abs(game_df['Goals'].iloc[0]-game_df['Goals'].iloc[1]),1])) + 0.8048\n",
        "    victoryMarginMultiplier_2 = 0.6686 * np.log(np.max([np.abs(game_df['Goals'].iloc[1]-game_df['Goals'].iloc[0]),1])) + 0.8048\n",
        "    if elo_1>elo_2 and win_1==1:\n",
        "        autoAdjust_1 = 2.05/((elo_1-elo_2) * 0.001 + 2.05)\n",
        "        autoAdjust_2 = 1\n",
        "    elif elo_2>elo_1 and win_2==1:\n",
        "        autoAdjust_2 = 2.05/((elo_1-elo_2) * 0.001 + 2.05)\n",
        "        autoAdjust_1 = 1\n",
        "    else:\n",
        "        autoAdjust_1 = 1\n",
        "        autoAdjust_2 = 1\n",
        "    favMultiplier_1 = win_1 - p_1\n",
        "    favMultiplier_2 = win_2 - p_2\n",
        "    new_elo_1 = elo_1 + (6*victoryMarginMultiplier_1*autoAdjust_1*favMultiplier_1)\n",
        "    new_elo_2 = elo_2 + (6*victoryMarginMultiplier_2*autoAdjust_2*favMultiplier_2)\n",
        "    teamGame.loc[(teamGame['Team']==game_df['Team'].iloc[0]) & (teamGame['teamGameRankOverall']==game_df['teamGameRankOverall'].iloc[0]+1), 'Elo'] = new_elo_1\n",
        "    teamGame.loc[(teamGame['Team']==game_df['Team'].iloc[1]) & (teamGame['teamGameRankOverall']==game_df['teamGameRankOverall'].iloc[1]+1), 'Elo'] = new_elo_2"
      ],
      "execution_count": 22,
      "outputs": []
    },
    {
      "cell_type": "code",
      "metadata": {
        "id": "qjyDlFesb4_8"
      },
      "source": [
        "teamGame = teamGame.loc[teamGame['keep']]\n",
        "teamGame = teamGame.drop('keep',1)\n",
        "teamGame = pd.concat([teamGameOld, teamGame], ignore_index=True)\n",
        "teamGame['teamGameRank'] = teamGame.groupby(['Team','Season'])['DateInt'].rank(\"dense\")"
      ],
      "execution_count": 23,
      "outputs": []
    },
    {
      "cell_type": "code",
      "metadata": {
        "id": "xV21a61ucTbS"
      },
      "source": [
        "teamGame.loc[teamGame['Date']<today.strftime('%Y-%m-%d')].to_csv('teamGame.gz', compression='gzip', index=False)"
      ],
      "execution_count": 24,
      "outputs": []
    },
    {
      "cell_type": "markdown",
      "metadata": {
        "id": "XgUfRxjJfjU0"
      },
      "source": [
        "# Player Aggregation"
      ]
    },
    {
      "cell_type": "code",
      "metadata": {
        "id": "yZPc0fzhflVv"
      },
      "source": [
        "# aggregate by player, team, and game\n",
        "def _aggregate_playergame(plays):\n",
        "    # fix ARZ/PHX and other team names\n",
        "    plays['Ev_Team'] = plays['Ev_Team'].replace({'PHX':'ARI', 'S.J':'SJS', 'L.A':'LAK', 'T.B':'TBL', 'N.J':'NJD'})\n",
        "    plays['Home_Team'] = plays['Home_Team'].replace({'PHX':'ARI', 'S.J':'SJS', 'L.A':'LAK', 'T.B':'TBL', 'N.J':'NJD'})\n",
        "    plays['Away_Team'] = plays['Away_Team'].replace({'PHX':'ARI', 'S.J':'SJS', 'L.A':'LAK', 'T.B':'TBL', 'N.J':'NJD'})\n",
        "\n",
        "    # calculate some stats in the disaggregated data, to sum later\n",
        "    plays['Goals'] = ((plays['Event'] == 'GOAL') & (plays['Strength']!='0x0')).astype(np.int16)\n",
        "    plays['Shootout_Goals'] = ((plays['Event'] == 'GOAL') & (plays['Strength']=='0x0')).astype(np.int16)\n",
        "    plays['Shots'] = ((plays['Event'].isin(['SHOT','GOAL'])) & (plays['Strength']!='0x0')).astype(np.int16)\n",
        "    plays['ShotAttempts'] = ((plays['Event'].isin(['SHOT','MISS','GOAL','BLOCK'])) & (plays['Strength']!='0x0')).astype(np.int16)\n",
        "    plays['Goals_evenstrength'] = ((plays['Event'] == 'GOAL') & (plays['Strength'].isin(['5x5','4x4','3x3']))).astype(np.int16)\n",
        "    plays['Shots_evenstrength'] = ((plays['Event'].isin(['SHOT','GOAL'])) & (plays['Strength'].isin(['5x5','4x4','3x3']))).astype(np.int16)\n",
        "    plays['ShotAttempts_evenstrength'] = ((plays['Event'].isin(['SHOT','MISS','GOAL','BLOCK'])) & (plays['Strength'].isin(['5x5','4x4','3x3']))).astype(np.int16)\n",
        "    plays['xG_evenstrength'] = np.nan\n",
        "    plays.loc[plays['Strength'].isin(['5x5','4x4','3x3']), 'xG_evenstrength'] = plays.loc[plays['Strength'].isin(['5x5','4x4','3x3'])]['xG']\n",
        "    plays['Penalties'] = (plays['Event'] == 'PENL').astype(np.int16)\n",
        "    plays['Home_Starts_Off'] = ((plays['Event'] == 'FAC') & (plays['Home_Zone']=='Off') & (plays['Strength'].isin(['5x5','4x4']))).astype(np.int16)\n",
        "    plays['Home_Starts_Def'] = ((plays['Event'] == 'FAC') & (plays['Home_Zone']=='Def') & (plays['Strength'].isin(['5x5','4x4']))).astype(np.int16)\n",
        "\n",
        "    # create field for player that should get credited with the event\n",
        "    plays['Player'] = np.nan\n",
        "    plays['PlayerID'] = np.nan\n",
        "    plays.loc[plays['Event']=='BLOCK', 'Player'] = plays.loc[plays['Event']=='BLOCK']['p2_name']\n",
        "    plays.loc[plays['Event']=='BLOCK', 'PlayerID'] = plays.loc[plays['Event']=='BLOCK']['p2_ID']\n",
        "    plays.loc[plays['Event'].isin(['SHOT','MISS','GOAL']), 'Player'] = plays.loc[plays['Event'].isin(['SHOT','MISS','GOAL'])]['p1_name']\n",
        "    plays.loc[plays['Event'].isin(['SHOT','MISS','GOAL']), 'PlayerID'] = plays.loc[plays['Event'].isin(['SHOT','MISS','GOAL'])]['p1_ID']\n",
        "    plays.loc[plays['Event']=='PENL', 'Player'] = plays.loc[plays['Event']=='PENL']['p1_name']\n",
        "    plays.loc[plays['Event']=='PENL', 'PlayerID'] = plays.loc[plays['Event']=='PENL']['p1_ID']\n",
        "\n",
        "    # create first aggregate\n",
        "    playerGame = plays.groupby([\n",
        "            'Game_Id','Date','Player','PlayerID','Season'\n",
        "        ]).agg({\n",
        "            'Goals' : sum,\n",
        "            'Shootout_Goals' : sum,\n",
        "            'xG' : sum,\n",
        "            'Shots' : sum,\n",
        "            'ShotAttempts' : sum,\n",
        "            'Goals_evenstrength' : sum,\n",
        "            'Shots_evenstrength' : sum,\n",
        "            'ShotAttempts_evenstrength' : sum,\n",
        "            'xG_evenstrength' : sum,\n",
        "            'Penalties' : sum\n",
        "    }).reset_index()\n",
        "\n",
        "    # second aggregate for primary assists and penalties drawn\n",
        "    plays = plays.rename(columns={'Goals' : 'PrimaryAssists', 'Goals_evenstrength' : 'PrimaryAssists_evenstrength', 'Penalties' : 'PenaltiesDrawn'})\n",
        "    plays.loc[:,'Player'] = plays['p2_name']\n",
        "    plays.loc[:,'PlayerID'] = plays['p2_ID']\n",
        "    playerGame_2 = plays.groupby([\n",
        "            'Game_Id','Date','Player','PlayerID','Season'\n",
        "        ]).agg({\n",
        "            'PrimaryAssists' : sum,\n",
        "            'PrimaryAssists_evenstrength' : sum,\n",
        "            'PenaltiesDrawn' : sum\n",
        "    }).reset_index()\n",
        "    playerGame = playerGame.merge(playerGame_2, how='left', on=['Game_Id','Date','Player','PlayerID','Season'])\n",
        "    del playerGame_2\n",
        "\n",
        "    # third aggregate for secondary assists\n",
        "    plays = plays.rename(columns={'PrimaryAssists' : 'SecondaryAssists', 'PrimaryAssists_evenstrength' : 'SecondaryAssists_evenstrength'})\n",
        "    plays.loc[:,'Player'] = plays['p3_name']\n",
        "    plays.loc[:,'PlayerID'] = plays['p3_ID']\n",
        "    playerGame_3 = plays.groupby([\n",
        "            'Game_Id','Date','Player','PlayerID','Season'\n",
        "        ]).agg({\n",
        "            'SecondaryAssists' : sum,\n",
        "            'SecondaryAssists_evenstrength' : sum\n",
        "    }).reset_index()\n",
        "    playerGame = playerGame.merge(playerGame_3, how='left', on=['Game_Id','Date','Player','PlayerID','Season'])\n",
        "    del playerGame_3\n",
        "\n",
        "    # prep data for on-ice aggregates\n",
        "    shots = plays.loc[plays['Event'].isin(['SHOT','MISS','GOAL','BLOCK','FAC'])]\n",
        "    shots = shots.rename(columns={'SecondaryAssists' : 'Goals', 'SecondaryAssists_evenstrength' : 'Goals_evenstrength', 'PenaltiesDrawn' : 'Penalties'})\n",
        "    del plays # to save some memory\n",
        "    shots['HomeTeamEvent'] = (shots['Ev_Team']==shots['Home_Team']).astype(int)\n",
        "    shots['AwayTeamEvent'] = (shots['Ev_Team']==shots['Away_Team']).astype(int)\n",
        "\n",
        "    # on-ice stats home players\n",
        "    for i in range(1,7):\n",
        "        shots['Player'] = shots['homePlayer{}'.format(str(i))].copy()\n",
        "        shots['PlayerID'] = shots['homePlayer{}_id'.format(str(i))].copy()\n",
        "\n",
        "        shots['Goals_onice_home{}'.format(str(i))] = shots['Goals'] * shots['HomeTeamEvent']\n",
        "        shots['Shots_onice_home{}'.format(str(i))] = shots['Shots'] * shots['HomeTeamEvent']\n",
        "        shots['ShotAttempts_onice_home{}'.format(str(i))] = shots['ShotAttempts'] * shots['HomeTeamEvent']\n",
        "        shots['xG_onice_home{}'.format(str(i))] = shots['xG'] * shots['HomeTeamEvent']\n",
        "        shots['Goals_evenstrength_onice_home{}'.format(str(i))] = shots['Goals_evenstrength'] * shots['HomeTeamEvent']\n",
        "        shots['Shots_evenstrength_onice_home{}'.format(str(i))] = shots['Shots_evenstrength'] * shots['HomeTeamEvent']\n",
        "        shots['ShotAttempts_evenstrength_onice_home{}'.format(str(i))] = shots['ShotAttempts_evenstrength'] * shots['HomeTeamEvent']\n",
        "        shots['xG_evenstrength_onice_home{}'.format(str(i))] = shots['xG_evenstrength'] * shots['HomeTeamEvent']\n",
        "\n",
        "        shots['GoalsAgainst_onice_home{}'.format(str(i))] = shots['Goals'] * shots['AwayTeamEvent']\n",
        "        shots['ShotsAgainst_onice_home{}'.format(str(i))] = shots['Shots'] * shots['AwayTeamEvent']\n",
        "        shots['ShotAttemptsAgainst_onice_home{}'.format(str(i))] = shots['ShotAttempts'] * shots['AwayTeamEvent']\n",
        "        shots['xGAgainst_onice_home{}'.format(str(i))] = shots['xG'] * shots['AwayTeamEvent']\n",
        "        shots['GoalsAgainst_evenstrength_onice_home{}'.format(str(i))] = shots['Goals_evenstrength'] * shots['AwayTeamEvent']\n",
        "        shots['ShotsAgainst_evenstrength_onice_home{}'.format(str(i))] = shots['Shots_evenstrength'] * shots['AwayTeamEvent']\n",
        "        shots['ShotAttemptsAgainst_evenstrength_onice_home{}'.format(str(i))] = shots['ShotAttempts_evenstrength'] * shots['AwayTeamEvent']\n",
        "        shots['xGAgainst_evenstrength_onice_home{}'.format(str(i))] = shots['xG_evenstrength'] * shots['AwayTeamEvent']\n",
        "\n",
        "        shots['team_home{}'.format(str(i))] = shots['Home_Team'].copy()\n",
        "        shots['Starts_Off_home{}'.format(str(i))] = shots['Home_Starts_Off'].copy()\n",
        "        shots['Starts_Def_home{}'.format(str(i))] = shots['Home_Starts_Def'].copy()\n",
        "\n",
        "        # add column for tracking player positions\n",
        "        shots['position_home{}'.format(str(i))] = 1\n",
        "\n",
        "        playerGame_home = shots.groupby([\n",
        "                'Game_Id','Date','Player','PlayerID','Season'\n",
        "            ]).agg({\n",
        "                'Goals_onice_home{}'.format(str(i)) : sum,\n",
        "                'Shots_onice_home{}'.format(str(i)) : sum,\n",
        "                'ShotAttempts_onice_home{}'.format(str(i)) : sum,\n",
        "                'xG_onice_home{}'.format(str(i)) : sum,\n",
        "                'Goals_evenstrength_onice_home{}'.format(str(i)) : sum,\n",
        "                'Shots_evenstrength_onice_home{}'.format(str(i)) : sum,\n",
        "                'ShotAttempts_evenstrength_onice_home{}'.format(str(i)) : sum,\n",
        "                'xG_evenstrength_onice_home{}'.format(str(i)) : sum,\n",
        "                'GoalsAgainst_onice_home{}'.format(str(i)) : sum,\n",
        "                'ShotsAgainst_onice_home{}'.format(str(i)) : sum,\n",
        "                'ShotAttemptsAgainst_onice_home{}'.format(str(i)) : sum,\n",
        "                'xGAgainst_onice_home{}'.format(str(i)) : sum,\n",
        "                'GoalsAgainst_evenstrength_onice_home{}'.format(str(i)) : sum,\n",
        "                'ShotsAgainst_evenstrength_onice_home{}'.format(str(i)) : sum,\n",
        "                'ShotAttemptsAgainst_evenstrength_onice_home{}'.format(str(i)) : sum,\n",
        "                'xGAgainst_evenstrength_onice_home{}'.format(str(i)) : sum,\n",
        "                'position_home{}'.format(str(i)) : sum,\n",
        "                'team_home{}'.format(str(i)) : lambda x: x.value_counts().index[0],\n",
        "                'Starts_Off_home{}'.format(str(i)) : sum,\n",
        "                'Starts_Def_home{}'.format(str(i)) : sum\n",
        "        }).reset_index().fillna(0)\n",
        "        playerGame_home['team_home{}'.format(str(i))] = playerGame_home['team_home{}'.format(str(i))].replace(0, '')\n",
        "\n",
        "        playerGame = playerGame.merge(playerGame_home, how='left', on=['Game_Id','Date','Player','PlayerID','Season'])\n",
        "        del playerGame_home\n",
        "\n",
        "    # on-ice stats away players\n",
        "    for i in range(1,7):\n",
        "        shots['Player'] = shots['awayPlayer{}'.format(str(i))].copy()\n",
        "        shots['PlayerID'] = shots['awayPlayer{}_id'.format(str(i))].copy()\n",
        "\n",
        "        shots['Goals_onice_away{}'.format(str(i))] = shots['Goals'] * shots['AwayTeamEvent']\n",
        "        shots['Shots_onice_away{}'.format(str(i))] = shots['Shots'] * shots['AwayTeamEvent']\n",
        "        shots['ShotAttempts_onice_away{}'.format(str(i))] = shots['ShotAttempts'] * shots['AwayTeamEvent']\n",
        "        shots['xG_onice_away{}'.format(str(i))] = shots['xG'] * shots['AwayTeamEvent']\n",
        "        shots['Goals_evenstrength_onice_away{}'.format(str(i))] = shots['Goals_evenstrength'] * shots['AwayTeamEvent']\n",
        "        shots['Shots_evenstrength_onice_away{}'.format(str(i))] = shots['Shots_evenstrength'] * shots['AwayTeamEvent']\n",
        "        shots['ShotAttempts_evenstrength_onice_away{}'.format(str(i))] = shots['ShotAttempts_evenstrength'] * shots['AwayTeamEvent']\n",
        "        shots['xG_evenstrength_onice_away{}'.format(str(i))] = shots['xG_evenstrength'] * shots['AwayTeamEvent']\n",
        "\n",
        "        shots['GoalsAgainst_onice_away{}'.format(str(i))] = shots['Goals'] * shots['HomeTeamEvent']\n",
        "        shots['ShotsAgainst_onice_away{}'.format(str(i))] = shots['Shots'] * shots['HomeTeamEvent']\n",
        "        shots['ShotAttemptsAgainst_onice_away{}'.format(str(i))] = shots['ShotAttempts'] * shots['HomeTeamEvent']\n",
        "        shots['xGAgainst_onice_away{}'.format(str(i))] = shots['xG'] * shots['HomeTeamEvent']\n",
        "        shots['GoalsAgainst_evenstrength_onice_away{}'.format(str(i))] = shots['Goals_evenstrength'] * shots['HomeTeamEvent']\n",
        "        shots['ShotsAgainst_evenstrength_onice_away{}'.format(str(i))] = shots['Shots_evenstrength'] * shots['HomeTeamEvent']\n",
        "        shots['ShotAttemptsAgainst_evenstrength_onice_away{}'.format(str(i))] = shots['ShotAttempts_evenstrength'] * shots['HomeTeamEvent']\n",
        "        shots['xGAgainst_evenstrength_onice_away{}'.format(str(i))] = shots['xG_evenstrength'] * shots['HomeTeamEvent']\n",
        "\n",
        "        shots['team_away{}'.format(str(i))] = shots['Away_Team'].copy()\n",
        "        shots['Starts_Off_away{}'.format(str(i))] = shots['Home_Starts_Def'].copy()\n",
        "        shots['Starts_Def_away{}'.format(str(i))] = shots['Home_Starts_Off'].copy()\n",
        "\n",
        "        # add column for tracking player positions\n",
        "        shots['position_away{}'.format(str(i))] = 1\n",
        "\n",
        "        playerGame_away = shots.groupby([\n",
        "                'Game_Id','Date','Player','PlayerID','Season'\n",
        "            ]).agg({\n",
        "                'Goals_onice_away{}'.format(str(i)) : sum,\n",
        "                'Shots_onice_away{}'.format(str(i)) : sum,\n",
        "                'ShotAttempts_onice_away{}'.format(str(i)) : sum,\n",
        "                'xG_onice_away{}'.format(str(i)) : sum,\n",
        "                'Goals_evenstrength_onice_away{}'.format(str(i)) : sum,\n",
        "                'Shots_evenstrength_onice_away{}'.format(str(i)) : sum,\n",
        "                'ShotAttempts_evenstrength_onice_away{}'.format(str(i)) : sum,\n",
        "                'xG_evenstrength_onice_away{}'.format(str(i)) : sum,\n",
        "                'GoalsAgainst_onice_away{}'.format(str(i)) : sum,\n",
        "                'ShotsAgainst_onice_away{}'.format(str(i)) : sum,\n",
        "                'ShotAttemptsAgainst_onice_away{}'.format(str(i)) : sum,\n",
        "                'xGAgainst_onice_away{}'.format(str(i)) : sum,\n",
        "                'GoalsAgainst_evenstrength_onice_away{}'.format(str(i)) : sum,\n",
        "                'ShotsAgainst_evenstrength_onice_away{}'.format(str(i)) : sum,\n",
        "                'ShotAttemptsAgainst_evenstrength_onice_away{}'.format(str(i)) : sum,\n",
        "                'xGAgainst_evenstrength_onice_away{}'.format(str(i)) : sum,\n",
        "                'position_away{}'.format(str(i)) : sum,\n",
        "                'team_away{}'.format(str(i)) : lambda x: x.value_counts().index[0],\n",
        "                'Starts_Off_away{}'.format(str(i)) : sum,\n",
        "                'Starts_Def_away{}'.format(str(i)) : sum\n",
        "        }).reset_index()\n",
        "        playerGame_away['team_away{}'.format(str(i))] = playerGame_away['team_away{}'.format(str(i))].replace(0, '')\n",
        "\n",
        "        playerGame = playerGame.merge(playerGame_away, how='left', on=['Game_Id','Date','Player','PlayerID','Season'])\n",
        "        del playerGame_away\n",
        "\n",
        "        # add up home and away player position numbers\n",
        "        playerGame['position_{}'.format(str(i))] = playerGame['position_home{}'.format(str(i))].fillna(0) + playerGame['position_away{}'.format(str(i))].fillna(0)\n",
        "        playerGame = playerGame.drop(['position_home{}'.format(str(i)),'position_away{}'.format(str(i))], 1)\n",
        "\n",
        "    # fill nulls, and add up on-ice columns so there is only one per stat\n",
        "    playerGame = playerGame.fillna(0)\n",
        "    for col in ['Goals_onice','Shots_onice','ShotAttempts_onice','xG_onice','Goals_evenstrength_onice','Shots_evenstrength_onice',\n",
        "                'ShotAttempts_evenstrength_onice','xG_evenstrength_onice','GoalsAgainst_onice','ShotsAgainst_onice','ShotAttemptsAgainst_onice',\n",
        "                'xGAgainst_onice','GoalsAgainst_evenstrength_onice','ShotsAgainst_evenstrength_onice','ShotAttemptsAgainst_evenstrength_onice',\n",
        "                'xGAgainst_evenstrength_onice','Starts_Off','Starts_Def']:\n",
        "        playerGame[col] = playerGame['{}_home1'.format(col)] + playerGame['{}_home2'.format(col)] + playerGame['{}_home3'.format(col)] + playerGame['{}_home4'.format(col)] \\\n",
        "            + playerGame['{}_home5'.format(col)] + playerGame['{}_home6'.format(col)] + playerGame['{}_away1'.format(col)] + playerGame['{}_away2'.format(col)] \\\n",
        "            + playerGame['{}_away3'.format(col)] + playerGame['{}_away4'.format(col)] + playerGame['{}_away5'.format(col)] + playerGame['{}_away6'.format(col)]\n",
        "        playerGame = playerGame.drop(['{}_home1'.format(col),'{}_home2'.format(col),'{}_home3'.format(col),'{}_home4'.format(col),'{}_home5'.format(col),\n",
        "                                      '{}_home6'.format(col),'{}_away1'.format(col),'{}_away2'.format(col),'{}_away3'.format(col),'{}_away4'.format(col),\n",
        "                                      '{}_away5'.format(col),'{}_away6'.format(col)], 1)\n",
        "        \n",
        "    # combine the team columns into one\n",
        "    playerGame['Team'] = playerGame[['team_away1','team_away2','team_away3','team_away4','team_away5','team_away6',\n",
        "                                     'team_home1','team_home2','team_home3','team_home4','team_home5','team_home6']].replace(0,'').max(1)\n",
        "    playerGame = playerGame.drop(['team_away1','team_away2','team_away3','team_away4','team_away5','team_away6',\n",
        "                                  'team_home1','team_home2','team_home3','team_home4','team_home5','team_home6'], 1)\n",
        "\n",
        "    return playerGame"
      ],
      "execution_count": 25,
      "outputs": []
    },
    {
      "cell_type": "code",
      "metadata": {
        "id": "cKFuKe1WfoFs"
      },
      "source": [
        "# get the position (Forward, Defence, or Goalie) for each player and add to the aggregate\n",
        "def _get_position(playerGame):\n",
        "    players = playerGame[['Player','PlayerID','position_1','position_2','position_3','position_4','position_5','position_6']].groupby([\n",
        "        'Player','PlayerID'\n",
        "    ]).sum()\n",
        "    players['maxcol'] = players.idxmax(1)\n",
        "    players = players.reset_index()\n",
        "    players['Position'] = np.nan\n",
        "    players.loc[players['maxcol'].isin(['position_1','position_2','position_3']),'Position'] = 'F'\n",
        "    players.loc[players['maxcol'].isin(['position_4','position_5']),'Position'] = 'D'\n",
        "    players.loc[players['maxcol']=='position_6','Position'] = 'G'\n",
        "\n",
        "    playerGame = playerGame.drop(['position_1','position_2','position_3','position_4','position_5','position_6'], 1)\n",
        "    playerGame = playerGame.merge(players[['Player','PlayerID','Position']], on=['Player','PlayerID'], how='left')\n",
        "    return playerGame"
      ],
      "execution_count": 26,
      "outputs": []
    },
    {
      "cell_type": "code",
      "metadata": {
        "id": "5pVzzYB0fqHl"
      },
      "source": [
        "playerGame = _aggregate_playergame(pbp)"
      ],
      "execution_count": 27,
      "outputs": []
    },
    {
      "cell_type": "code",
      "metadata": {
        "id": "skvzgfzqftMH"
      },
      "source": [
        "playerGame = _get_position(playerGame)"
      ],
      "execution_count": 28,
      "outputs": []
    },
    {
      "cell_type": "code",
      "metadata": {
        "id": "2DOQ3Gn8fxaN"
      },
      "source": [
        "# downcast some fields\n",
        "playerGame['Game_Id'] = playerGame['Game_Id'].astype(np.int32)\n",
        "playerGame['PlayerID'] = playerGame['PlayerID'].astype(np.int32)\n",
        "playerGame['Season'] = playerGame['Season'].astype(np.int16)\n",
        "playerGame['PrimaryAssists'] = playerGame['PrimaryAssists'].astype(np.int16)\n",
        "playerGame['PrimaryAssists_evenstrength'] = playerGame['PrimaryAssists_evenstrength'].astype(np.int16)\n",
        "playerGame['PenaltiesDrawn'] = playerGame['PenaltiesDrawn'].astype(np.int32)\n",
        "playerGame['SecondaryAssists'] = playerGame['SecondaryAssists'].astype(np.int16)\n",
        "playerGame['SecondaryAssists_evenstrength'] = playerGame['SecondaryAssists_evenstrength'].astype(np.int16)\n",
        "playerGame['Goals_onice'] = playerGame['Goals_onice'].astype(np.int16)\n",
        "playerGame['Shots_onice'] = playerGame['Shots_onice'].astype(np.int32)\n",
        "playerGame['ShotAttempts_onice'] = playerGame['ShotAttempts_onice'].astype(np.int32)\n",
        "playerGame['Goals_evenstrength_onice'] = playerGame['Goals_evenstrength_onice'].astype(np.int16)\n",
        "playerGame['Shots_evenstrength_onice'] = playerGame['Shots_evenstrength_onice'].astype(np.int32)\n",
        "playerGame['ShotAttempts_evenstrength_onice'] = playerGame['ShotAttempts_evenstrength_onice'].astype(np.int32)\n",
        "playerGame['GoalsAgainst_onice'] = playerGame['GoalsAgainst_onice'].astype(np.int16)\n",
        "playerGame['ShotsAgainst_onice'] = playerGame['ShotsAgainst_onice'].astype(np.int32)\n",
        "playerGame['ShotAttemptsAgainst_onice'] = playerGame['ShotAttemptsAgainst_onice'].astype(np.int32)\n",
        "playerGame['GoalsAgainst_evenstrength_onice'] = playerGame['GoalsAgainst_evenstrength_onice'].astype(np.int16)\n",
        "playerGame['ShotsAgainst_evenstrength_onice'] = playerGame['ShotsAgainst_evenstrength_onice'].astype(np.int32)\n",
        "playerGame['ShotAttemptsAgainst_evenstrength_onice'] = playerGame['ShotAttemptsAgainst_evenstrength_onice'].astype(np.int32)\n",
        "playerGame['Starts_Off'] = playerGame['Starts_Off'].astype(np.int32)\n",
        "playerGame['Starts_Def'] = playerGame['Starts_Def'].astype(np.int32)"
      ],
      "execution_count": 29,
      "outputs": []
    },
    {
      "cell_type": "code",
      "metadata": {
        "id": "OYhDveDafxvC"
      },
      "source": [
        "# add an ID field\n",
        "playerGame['PlayerGameID'] = playerGame['Date'] + '_' + playerGame['PlayerID'].astype(str)\n",
        "\n",
        "# add field for whether this is a playoff game or not\n",
        "playerGame['DateInt'] = playerGame['Date'].str.replace('-','').astype(np.int64)\n",
        "playerGame['teamGameRank'] = playerGame.groupby(['Team','Season'])['DateInt'].rank(\"dense\")\n",
        "playerGame['Playoffs'] = (playerGame['teamGameRank']>82).astype(np.int8)\n",
        "playerGame.loc[(playerGame['Season']==2012)&(playerGame['teamGameRank']>48),'Playoffs'] = 1 #fix for the lockout-shortened season\n",
        "playerGame = playerGame.drop('teamGameRank',1)"
      ],
      "execution_count": 30,
      "outputs": []
    },
    {
      "cell_type": "code",
      "metadata": {
        "id": "3_tOOS7SfzSh"
      },
      "source": [
        "# fix a bug\n",
        "playerGame = playerGame.loc[playerGame['PlayerID']>=1]"
      ],
      "execution_count": 31,
      "outputs": []
    },
    {
      "cell_type": "code",
      "metadata": {
        "id": "VImi6b_Ef02h"
      },
      "source": [
        "# prep training and testing data\n",
        "\n",
        "# create target variable, based on game score\n",
        "# 0.75*goals + 0.7*primary assists + 0.55*secondary assists + 0.075*shots + \n",
        "# 0.05*blocks + 0.15*penalty diff + 0.01*faceoff diff + 0.05*5v5 shots diff + 0.15*5v5 goal diff\n",
        "\n",
        "playerGame['GameScore'] = (0.75*playerGame['Goals']) + (0.7*playerGame['PrimaryAssists']) + (0.55*playerGame['SecondaryAssists']) \\\n",
        "    + (0.075*playerGame['Shots']) + (0.15*(playerGame['PenaltiesDrawn']-playerGame['Penalties'])) \\\n",
        "    + (0.05*(playerGame['Shots_evenstrength_onice']-playerGame['ShotsAgainst_evenstrength_onice'])) \\\n",
        "    + (0.15*(playerGame['Goals_evenstrength_onice']-playerGame['GoalsAgainst_evenstrength_onice'])) \\\n",
        "    + (0.15*(playerGame['xG_evenstrength_onice']-playerGame['xGAgainst_evenstrength_onice']))\n",
        "#playerGame['GameScore'] = playerGame['Goals_evenstrength_onice']-playerGame['GoalsAgainst_evenstrength_onice']"
      ],
      "execution_count": 32,
      "outputs": []
    },
    {
      "cell_type": "code",
      "metadata": {
        "id": "MUEU5_Ftf2W6"
      },
      "source": [
        "playerGameOld = pd.read_csv('playerGame.gz')\n",
        "#playerGameOld = playerGameOld.loc[playerGameOld['Date']<\"2022-01-13\"]"
      ],
      "execution_count": 33,
      "outputs": []
    },
    {
      "cell_type": "code",
      "source": [
        "#playerGame = playerGameOld.copy()"
      ],
      "metadata": {
        "id": "WvKvvUOaBjs-"
      },
      "execution_count": 34,
      "outputs": []
    },
    {
      "cell_type": "code",
      "metadata": {
        "id": "5R_oa8f-ihyw"
      },
      "source": [
        "playerGame['Game_Id'] = (playerGame['Season'].astype(str) + playerGame['Game_Id'].astype(str)).astype(np.int64)"
      ],
      "execution_count": 35,
      "outputs": []
    },
    {
      "cell_type": "code",
      "metadata": {
        "id": "e7oK-N2jf9sZ"
      },
      "source": [
        "playerGame = pd.concat([playerGameOld, playerGame], ignore_index=True)\n",
        "playerGame['teamGameRank'] = playerGame.groupby(['Team','Season'])['DateInt'].rank(\"dense\")\n",
        "playerGame.to_csv('playerGame.gz', compression='gzip', index=False)"
      ],
      "execution_count": 36,
      "outputs": []
    },
    {
      "cell_type": "markdown",
      "metadata": {
        "id": "YGZXd52JgqS0"
      },
      "source": [
        "# Predict New Games"
      ]
    },
    {
      "cell_type": "code",
      "source": [
        "playerGame = playerGame.sort_values(by=['Date','Team'])\n",
        "playerGame['GameScore_last8'] = playerGame.groupby(['Player','PlayerID','Position'])[['GameScore']].transform(lambda x: x.rolling(window=8).mean()).fillna(0.)\n",
        "playerGame['GameScore_last16'] = playerGame.groupby(['Player','PlayerID','Position'])[['GameScore']].transform(lambda x: x.rolling(window=16).mean()).fillna(0.)\n",
        "playerGame['GameScore_last32'] = playerGame.groupby(['Player','PlayerID','Position'])[['GameScore']].transform(lambda x: x.rolling(window=32).mean()).fillna(0.)\n",
        "playerGame['GameScore_last64'] = playerGame.groupby(['Player','PlayerID','Position'])[['GameScore']].transform(lambda x: x.rolling(window=64).mean()).fillna(0.)"
      ],
      "metadata": {
        "id": "JsTWq6xw8N75"
      },
      "execution_count": 37,
      "outputs": []
    },
    {
      "cell_type": "code",
      "metadata": {
        "id": "4k9jjhtxgp2O"
      },
      "source": [
        "playerTeamGame = playerGame.groupby(['Date','Team']).agg({\n",
        "    'GameScore' : ['mean','median','max','std'],\n",
        "    'GameScore_last8' : ['mean','median','max','std'],\n",
        "    'GameScore_last16' : ['mean','median','max','std'],\n",
        "    'GameScore_last32' : ['mean','median','max','std'],\n",
        "    'GameScore_last64' : ['mean','median','max','std']\n",
        "}).reset_index()\n",
        "playerTeamGame.columns = ['Date','Team','GameScore_mean','GameScore_median','GameScore_max','GameScore_std',\n",
        "                          'GameScore_last8_mean','GameScore_last8_median','GameScore_last8_max','GameScore_last8_std',\n",
        "                          'GameScore_last16_mean','GameScore_last16_median','GameScore_last16_max','GameScore_last16_std',\n",
        "                          'GameScore_last32_mean','GameScore_last32_median','GameScore_last32_max','GameScore_last32_std',\n",
        "                          'GameScore_last64_mean','GameScore_last64_median','GameScore_last64_max','GameScore_last64_std'\n",
        "                          ]\n",
        "teamGame = teamGame.merge(playerTeamGame, on=['Date','Team'], how='left')\n",
        "\n",
        "playerTeamGame = playerGame.loc[playerGame['Position']=='F'].groupby(['Date','Team']).agg({\n",
        "    'GameScore' : ['mean','median','max','std'],\n",
        "    'GameScore_last8' : ['mean','median','max','std'],\n",
        "    'GameScore_last16' : ['mean','median','max','std'],\n",
        "    'GameScore_last32' : ['mean','median','max','std'],\n",
        "    'GameScore_last64' : ['mean','median','max','std']\n",
        "}).reset_index()\n",
        "playerTeamGame.columns = ['Date','Team','GameScoreF_mean','GameScoreF_median','GameScoreF_max','GameScoreF_std',\n",
        "                          'GameScoreF_last8_mean','GameScoreF_last8_median','GameScoreF_last8_max','GameScoreF_last8_std',\n",
        "                          'GameScoreF_last16_mean','GameScoreF_last16_median','GameScoreF_last16_max','GameScoreF_last16_std',\n",
        "                          'GameScoreF_last32_mean','GameScoreF_last32_median','GameScoreF_last32_max','GameScoreF_last32_std',\n",
        "                          'GameScoreF_last64_mean','GameScoreF_last64_median','GameScoreF_last64_max','GameScoreF_last64_std'\n",
        "                          ]\n",
        "teamGame = teamGame.merge(playerTeamGame, on=['Date','Team'], how='left')\n",
        "\n",
        "playerTeamGame = playerGame.loc[playerGame['Position']=='D'].groupby(['Date','Team']).agg({\n",
        "    'GameScore' : ['mean','median','max','std'],\n",
        "    'GameScore_last8' : ['mean','median','max','std'],\n",
        "    'GameScore_last16' : ['mean','median','max','std'],\n",
        "    'GameScore_last32' : ['mean','median','max','std'],\n",
        "    'GameScore_last64' : ['mean','median','max','std']\n",
        "}).reset_index()\n",
        "playerTeamGame.columns = ['Date','Team','GameScoreD_mean','GameScoreD_median','GameScoreD_max','GameScoreD_std',\n",
        "                          'GameScoreD_last8_mean','GameScoreD_last8_median','GameScoreD_last8_max','GameScoreD_last8_std',\n",
        "                          'GameScoreD_last16_mean','GameScoreD_last16_median','GameScoreD_last16_max','GameScoreD_last16_std',\n",
        "                          'GameScoreD_last32_mean','GameScoreD_last32_median','GameScoreD_last32_max','GameScoreD_last32_std',\n",
        "                          'GameScoreD_last64_mean','GameScoreD_last64_median','GameScoreD_last64_max','GameScoreD_last64_std'\n",
        "                          ]\n",
        "teamGame = teamGame.merge(playerTeamGame, on=['Date','Team'], how='left')"
      ],
      "execution_count": 38,
      "outputs": []
    },
    {
      "cell_type": "code",
      "metadata": {
        "id": "HO_XrEqxgs-I"
      },
      "source": [
        "def _add_lag(df, cols, lag, groupCol):\n",
        "    new_cols = [col+'_last'+str(lag) for col in cols]\n",
        "    df[new_cols] = df.groupby(groupCol)[cols].fillna(method='ffill').transform(lambda x: x.rolling(window=lag).mean())\n",
        "    df[new_cols] = df.groupby(groupCol)[new_cols].shift(1)\n",
        "\n",
        "    return df"
      ],
      "execution_count": 39,
      "outputs": []
    },
    {
      "cell_type": "code",
      "metadata": {
        "id": "yRFvSIGGh7N1"
      },
      "source": [
        "teamGame = teamGame.sort_values(by=['DateInt','Game_Id'])\n",
        "# add some lag features (rolling averages of past games)\n",
        "teamGame.loc[teamGame['Date']>=today.strftime('%Y-%m-%d'), 'Playoffs'] = 0\n",
        "df = _add_lag(teamGame.loc[teamGame['Playoffs']==0].copy(),\n",
        "                    ['Goals','Shots','ShotAttempts','xG','Goals_5v5','Shots_5v5','ShotAttempts_5v5','xG_5v5',\n",
        "                     'GameScore_mean','GameScore_median','GameScore_max','GameScore_std'], 8, 'Team')\n",
        "df = _add_lag(df, ['Goals','Shots','ShotAttempts','xG','Goals_5v5','Shots_5v5','ShotAttempts_5v5','xG_5v5',\n",
        "                     'GameScore_mean','GameScore_median','GameScore_max','GameScore_std'], 16, 'Team')\n",
        "df = _add_lag(df, ['Goals','Shots','ShotAttempts','xG','Goals_5v5','Shots_5v5','ShotAttempts_5v5','xG_5v5',\n",
        "                     'GameScore_mean','GameScore_median','GameScore_max','GameScore_std'], 32, 'Team')\n",
        "df = _add_lag(df, ['Goals','Shots','ShotAttempts','xG','Goals_5v5','Shots_5v5','ShotAttempts_5v5','xG_5v5',\n",
        "                     'GameScore_mean','GameScore_median','GameScore_max','GameScore_std'], 64, 'Team')"
      ],
      "execution_count": 40,
      "outputs": []
    },
    {
      "cell_type": "code",
      "source": [
        "# shift GameScore columns\n",
        "shift_cols = ['GameScore_last8_mean','GameScore_last8_median','GameScore_last8_max','GameScore_last8_std',\n",
        "          'GameScore_last16_mean','GameScore_last16_median','GameScore_last16_max','GameScore_last16_std',\n",
        "          'GameScore_last32_mean','GameScore_last32_median','GameScore_last32_max','GameScore_last32_std',\n",
        "          'GameScore_last64_mean','GameScore_last64_median','GameScore_last64_max','GameScore_last64_std',\n",
        "          'GameScoreF_last8_mean','GameScoreF_last8_median','GameScoreF_last8_max','GameScoreF_last8_std',\n",
        "          'GameScoreF_last16_mean','GameScoreF_last16_median','GameScoreF_last16_max','GameScoreF_last16_std',\n",
        "          'GameScoreF_last32_mean','GameScoreF_last32_median','GameScoreF_last32_max','GameScoreF_last32_std',\n",
        "          'GameScoreF_last64_mean','GameScoreF_last64_median','GameScoreF_last64_max','GameScoreF_last64_std',\n",
        "          'GameScoreD_last8_mean','GameScoreD_last8_median','GameScoreD_last8_max','GameScoreD_last8_std',\n",
        "          'GameScoreD_last16_mean','GameScoreD_last16_median','GameScoreD_last16_max','GameScoreD_last16_std',\n",
        "          'GameScoreD_last32_mean','GameScoreD_last32_median','GameScoreD_last32_max','GameScoreD_last32_std',\n",
        "          'GameScoreD_last64_mean','GameScoreD_last64_median','GameScoreD_last64_max','GameScoreD_last64_std'\n",
        "]\n",
        "df[shift_cols] = df.groupby('Team')[shift_cols].shift(1)"
      ],
      "metadata": {
        "id": "XPJMvbAs8ZIh"
      },
      "execution_count": 41,
      "outputs": []
    },
    {
      "cell_type": "code",
      "metadata": {
        "id": "uqzbsLl4jBFT"
      },
      "source": [
        "# do a self-join to get features for the opposing team\n",
        "df['teamGameVal'] = df.groupby(['Game_Id','Season','Date'])['xG'].rank(\"dense\").replace(2, -1)\n",
        "df_opp = df.copy()\n",
        "df_opp['teamGameVal'] = df_opp['teamGameVal'] * -1\n",
        "df_opp = df_opp.drop(['Win','DateInt','Playoffs','Home','teamGameRankOverall','teamGameRank'],1)\n",
        "df_opp.columns = ['Game_Id','Date','Opp','Season',\n",
        "                        'GoalsAgainst','ShotsAgainst','ShotAttemptsAgainst','xGAgainst',\n",
        "                        'GoalsAgainst_5v5','ShotsAgainst_5v5','ShotAttemptsAgainst_5v5','xGAgainst_5v5','PenaltiesAgainst',\n",
        "                        'OppElo','OppGameScore_mean','OppGameScore_median','OppGameScore_max','OppGameScore_std',\n",
        "                        'OppGameScore_last8_mean','OppGameScore_last8_median','OppGameScore_last8_max','OppGameScore_last8_std',\n",
        "                        'OppGameScore_last16_mean','OppGameScore_last16_median','OppGameScore_last16_max','OppGameScore_last16_std',\n",
        "                        'OppGameScore_last32_mean','OppGameScore_last32_median','OppGameScore_last32_max','OppGameScore_last32_std',\n",
        "                        'OppGameScore_last64_mean','OppGameScore_last64_median','OppGameScore_last64_max','OppGameScore_last64_std',\n",
        "                        'OppGameScoreF_mean','OppGameScoreF_median','OppGameScoreF_max','OppGameScoreF_std',\n",
        "                        'OppGameScoreF_last8_mean','OppGameScoreF_last8_median','OppGameScoreF_last8_max','OppGameScoreF_last8_std',\n",
        "                        'OppGameScoreF_last16_mean','OppGameScoreF_last16_median','OppGameScoreF_last16_max','OppGameScoreF_last16_std',\n",
        "                        'OppGameScoreF_last32_mean','OppGameScoreF_last32_median','OppGameScoreF_last32_max','OppGameScoreF_last32_std',\n",
        "                        'OppGameScoreF_last64_mean','OppGameScoreF_last64_median','OppGameScoreF_last64_max','OppGameScoreF_last64_std',\n",
        "                        'OppGameScoreD_mean','OppGameScoreD_median','OppGameScoreD_max','OppGameScoreD_std',\n",
        "                        'OppGameScoreD_last8_mean','OppGameScoreD_last8_median','OppGameScoreD_last8_max','OppGameScoreD_last8_std',\n",
        "                        'OppGameScoreD_last16_mean','OppGameScoreD_last16_median','OppGameScoreD_last16_max','OppGameScoreD_last16_std',\n",
        "                        'OppGameScoreD_last32_mean','OppGameScoreD_last32_median','OppGameScoreD_last32_max','OppGameScoreD_last32_std',\n",
        "                        'OppGameScoreD_last64_mean','OppGameScoreD_last64_median','OppGameScoreD_last64_max','OppGameScoreD_last64_std',\n",
        "                        'OppGoals_last8','OppShots_last8','OppShotAttempts_last8','OppxG_last8',\n",
        "                        'OppGoals_5v5_last8','OppShots_5v5_last8','OppShotAttempts_5v5_last8','OppxG_5v5_last8',\n",
        "                        'OppGoals_last16','OppShots_last16','OppShotAttempts_last16','OppxG_last16',\n",
        "                        'OppGoals_5v5_last16','OppShots_5v5_last16','OppShotAttempts_5v5_last16','OppxG_5v5_last16',\n",
        "                        'OppGoals_last32','OppShots_last32','OppShotAttempts_last32','OppxG_last32',\n",
        "                        'OppGoals_5v5_last32','OppShots_5v5_last32','OppShotAttempts_5v5_last32','OppxG_5v5_last32',\n",
        "                        'OppGoals_last64','OppShots_last64','OppShotAttempts_last64','OppxG_last64',\n",
        "                        'OppGoals_5v5_last64','OppShots_5v5_last64','OppShotAttempts_5v5_last64','OppxG_5v5_last64',\n",
        "                        'OppGameScore_mean_last8','OppGameScore_median_last8','OppGameScore_max_last8','OppGameScore_std_last8',\n",
        "                        'OppGameScore_mean_last16','OppGameScore_median_last16','OppGameScore_max_last16','OppGameScore_std_last16',\n",
        "                        'OppGameScore_mean_last32','OppGameScore_median_last32','OppGameScore_max_last32','OppGameScore_std_last32',\n",
        "                        'OppGameScore_mean_last64','OppGameScore_median_last64','OppGameScore_max_last64','OppGameScore_std_last64',\n",
        "                        'teamGameVal'\n",
        "                        ]\n",
        "df = df.merge(df_opp, on=['Game_Id','Date','Season','teamGameVal'])\n",
        "df = df.drop('teamGameVal',1)\n",
        "df = df.loc[df['Team']!=df['Opp']]\n",
        "df['EloDiff'] = df['Elo'] - df['OppElo']\n",
        "df['EloDiff_538adj'] = (df['Elo'] - df['OppElo'] + (df['Home']*50) + ((df['Home']-1)*50))*(df['Playoffs']*0.25+1)"
      ],
      "execution_count": 42,
      "outputs": []
    },
    {
      "cell_type": "code",
      "metadata": {
        "id": "8i4Vr7STjIeN"
      },
      "source": [
        "# add lag features for allowed stats\n",
        "df = _add_lag(df, ['GoalsAgainst','ShotsAgainst','ShotAttemptsAgainst','xGAgainst',\n",
        "                               'GoalsAgainst_5v5','ShotsAgainst_5v5','ShotAttemptsAgainst_5v5','xGAgainst_5v5'], 8, 'Team')\n",
        "df = _add_lag(df, ['GoalsAgainst','ShotsAgainst','ShotAttemptsAgainst','xGAgainst',\n",
        "                               'GoalsAgainst_5v5','ShotsAgainst_5v5','ShotAttemptsAgainst_5v5','xGAgainst_5v5'], 16, 'Team')\n",
        "df = _add_lag(df, ['GoalsAgainst','ShotsAgainst','ShotAttemptsAgainst','xGAgainst',\n",
        "                               'GoalsAgainst_5v5','ShotsAgainst_5v5','ShotAttemptsAgainst_5v5','xGAgainst_5v5'], 32, 'Team')\n",
        "df = _add_lag(df, ['GoalsAgainst','ShotsAgainst','ShotAttemptsAgainst','xGAgainst',\n",
        "                               'GoalsAgainst_5v5','ShotsAgainst_5v5','ShotAttemptsAgainst_5v5','xGAgainst_5v5'], 64, 'Team')"
      ],
      "execution_count": 43,
      "outputs": []
    },
    {
      "cell_type": "code",
      "source": [
        "df['LastGame'] = df.groupby('Team')['Date'].shift(1)\n",
        "df['RestDays'] = (pd.to_datetime(df['Date']) - pd.to_datetime(df['LastGame']))/np.timedelta64(1,'D')"
      ],
      "metadata": {
        "id": "eQCGmH9l9PLT"
      },
      "execution_count": 44,
      "outputs": []
    },
    {
      "cell_type": "code",
      "source": [
        "# add game lines\n",
        "lines = pd.read_csv('lines.csv')\n",
        "lines['Team'] = lines['Team'].replace({\n",
        "    'Pittsburgh':'PIT','TampaBay':'TBL','SeattleKraken':'SEA','Vegas':'VGK','NYRangers':'NYR','Washington':'WSH','Montreal':'MTL','Toronto':'TOR',\n",
        "    'Vancouver':'VAN','Edmonton':'EDM','Chicago':'CHI','Colorado':'COL','Winnipeg':'WPG','Anaheim':'ANA','Ottawa':'OTT','Buffalo':'BUF',\n",
        "    'Florida':'FLA','NYIslanders':'NYI','Carolina':'CAR','Dallas':'DAL','Arizona':'ARI','Columbus':'CBJ','Detroit':'DET','Nashville':'NSH',\n",
        "    'LosAngeles':'LAK','NewJersey':'NJD','Philadelphia':'PHI','Minnesota':'MIN','Boston':'BOS','St.Louis':'STL','Calgary':'CGY','SanJose':'SJS',\n",
        "    'Tampa Bay':'TBL','NY Islanders':'NYI','St. Louis':'STL','NY Rangers':'NYR','San Jose':'SJS','New Jersey':'NJD','Seattle Kraken':'SEA',\n",
        "    'Los Angeles':'LAK','Arizonas':'ARI','Tampa':'TBL','Phoenix':'ARI'\n",
        "})\n",
        "lines.to_csv('lines.csv', index=False)\n",
        "\n",
        "#df = df.drop(['Open','Close'],1)\n",
        "df = df.merge(lines[['Season','Date','Team','Open','Close']], how='left', on=['Season','Date','Team'])\n",
        "\n",
        "df['OpenImpliedPct'] = 0.\n",
        "df['Open'] = df['Open'].astype(float)\n",
        "df.loc[df['Open']<0, 'OpenImpliedPct'] = df.loc[df['Open']<0, 'Open']/(df.loc[df['Open']<0, 'Open']-100)\n",
        "df.loc[df['Open']>0, 'OpenImpliedPct'] = 100/(100+df.loc[df['Open']>0, 'Open'])\n",
        "\n",
        "df['CloseImpliedPct'] = 0.\n",
        "df['Close'] = df['Close'].astype(float)\n",
        "df.loc[df['Close']<0, 'CloseImpliedPct'] = df.loc[df['Close']<0, 'Close']/(df.loc[df['Close']<0, 'Close']-100)\n",
        "df.loc[df['Close']>0, 'CloseImpliedPct'] = 100/(100+df.loc[df['Close']>0, 'Close'])"
      ],
      "metadata": {
        "id": "1uEf1MvD6Gyb"
      },
      "execution_count": 45,
      "outputs": []
    },
    {
      "cell_type": "markdown",
      "source": [
        "V1.0\n",
        "features = ['Home','EloDiff',\n",
        "            'ShotAttempts_last8','OppShotAttempts_last8',\n",
        "            'Shots_last16','ShotAttempts_last16','OppShotAttempts_5v5_last16','OppShotAttempts_last16','OppxG_last16',\n",
        "            'ShotAttempts_5v5_last32','OppShotAttempts_last32','OppxG_last32','Shots_last32','OppShots_5v5_last32',\n",
        "            'Goals_last64','xG_last64','Goals_5v5_last64','OppShotAttempts_last64','OppxG_last64',\n",
        "            'GameScore_mean_last8','GameScore_max_last32','GameScore_max_last16','GameScore_median_last64',\n",
        "            'GameScore_std_last16','GameScore_std_last32','GameScore_std_last64','GameScore_max_last64',\n",
        "            'GameScore_median_last32'\n",
        "            ]\n",
        "\n",
        "V2.0\n",
        "features = ['EloDiff','EloDiff_538adj',\n",
        "            'Shots_5v5_last8','ShotAttempts_5v5_last8',\n",
        "            'OppxG_last16','OppShotAttempts_last16',\n",
        "            'OppShotAttempts_5v5_last32','OppShots_5v5_last32','OppGoals_last32','OppShotAttempts_last32',\n",
        "            'ShotsAgainst_last8','ShotsAgainst_5v5_last8','ShotAttemptsAgainst_5v5_last8',\n",
        "            'GameScore_median_last8','GameScore_max_last8'\n",
        "            ]\n",
        "\n",
        "V3.0\n",
        "features = ['EloDiff','EloDiff_538adj',\n",
        "            'Shots_5v5_last8','ShotAttempts_5v5_last8',\n",
        "            'OppxG_last16','OppShotAttempts_last16',\n",
        "            'OppShotAttempts_5v5_last32','OppShots_5v5_last32','OppGoals_last32','OppShotAttempts_last32',\n",
        "            'ShotsAgainst_last8','ShotsAgainst_5v5_last8','ShotAttemptsAgainst_5v5_last8',\n",
        "            'GameScore_median_last8','GameScore_max_last8','GameScore_last64_std','GameScoreF_last64_max','GameScoreF_last64_std',\n",
        "            'GameScoreD_last64_mean','GameScoreD_last64_median','GameScoreD_last64_max','OppGameScoreD_last64_std',\n",
        "            'OppGameScoreF_last64_median','OppGameScoreD_last32_median','OppGameScoreD_last32_max','GameScoreD_last32_std',\n",
        "            'GameScoreD_last32_median','GameScore_last16_mean','GameScore_last16_median','GameScoreF_last16_median',\n",
        "            'GameScoreF_last16_max','OppGameScoreD_last16_mean','OppGameScoreF_last16_mean','OppGameScore_last16_mean',\n",
        "            'OppGameScore_last16_std','OppGameScore_last16_median','OppGameScoreF_last8_max','OppGameScoreF_last8_median',\n",
        "            'OppGameScoreD_last8_mean','OppGameScoreD_last8_median','GameScoreD_last8_mean','GameScoreD_last8_median',\n",
        "            'GameScoreD_last8_max','GameScoreF_last8_mean','GameScore_last8_median','GameScore_last8_max'\n",
        "            ]"
      ],
      "metadata": {
        "id": "y7n0FBUD-5YG"
      }
    },
    {
      "cell_type": "code",
      "metadata": {
        "id": "NNZ1Ax1JjT2Z",
        "colab": {
          "base_uri": "https://localhost:8080/"
        },
        "outputId": "2c84bd80-8c08-4f6b-eab9-44a7d8ea7fac"
      },
      "source": [
        "scaler_line = pickle.load(open('scaler_line.pkl', 'rb'))\n",
        "features = ['Open', 'OpenImpliedPct']\n",
        "X_df_line = df.loc[~df[features].isnull().max(1)]\n",
        "#X_df = df.loc[df['Date']==today.strftime('%Y-%m-%d')]\n",
        "#X_df = df.loc[df['Date']>=\"2021-11-01\"]\n",
        "#X_df_line = X_df_line.loc[X_df_line['Season']==2021]\n",
        "X_df_line = X_df_line.loc[X_df_line['Home']==1]\n",
        "X = X_df_line[features].values\n",
        "X = scaler_line.transform(X)"
      ],
      "execution_count": 46,
      "outputs": [
        {
          "output_type": "stream",
          "name": "stderr",
          "text": [
            "Trying to unpickle estimator StandardScaler from version 1.0.1 when using version 1.0.2. This might lead to breaking code or invalid results. Use at your own risk. For more info please refer to:\n",
            "https://scikit-learn.org/stable/modules/model_persistence.html#security-maintainability-limitations\n",
            "\u001b[0m"
          ]
        }
      ]
    },
    {
      "cell_type": "code",
      "metadata": {
        "id": "3sv9P_i0O8e9",
        "colab": {
          "base_uri": "https://localhost:8080/"
        },
        "outputId": "7b804a3f-c591-4044-9240-4531fb395ecd"
      },
      "source": [
        "model_line = pickle.load(open('lr_line.pkl', 'rb'))\n",
        "X_df_line['winPct_line'] = model_line.predict_proba(X)[:,1]\n",
        "X_df_line['OppWinPct_line'] = 1 - X_df_line['winPct_line']"
      ],
      "execution_count": 47,
      "outputs": [
        {
          "output_type": "stream",
          "name": "stderr",
          "text": [
            "Trying to unpickle estimator LogisticRegression from version 1.0.1 when using version 1.0.2. This might lead to breaking code or invalid results. Use at your own risk. For more info please refer to:\n",
            "https://scikit-learn.org/stable/modules/model_persistence.html#security-maintainability-limitations\n",
            "\u001b[0m"
          ]
        }
      ]
    },
    {
      "cell_type": "code",
      "source": [
        "scaler = pickle.load(open('games_scaler.pkl', 'rb'))\n",
        "features = ['Open', 'OpenImpliedPct', 'ShotAttempts_5v5_last8', 'OppShotAttempts_5v5_last16',\n",
        " 'GameScoreF_last32_median', 'ShotsAgainst_5v5_last8', 'GoalsAgainst_5v5_last8', 'OppShotAttempts_last32',\n",
        " 'ShotsAgainst_last8', 'EloDiff', 'OppShotAttempts_5v5_last8', 'ShotAttempts_last8', 'GameScore_last8_max',\n",
        " 'GameScoreF_last8_max', 'GameScoreD_last8_max', 'RestDays', 'GameScore_last64_median', 'GameScore_last64_std',\n",
        " 'GameScoreF_last64_std', 'GameScoreF_last16_mean', 'OppShots_5v5_last8', 'OppShots_last32',\n",
        " 'EloDiff_538adj', 'CloseImpliedPct']\n",
        "X_df = df.loc[~df[features].isnull().max(1)]\n",
        "#X_df = df.loc[df['Date']==today.strftime('%Y-%m-%d')]\n",
        "#X_df = df.loc[df['Date']>=\"2021-11-01\"]\n",
        "X_df = X_df.loc[X_df['Season']>=2020]\n",
        "X_df = X_df.loc[X_df['Home']==1]\n",
        "X = X_df[features].values\n",
        "X = scaler.transform(X)"
      ],
      "metadata": {
        "id": "Mm9KkcIGInn5",
        "colab": {
          "base_uri": "https://localhost:8080/"
        },
        "outputId": "2ce58962-b65d-45f5-b5f8-64d98a0a04cc"
      },
      "execution_count": 48,
      "outputs": [
        {
          "output_type": "stream",
          "name": "stderr",
          "text": [
            "Trying to unpickle estimator StandardScaler from version 1.0.1 when using version 1.0.2. This might lead to breaking code or invalid results. Use at your own risk. For more info please refer to:\n",
            "https://scikit-learn.org/stable/modules/model_persistence.html#security-maintainability-limitations\n",
            "\u001b[0m"
          ]
        }
      ]
    },
    {
      "cell_type": "code",
      "source": [
        "model = pickle.load(open('games_lr.pkl', 'rb'))\n",
        "X_df['winPct'] = model.predict_proba(X)[:,1]\n",
        "X_df['OppWinPct'] = 1 - X_df['winPct']"
      ],
      "metadata": {
        "id": "Vhkl2IJvI7Om",
        "colab": {
          "base_uri": "https://localhost:8080/"
        },
        "outputId": "99b5c7d7-21e2-43a1-a741-5d34959b6cab"
      },
      "execution_count": 49,
      "outputs": [
        {
          "output_type": "stream",
          "name": "stderr",
          "text": [
            "Trying to unpickle estimator LogisticRegression from version 1.0.1 when using version 1.0.2. This might lead to breaking code or invalid results. Use at your own risk. For more info please refer to:\n",
            "https://scikit-learn.org/stable/modules/model_persistence.html#security-maintainability-limitations\n",
            "\u001b[0m"
          ]
        }
      ]
    },
    {
      "cell_type": "code",
      "source": [
        "X_df_line = X_df_line[['Date','Team','winPct_line','OppWinPct_line']]\n",
        "X_df = X_df.merge(X_df_line, how='outer', on=['Date','Team'])"
      ],
      "metadata": {
        "id": "gpXTaEUuNMGQ"
      },
      "execution_count": 50,
      "outputs": []
    },
    {
      "cell_type": "code",
      "source": [
        "X_df['adj_winPct'] = ((X_df['winPct'] - 0.5) * 1.1) + 0.5\n",
        "X_df['adj_OppWinPct'] = 1 - X_df['adj_winPct']\n",
        "\n",
        "#X_df['adj_winPct_line'] = ((X_df['winPct_line'] - 0.5) * 1.3) + 0.5\n",
        "#X_df['adj_OppWinPct_line'] = 1 - X_df['adj_winPct_line']"
      ],
      "metadata": {
        "id": "tY-aF8JAZmLb"
      },
      "execution_count": 51,
      "outputs": []
    },
    {
      "cell_type": "code",
      "source": [
        "X_df.loc[(X_df['Date']==\"2022-01-19\")][['Date','Team','Opp','Home','Win','Open','Close','winPct','adj_winPct']]"
      ],
      "metadata": {
        "colab": {
          "base_uri": "https://localhost:8080/",
          "height": 143
        },
        "id": "qiNDJwZ6fWrn",
        "outputId": "69085485-13a3-4c26-a3ff-a9dd5b8088f4"
      },
      "execution_count": 52,
      "outputs": [
        {
          "output_type": "execute_result",
          "data": {
            "text/html": [
              "\n",
              "  <div id=\"df-bf631ae6-990d-4bdc-99fe-790a2aba2e50\">\n",
              "    <div class=\"colab-df-container\">\n",
              "      <div>\n",
              "<style scoped>\n",
              "    .dataframe tbody tr th:only-of-type {\n",
              "        vertical-align: middle;\n",
              "    }\n",
              "\n",
              "    .dataframe tbody tr th {\n",
              "        vertical-align: top;\n",
              "    }\n",
              "\n",
              "    .dataframe thead th {\n",
              "        text-align: right;\n",
              "    }\n",
              "</style>\n",
              "<table border=\"1\" class=\"dataframe\">\n",
              "  <thead>\n",
              "    <tr style=\"text-align: right;\">\n",
              "      <th></th>\n",
              "      <th>Date</th>\n",
              "      <th>Team</th>\n",
              "      <th>Opp</th>\n",
              "      <th>Home</th>\n",
              "      <th>Win</th>\n",
              "      <th>Open</th>\n",
              "      <th>Close</th>\n",
              "      <th>winPct</th>\n",
              "      <th>adj_winPct</th>\n",
              "    </tr>\n",
              "  </thead>\n",
              "  <tbody>\n",
              "    <tr>\n",
              "      <th>1456</th>\n",
              "      <td>2022-01-19</td>\n",
              "      <td>NJD</td>\n",
              "      <td>ARI</td>\n",
              "      <td>1.0</td>\n",
              "      <td>NaN</td>\n",
              "      <td>-200.0</td>\n",
              "      <td>-210.0</td>\n",
              "      <td>0.641288</td>\n",
              "      <td>0.655417</td>\n",
              "    </tr>\n",
              "    <tr>\n",
              "      <th>1457</th>\n",
              "      <td>2022-01-19</td>\n",
              "      <td>NYR</td>\n",
              "      <td>TOR</td>\n",
              "      <td>1.0</td>\n",
              "      <td>NaN</td>\n",
              "      <td>125.0</td>\n",
              "      <td>140.0</td>\n",
              "      <td>0.393569</td>\n",
              "      <td>0.382926</td>\n",
              "    </tr>\n",
              "    <tr>\n",
              "      <th>1458</th>\n",
              "      <td>2022-01-19</td>\n",
              "      <td>ANA</td>\n",
              "      <td>COL</td>\n",
              "      <td>1.0</td>\n",
              "      <td>NaN</td>\n",
              "      <td>215.0</td>\n",
              "      <td>210.0</td>\n",
              "      <td>0.293199</td>\n",
              "      <td>0.272519</td>\n",
              "    </tr>\n",
              "  </tbody>\n",
              "</table>\n",
              "</div>\n",
              "      <button class=\"colab-df-convert\" onclick=\"convertToInteractive('df-bf631ae6-990d-4bdc-99fe-790a2aba2e50')\"\n",
              "              title=\"Convert this dataframe to an interactive table.\"\n",
              "              style=\"display:none;\">\n",
              "        \n",
              "  <svg xmlns=\"http://www.w3.org/2000/svg\" height=\"24px\"viewBox=\"0 0 24 24\"\n",
              "       width=\"24px\">\n",
              "    <path d=\"M0 0h24v24H0V0z\" fill=\"none\"/>\n",
              "    <path d=\"M18.56 5.44l.94 2.06.94-2.06 2.06-.94-2.06-.94-.94-2.06-.94 2.06-2.06.94zm-11 1L8.5 8.5l.94-2.06 2.06-.94-2.06-.94L8.5 2.5l-.94 2.06-2.06.94zm10 10l.94 2.06.94-2.06 2.06-.94-2.06-.94-.94-2.06-.94 2.06-2.06.94z\"/><path d=\"M17.41 7.96l-1.37-1.37c-.4-.4-.92-.59-1.43-.59-.52 0-1.04.2-1.43.59L10.3 9.45l-7.72 7.72c-.78.78-.78 2.05 0 2.83L4 21.41c.39.39.9.59 1.41.59.51 0 1.02-.2 1.41-.59l7.78-7.78 2.81-2.81c.8-.78.8-2.07 0-2.86zM5.41 20L4 18.59l7.72-7.72 1.47 1.35L5.41 20z\"/>\n",
              "  </svg>\n",
              "      </button>\n",
              "      \n",
              "  <style>\n",
              "    .colab-df-container {\n",
              "      display:flex;\n",
              "      flex-wrap:wrap;\n",
              "      gap: 12px;\n",
              "    }\n",
              "\n",
              "    .colab-df-convert {\n",
              "      background-color: #E8F0FE;\n",
              "      border: none;\n",
              "      border-radius: 50%;\n",
              "      cursor: pointer;\n",
              "      display: none;\n",
              "      fill: #1967D2;\n",
              "      height: 32px;\n",
              "      padding: 0 0 0 0;\n",
              "      width: 32px;\n",
              "    }\n",
              "\n",
              "    .colab-df-convert:hover {\n",
              "      background-color: #E2EBFA;\n",
              "      box-shadow: 0px 1px 2px rgba(60, 64, 67, 0.3), 0px 1px 3px 1px rgba(60, 64, 67, 0.15);\n",
              "      fill: #174EA6;\n",
              "    }\n",
              "\n",
              "    [theme=dark] .colab-df-convert {\n",
              "      background-color: #3B4455;\n",
              "      fill: #D2E3FC;\n",
              "    }\n",
              "\n",
              "    [theme=dark] .colab-df-convert:hover {\n",
              "      background-color: #434B5C;\n",
              "      box-shadow: 0px 1px 3px 1px rgba(0, 0, 0, 0.15);\n",
              "      filter: drop-shadow(0px 1px 2px rgba(0, 0, 0, 0.3));\n",
              "      fill: #FFFFFF;\n",
              "    }\n",
              "  </style>\n",
              "\n",
              "      <script>\n",
              "        const buttonEl =\n",
              "          document.querySelector('#df-bf631ae6-990d-4bdc-99fe-790a2aba2e50 button.colab-df-convert');\n",
              "        buttonEl.style.display =\n",
              "          google.colab.kernel.accessAllowed ? 'block' : 'none';\n",
              "\n",
              "        async function convertToInteractive(key) {\n",
              "          const element = document.querySelector('#df-bf631ae6-990d-4bdc-99fe-790a2aba2e50');\n",
              "          const dataTable =\n",
              "            await google.colab.kernel.invokeFunction('convertToInteractive',\n",
              "                                                     [key], {});\n",
              "          if (!dataTable) return;\n",
              "\n",
              "          const docLinkHtml = 'Like what you see? Visit the ' +\n",
              "            '<a target=\"_blank\" href=https://colab.research.google.com/notebooks/data_table.ipynb>data table notebook</a>'\n",
              "            + ' to learn more about interactive tables.';\n",
              "          element.innerHTML = '';\n",
              "          dataTable['output_type'] = 'display_data';\n",
              "          await google.colab.output.renderOutput(dataTable, element);\n",
              "          const docLink = document.createElement('div');\n",
              "          docLink.innerHTML = docLinkHtml;\n",
              "          element.appendChild(docLink);\n",
              "        }\n",
              "      </script>\n",
              "    </div>\n",
              "  </div>\n",
              "  "
            ],
            "text/plain": [
              "            Date Team  Opp  Home  Win   Open  Close    winPct  adj_winPct\n",
              "1456  2022-01-19  NJD  ARI   1.0  NaN -200.0 -210.0  0.641288    0.655417\n",
              "1457  2022-01-19  NYR  TOR   1.0  NaN  125.0  140.0  0.393569    0.382926\n",
              "1458  2022-01-19  ANA  COL   1.0  NaN  215.0  210.0  0.293199    0.272519"
            ]
          },
          "metadata": {},
          "execution_count": 52
        }
      ]
    },
    {
      "cell_type": "code",
      "source": [
        "from sklearn.metrics import log_loss, roc_auc_score\n",
        "print ('LogLoss score: {}'.format(str(log_loss(X_df.loc[~X_df[['Win','winPct']].isnull().max(1)]['Win'].values,\n",
        "                                               X_df.loc[~X_df[['Win','winPct']].isnull().max(1)]['winPct'].values))))\n",
        "print ('AUC score: {}'.format(str(roc_auc_score(X_df.loc[~X_df[['Win','winPct']].isnull().max(1)]['Win'].values,\n",
        "                                                X_df.loc[~X_df[['Win','winPct']].isnull().max(1)]['winPct'].values))))"
      ],
      "metadata": {
        "colab": {
          "base_uri": "https://localhost:8080/"
        },
        "id": "Fcz6mPghV6WJ",
        "outputId": "81405462-3df2-40fe-c02e-ef1dbbb3b365"
      },
      "execution_count": 51,
      "outputs": [
        {
          "output_type": "stream",
          "name": "stdout",
          "text": [
            "LogLoss score: 0.6528006879581068\n",
            "AUC score: 0.6559197695035461\n"
          ]
        }
      ]
    },
    {
      "cell_type": "code",
      "source": [
        "X_df['adj_winPct_line'] = ((X_df['winPct_line'] - 0.5) * 1.1) + 0.5\n",
        "X_df['adj_OppWinPct_line'] = 1 - X_df['adj_winPct_line']\n",
        "print ('LogLoss score: {}'.format(str(log_loss(X_df.loc[(~X_df[['Win','adj_winPct_line']].isnull().max(1))&(X_df['Season']==2020)]['Win'].values,\n",
        "                                               X_df.loc[(~X_df[['Win','adj_winPct_line']].isnull().max(1))&(X_df['Season']==2020)]['adj_winPct_line'].values))))\n",
        "print ('AUC score: {}'.format(str(roc_auc_score(X_df.loc[(~X_df[['Win','adj_winPct_line']].isnull().max(1))&(X_df['Season']==2020)]['Win'].values,\n",
        "                                                X_df.loc[(~X_df[['Win','adj_winPct_line']].isnull().max(1))&(X_df['Season']==2020)]['adj_winPct_line'].values))))\n",
        "#0.6547814711136989"
      ],
      "metadata": {
        "colab": {
          "base_uri": "https://localhost:8080/"
        },
        "id": "hEQLLYn2YK2l",
        "outputId": "27c58c5d-d57e-4dca-d9cd-eca992bd106f"
      },
      "execution_count": 52,
      "outputs": [
        {
          "output_type": "stream",
          "name": "stdout",
          "text": [
            "LogLoss score: 0.6564032582004178\n",
            "AUC score: 0.6562658507894368\n"
          ]
        }
      ]
    },
    {
      "cell_type": "code",
      "source": [
        "X_df['adj_winPct'] = ((X_df['winPct'] - 0.5) * 1.2) + 0.5\n",
        "X_df['adj_OppWinPct'] = 1 - X_df['adj_winPct']\n",
        "print ('LogLoss score: {}'.format(str(log_loss(X_df.loc[~X_df[['Win','adj_winPct']].isnull().max(1)]['Win'].values,\n",
        "                                               X_df.loc[~X_df[['Win','adj_winPct']].isnull().max(1)]['adj_winPct'].values))))\n",
        "print ('AUC score: {}'.format(str(roc_auc_score(X_df.loc[~X_df[['Win','adj_winPct']].isnull().max(1)]['Win'].values,\n",
        "                                                X_df.loc[~X_df[['Win','adj_winPct']].isnull().max(1)]['adj_winPct'].values))))\n",
        "#0.6547814711136989"
      ],
      "metadata": {
        "colab": {
          "base_uri": "https://localhost:8080/"
        },
        "id": "UHmgl1QZM-7u",
        "outputId": "7cfd3d38-9aec-4136-98f5-68457443bfca"
      },
      "execution_count": null,
      "outputs": [
        {
          "output_type": "stream",
          "name": "stdout",
          "text": [
            "LogLoss score: 0.6513581075822018\n",
            "AUC score: 0.6559197695035461\n"
          ]
        }
      ]
    },
    {
      "cell_type": "code",
      "source": [
        "X_df['binned_winPct'] = np.round(X_df['winPct'], 1)\n",
        "#X_df.loc[X_df['Season']<=2021][['binned_winPct','winPct','Win']]\\\n",
        "#    .groupby(['binned_winPct']).agg({'winPct':['mean'],'Win':['count','mean']})\n",
        "X_df.loc[X_df['Season']<=2021][['binned_winPct','winPct','adj_winPct','Win']]\\\n",
        "    .groupby(['binned_winPct']).agg({'winPct':['mean'],'adj_winPct':['mean'],'Win':['count','mean']})"
      ],
      "metadata": {
        "colab": {
          "base_uri": "https://localhost:8080/",
          "height": 332
        },
        "id": "g1JXtaq1P-QX",
        "outputId": "1258b026-c301-4e6f-9552-a31ef9d0548d"
      },
      "execution_count": null,
      "outputs": [
        {
          "output_type": "execute_result",
          "data": {
            "text/html": [
              "\n",
              "  <div id=\"df-501f7e18-dd32-4195-a7fd-13a28eeabba5\">\n",
              "    <div class=\"colab-df-container\">\n",
              "      <div>\n",
              "<style scoped>\n",
              "    .dataframe tbody tr th:only-of-type {\n",
              "        vertical-align: middle;\n",
              "    }\n",
              "\n",
              "    .dataframe tbody tr th {\n",
              "        vertical-align: top;\n",
              "    }\n",
              "\n",
              "    .dataframe thead tr th {\n",
              "        text-align: left;\n",
              "    }\n",
              "\n",
              "    .dataframe thead tr:last-of-type th {\n",
              "        text-align: right;\n",
              "    }\n",
              "</style>\n",
              "<table border=\"1\" class=\"dataframe\">\n",
              "  <thead>\n",
              "    <tr>\n",
              "      <th></th>\n",
              "      <th>winPct</th>\n",
              "      <th>adj_winPct</th>\n",
              "      <th colspan=\"2\" halign=\"left\">Win</th>\n",
              "    </tr>\n",
              "    <tr>\n",
              "      <th></th>\n",
              "      <th>mean</th>\n",
              "      <th>mean</th>\n",
              "      <th>count</th>\n",
              "      <th>mean</th>\n",
              "    </tr>\n",
              "    <tr>\n",
              "      <th>binned_winPct</th>\n",
              "      <th></th>\n",
              "      <th></th>\n",
              "      <th></th>\n",
              "      <th></th>\n",
              "    </tr>\n",
              "  </thead>\n",
              "  <tbody>\n",
              "    <tr>\n",
              "      <th>0.2</th>\n",
              "      <td>0.241293</td>\n",
              "      <td>0.189551</td>\n",
              "      <td>2</td>\n",
              "      <td>0.000000</td>\n",
              "    </tr>\n",
              "    <tr>\n",
              "      <th>0.3</th>\n",
              "      <td>0.315602</td>\n",
              "      <td>0.278723</td>\n",
              "      <td>81</td>\n",
              "      <td>0.345679</td>\n",
              "    </tr>\n",
              "    <tr>\n",
              "      <th>0.4</th>\n",
              "      <td>0.407142</td>\n",
              "      <td>0.388571</td>\n",
              "      <td>280</td>\n",
              "      <td>0.410714</td>\n",
              "    </tr>\n",
              "    <tr>\n",
              "      <th>0.5</th>\n",
              "      <td>0.499183</td>\n",
              "      <td>0.499019</td>\n",
              "      <td>420</td>\n",
              "      <td>0.516667</td>\n",
              "    </tr>\n",
              "    <tr>\n",
              "      <th>0.6</th>\n",
              "      <td>0.598039</td>\n",
              "      <td>0.617646</td>\n",
              "      <td>345</td>\n",
              "      <td>0.640580</td>\n",
              "    </tr>\n",
              "    <tr>\n",
              "      <th>0.7</th>\n",
              "      <td>0.691363</td>\n",
              "      <td>0.729636</td>\n",
              "      <td>200</td>\n",
              "      <td>0.750000</td>\n",
              "    </tr>\n",
              "    <tr>\n",
              "      <th>0.8</th>\n",
              "      <td>0.761291</td>\n",
              "      <td>0.813549</td>\n",
              "      <td>24</td>\n",
              "      <td>0.875000</td>\n",
              "    </tr>\n",
              "  </tbody>\n",
              "</table>\n",
              "</div>\n",
              "      <button class=\"colab-df-convert\" onclick=\"convertToInteractive('df-501f7e18-dd32-4195-a7fd-13a28eeabba5')\"\n",
              "              title=\"Convert this dataframe to an interactive table.\"\n",
              "              style=\"display:none;\">\n",
              "        \n",
              "  <svg xmlns=\"http://www.w3.org/2000/svg\" height=\"24px\"viewBox=\"0 0 24 24\"\n",
              "       width=\"24px\">\n",
              "    <path d=\"M0 0h24v24H0V0z\" fill=\"none\"/>\n",
              "    <path d=\"M18.56 5.44l.94 2.06.94-2.06 2.06-.94-2.06-.94-.94-2.06-.94 2.06-2.06.94zm-11 1L8.5 8.5l.94-2.06 2.06-.94-2.06-.94L8.5 2.5l-.94 2.06-2.06.94zm10 10l.94 2.06.94-2.06 2.06-.94-2.06-.94-.94-2.06-.94 2.06-2.06.94z\"/><path d=\"M17.41 7.96l-1.37-1.37c-.4-.4-.92-.59-1.43-.59-.52 0-1.04.2-1.43.59L10.3 9.45l-7.72 7.72c-.78.78-.78 2.05 0 2.83L4 21.41c.39.39.9.59 1.41.59.51 0 1.02-.2 1.41-.59l7.78-7.78 2.81-2.81c.8-.78.8-2.07 0-2.86zM5.41 20L4 18.59l7.72-7.72 1.47 1.35L5.41 20z\"/>\n",
              "  </svg>\n",
              "      </button>\n",
              "      \n",
              "  <style>\n",
              "    .colab-df-container {\n",
              "      display:flex;\n",
              "      flex-wrap:wrap;\n",
              "      gap: 12px;\n",
              "    }\n",
              "\n",
              "    .colab-df-convert {\n",
              "      background-color: #E8F0FE;\n",
              "      border: none;\n",
              "      border-radius: 50%;\n",
              "      cursor: pointer;\n",
              "      display: none;\n",
              "      fill: #1967D2;\n",
              "      height: 32px;\n",
              "      padding: 0 0 0 0;\n",
              "      width: 32px;\n",
              "    }\n",
              "\n",
              "    .colab-df-convert:hover {\n",
              "      background-color: #E2EBFA;\n",
              "      box-shadow: 0px 1px 2px rgba(60, 64, 67, 0.3), 0px 1px 3px 1px rgba(60, 64, 67, 0.15);\n",
              "      fill: #174EA6;\n",
              "    }\n",
              "\n",
              "    [theme=dark] .colab-df-convert {\n",
              "      background-color: #3B4455;\n",
              "      fill: #D2E3FC;\n",
              "    }\n",
              "\n",
              "    [theme=dark] .colab-df-convert:hover {\n",
              "      background-color: #434B5C;\n",
              "      box-shadow: 0px 1px 3px 1px rgba(0, 0, 0, 0.15);\n",
              "      filter: drop-shadow(0px 1px 2px rgba(0, 0, 0, 0.3));\n",
              "      fill: #FFFFFF;\n",
              "    }\n",
              "  </style>\n",
              "\n",
              "      <script>\n",
              "        const buttonEl =\n",
              "          document.querySelector('#df-501f7e18-dd32-4195-a7fd-13a28eeabba5 button.colab-df-convert');\n",
              "        buttonEl.style.display =\n",
              "          google.colab.kernel.accessAllowed ? 'block' : 'none';\n",
              "\n",
              "        async function convertToInteractive(key) {\n",
              "          const element = document.querySelector('#df-501f7e18-dd32-4195-a7fd-13a28eeabba5');\n",
              "          const dataTable =\n",
              "            await google.colab.kernel.invokeFunction('convertToInteractive',\n",
              "                                                     [key], {});\n",
              "          if (!dataTable) return;\n",
              "\n",
              "          const docLinkHtml = 'Like what you see? Visit the ' +\n",
              "            '<a target=\"_blank\" href=https://colab.research.google.com/notebooks/data_table.ipynb>data table notebook</a>'\n",
              "            + ' to learn more about interactive tables.';\n",
              "          element.innerHTML = '';\n",
              "          dataTable['output_type'] = 'display_data';\n",
              "          await google.colab.output.renderOutput(dataTable, element);\n",
              "          const docLink = document.createElement('div');\n",
              "          docLink.innerHTML = docLinkHtml;\n",
              "          element.appendChild(docLink);\n",
              "        }\n",
              "      </script>\n",
              "    </div>\n",
              "  </div>\n",
              "  "
            ],
            "text/plain": [
              "                 winPct adj_winPct   Win          \n",
              "                   mean       mean count      mean\n",
              "binned_winPct                                     \n",
              "0.2            0.241293   0.189551     2  0.000000\n",
              "0.3            0.315602   0.278723    81  0.345679\n",
              "0.4            0.407142   0.388571   280  0.410714\n",
              "0.5            0.499183   0.499019   420  0.516667\n",
              "0.6            0.598039   0.617646   345  0.640580\n",
              "0.7            0.691363   0.729636   200  0.750000\n",
              "0.8            0.761291   0.813549    24  0.875000"
            ]
          },
          "metadata": {},
          "execution_count": 90
        }
      ]
    },
    {
      "cell_type": "code",
      "source": [
        "lines = pd.read_csv('2021_lines.csv')"
      ],
      "metadata": {
        "id": "O1LTX7CnuL5a"
      },
      "execution_count": null,
      "outputs": []
    },
    {
      "cell_type": "code",
      "source": [
        "lines.columns"
      ],
      "metadata": {
        "colab": {
          "base_uri": "https://localhost:8080/"
        },
        "id": "CvZxglxCuTlR",
        "outputId": "2b72c127-1433-4f93-e1be-1106b7627d99"
      },
      "execution_count": null,
      "outputs": [
        {
          "output_type": "execute_result",
          "data": {
            "text/plain": [
              "Index(['date', 'fav', 'underdog', 'line_fav', 'line_underdog', 'winner'], dtype='object')"
            ]
          },
          "metadata": {},
          "execution_count": 65
        }
      ]
    },
    {
      "cell_type": "code",
      "source": [
        "faves = lines[['date','fav','line_fav','winner']]\n",
        "faves['win'] = faves['fav']==faves['winner']\n",
        "faves = faves.drop('winner',1)\n",
        "faves.columns = ['Date','Team','Line','Win']\n",
        "\n",
        "dogs = lines[['date','underdog','line_underdog','winner']]\n",
        "dogs['win'] = dogs['underdog']==dogs['winner']\n",
        "dogs = dogs.drop('winner',1)\n",
        "dogs.columns = ['Date','Team','Line','Win']\n",
        "\n",
        "lines = pd.concat([faves, dogs], ignore_index=True)"
      ],
      "metadata": {
        "colab": {
          "base_uri": "https://localhost:8080/"
        },
        "id": "JEQjFaaOuP0Y",
        "outputId": "ff9fc59e-83de-4559-9e43-4663af817868"
      },
      "execution_count": null,
      "outputs": [
        {
          "output_type": "stream",
          "name": "stderr",
          "text": [
            "\n",
            "A value is trying to be set on a copy of a slice from a DataFrame.\n",
            "Try using .loc[row_indexer,col_indexer] = value instead\n",
            "\n",
            "See the caveats in the documentation: https://pandas.pydata.org/pandas-docs/stable/user_guide/indexing.html#returning-a-view-versus-a-copy\n",
            "\u001b[0m\n",
            "A value is trying to be set on a copy of a slice from a DataFrame.\n",
            "Try using .loc[row_indexer,col_indexer] = value instead\n",
            "\n",
            "See the caveats in the documentation: https://pandas.pydata.org/pandas-docs/stable/user_guide/indexing.html#returning-a-view-versus-a-copy\n",
            "\u001b[0m"
          ]
        }
      ]
    },
    {
      "cell_type": "code",
      "source": [
        "lines['ImpliedPct'] = 0.\n",
        "lines.loc[lines['Line']<0, 'ImpliedPct'] = lines.loc[lines['Line']<0, 'Line']/(lines.loc[lines['Line']<0, 'Line']-100)\n",
        "lines.loc[lines['Line']>0, 'ImpliedPct'] = 100/(100+lines.loc[lines['Line']>0, 'Line'])"
      ],
      "metadata": {
        "id": "t3mzI7Hfu3Ou"
      },
      "execution_count": null,
      "outputs": []
    },
    {
      "cell_type": "code",
      "source": [
        "def _calc_rel_win(lines, X_df, pct_col, pct_col_opp):\n",
        "    #combine game lines with predictions\n",
        "    home = X_df[['Date','Team',pct_col]]\n",
        "    away = X_df[['Date','Opp',pct_col_opp]]\n",
        "    away.columns = ['Date','Team',pct_col]\n",
        "    tmpdf = pd.concat([home, away], ignore_index=True)\n",
        "    tmpdf = lines.merge(tmpdf, how='inner', on=['Date','Team'])\n",
        "\n",
        "    #find all games/teams that would have been bet on\n",
        "    tmpdf = tmpdf.loc[tmpdf[pct_col]>tmpdf['ImpliedPct'], :]\n",
        "\n",
        "    #calculate ratio of win to bet, assuming a win\n",
        "    tmpdf['GainRatio'] = 0.\n",
        "    tmpdf.loc[tmpdf['Line']<0, 'GainRatio'] = -100/tmpdf.loc[tmpdf['Line']<0, 'Line']\n",
        "    tmpdf.loc[tmpdf['Line']>0, 'GainRatio'] = tmpdf.loc[tmpdf['Line']>0, 'Line']/100.\n",
        "\n",
        "    #calculate bet amount\n",
        "    tmpdf['NormBet'] = tmpdf[pct_col]-((1-tmpdf[pct_col])/tmpdf['GainRatio'])\n",
        "\n",
        "    #try capping bets\n",
        "    #tmpdf.loc[tmpdf['NormBet']>0.1, 'NormBet'] = 0.1\n",
        "\n",
        "    #calculate net win\n",
        "    tmpdf['NetWin'] = 0.\n",
        "    tmpdf.loc[tmpdf['Win'], 'NetWin'] = tmpdf.loc[tmpdf['Win'], 'NormBet']*tmpdf.loc[tmpdf['Win'], 'GainRatio']\n",
        "    tmpdf.loc[~tmpdf['Win'], 'NetWin'] = -tmpdf.loc[~tmpdf['Win'], 'NormBet']\n",
        "\n",
        "    return tmpdf"
      ],
      "metadata": {
        "id": "fKLJF9X-1bGy"
      },
      "execution_count": null,
      "outputs": []
    },
    {
      "cell_type": "code",
      "source": [
        "df_netWin = _calc_rel_win(lines, X_df, 'adj_winPct','adj_OppWinPct')\n",
        "print (df_netWin['NetWin'].sum())\n",
        "#3.5077276967942286 for 1.5 adj, 1.4412049759626608 for 0"
      ],
      "metadata": {
        "colab": {
          "base_uri": "https://localhost:8080/"
        },
        "id": "2F2_A-hS3fGf",
        "outputId": "e7b058f2-4c24-461d-ebfb-5d5726a12c83"
      },
      "execution_count": null,
      "outputs": [
        {
          "output_type": "stream",
          "name": "stdout",
          "text": [
            "1.233699583180425\n"
          ]
        }
      ]
    },
    {
      "cell_type": "code",
      "source": [
        "X_df['adj_winPct_line'] = ((X_df['winPct_line'] - 0.5) * 1.5) + 0.5\n",
        "X_df['adj_OppWinPct_line'] = 1 - X_df['adj_winPct_line']"
      ],
      "metadata": {
        "id": "KJsC1TaNoul-"
      },
      "execution_count": null,
      "outputs": []
    },
    {
      "cell_type": "code",
      "source": [
        "X_df['adj_winPct_line'].describe()"
      ],
      "metadata": {
        "colab": {
          "base_uri": "https://localhost:8080/"
        },
        "id": "wFVIYeeSpGWk",
        "outputId": "bcd00dc4-191e-438b-9133-17ff16cea962"
      },
      "execution_count": null,
      "outputs": [
        {
          "output_type": "execute_result",
          "data": {
            "text/plain": [
              "count    10594.000000\n",
              "mean         0.565031\n",
              "std          0.139957\n",
              "min         -0.145493\n",
              "25%          0.474877\n",
              "50%          0.575494\n",
              "75%          0.662908\n",
              "max          0.972433\n",
              "Name: adj_winPct_line, dtype: float64"
            ]
          },
          "metadata": {},
          "execution_count": 129
        }
      ]
    },
    {
      "cell_type": "code",
      "source": [
        "df_netWin[['Date','NetWin']].groupby('Date').sum().reset_index().sort_values(by='Date')"
      ],
      "metadata": {
        "colab": {
          "base_uri": "https://localhost:8080/",
          "height": 424
        },
        "id": "VQ7wdQP22_Z3",
        "outputId": "38302f5f-921c-4632-c647-02737e4bb182"
      },
      "execution_count": null,
      "outputs": [
        {
          "output_type": "execute_result",
          "data": {
            "text/html": [
              "\n",
              "  <div id=\"df-33c58539-6829-4777-96fd-7824c37179d2\">\n",
              "    <div class=\"colab-df-container\">\n",
              "      <div>\n",
              "<style scoped>\n",
              "    .dataframe tbody tr th:only-of-type {\n",
              "        vertical-align: middle;\n",
              "    }\n",
              "\n",
              "    .dataframe tbody tr th {\n",
              "        vertical-align: top;\n",
              "    }\n",
              "\n",
              "    .dataframe thead th {\n",
              "        text-align: right;\n",
              "    }\n",
              "</style>\n",
              "<table border=\"1\" class=\"dataframe\">\n",
              "  <thead>\n",
              "    <tr style=\"text-align: right;\">\n",
              "      <th></th>\n",
              "      <th>Date</th>\n",
              "      <th>NetWin</th>\n",
              "    </tr>\n",
              "  </thead>\n",
              "  <tbody>\n",
              "    <tr>\n",
              "      <th>0</th>\n",
              "      <td>2021-10-12</td>\n",
              "      <td>0.449802</td>\n",
              "    </tr>\n",
              "    <tr>\n",
              "      <th>1</th>\n",
              "      <td>2021-10-13</td>\n",
              "      <td>0.182309</td>\n",
              "    </tr>\n",
              "    <tr>\n",
              "      <th>2</th>\n",
              "      <td>2021-10-14</td>\n",
              "      <td>-0.021058</td>\n",
              "    </tr>\n",
              "    <tr>\n",
              "      <th>3</th>\n",
              "      <td>2021-10-15</td>\n",
              "      <td>-0.012736</td>\n",
              "    </tr>\n",
              "    <tr>\n",
              "      <th>4</th>\n",
              "      <td>2021-10-16</td>\n",
              "      <td>0.138802</td>\n",
              "    </tr>\n",
              "    <tr>\n",
              "      <th>...</th>\n",
              "      <td>...</td>\n",
              "      <td>...</td>\n",
              "    </tr>\n",
              "    <tr>\n",
              "      <th>57</th>\n",
              "      <td>2021-12-15</td>\n",
              "      <td>-0.024080</td>\n",
              "    </tr>\n",
              "    <tr>\n",
              "      <th>58</th>\n",
              "      <td>2021-12-16</td>\n",
              "      <td>0.068854</td>\n",
              "    </tr>\n",
              "    <tr>\n",
              "      <th>59</th>\n",
              "      <td>2021-12-17</td>\n",
              "      <td>0.121541</td>\n",
              "    </tr>\n",
              "    <tr>\n",
              "      <th>60</th>\n",
              "      <td>2021-12-18</td>\n",
              "      <td>0.042535</td>\n",
              "    </tr>\n",
              "    <tr>\n",
              "      <th>61</th>\n",
              "      <td>2021-12-19</td>\n",
              "      <td>0.268567</td>\n",
              "    </tr>\n",
              "  </tbody>\n",
              "</table>\n",
              "<p>62 rows × 2 columns</p>\n",
              "</div>\n",
              "      <button class=\"colab-df-convert\" onclick=\"convertToInteractive('df-33c58539-6829-4777-96fd-7824c37179d2')\"\n",
              "              title=\"Convert this dataframe to an interactive table.\"\n",
              "              style=\"display:none;\">\n",
              "        \n",
              "  <svg xmlns=\"http://www.w3.org/2000/svg\" height=\"24px\"viewBox=\"0 0 24 24\"\n",
              "       width=\"24px\">\n",
              "    <path d=\"M0 0h24v24H0V0z\" fill=\"none\"/>\n",
              "    <path d=\"M18.56 5.44l.94 2.06.94-2.06 2.06-.94-2.06-.94-.94-2.06-.94 2.06-2.06.94zm-11 1L8.5 8.5l.94-2.06 2.06-.94-2.06-.94L8.5 2.5l-.94 2.06-2.06.94zm10 10l.94 2.06.94-2.06 2.06-.94-2.06-.94-.94-2.06-.94 2.06-2.06.94z\"/><path d=\"M17.41 7.96l-1.37-1.37c-.4-.4-.92-.59-1.43-.59-.52 0-1.04.2-1.43.59L10.3 9.45l-7.72 7.72c-.78.78-.78 2.05 0 2.83L4 21.41c.39.39.9.59 1.41.59.51 0 1.02-.2 1.41-.59l7.78-7.78 2.81-2.81c.8-.78.8-2.07 0-2.86zM5.41 20L4 18.59l7.72-7.72 1.47 1.35L5.41 20z\"/>\n",
              "  </svg>\n",
              "      </button>\n",
              "      \n",
              "  <style>\n",
              "    .colab-df-container {\n",
              "      display:flex;\n",
              "      flex-wrap:wrap;\n",
              "      gap: 12px;\n",
              "    }\n",
              "\n",
              "    .colab-df-convert {\n",
              "      background-color: #E8F0FE;\n",
              "      border: none;\n",
              "      border-radius: 50%;\n",
              "      cursor: pointer;\n",
              "      display: none;\n",
              "      fill: #1967D2;\n",
              "      height: 32px;\n",
              "      padding: 0 0 0 0;\n",
              "      width: 32px;\n",
              "    }\n",
              "\n",
              "    .colab-df-convert:hover {\n",
              "      background-color: #E2EBFA;\n",
              "      box-shadow: 0px 1px 2px rgba(60, 64, 67, 0.3), 0px 1px 3px 1px rgba(60, 64, 67, 0.15);\n",
              "      fill: #174EA6;\n",
              "    }\n",
              "\n",
              "    [theme=dark] .colab-df-convert {\n",
              "      background-color: #3B4455;\n",
              "      fill: #D2E3FC;\n",
              "    }\n",
              "\n",
              "    [theme=dark] .colab-df-convert:hover {\n",
              "      background-color: #434B5C;\n",
              "      box-shadow: 0px 1px 3px 1px rgba(0, 0, 0, 0.15);\n",
              "      filter: drop-shadow(0px 1px 2px rgba(0, 0, 0, 0.3));\n",
              "      fill: #FFFFFF;\n",
              "    }\n",
              "  </style>\n",
              "\n",
              "      <script>\n",
              "        const buttonEl =\n",
              "          document.querySelector('#df-33c58539-6829-4777-96fd-7824c37179d2 button.colab-df-convert');\n",
              "        buttonEl.style.display =\n",
              "          google.colab.kernel.accessAllowed ? 'block' : 'none';\n",
              "\n",
              "        async function convertToInteractive(key) {\n",
              "          const element = document.querySelector('#df-33c58539-6829-4777-96fd-7824c37179d2');\n",
              "          const dataTable =\n",
              "            await google.colab.kernel.invokeFunction('convertToInteractive',\n",
              "                                                     [key], {});\n",
              "          if (!dataTable) return;\n",
              "\n",
              "          const docLinkHtml = 'Like what you see? Visit the ' +\n",
              "            '<a target=\"_blank\" href=https://colab.research.google.com/notebooks/data_table.ipynb>data table notebook</a>'\n",
              "            + ' to learn more about interactive tables.';\n",
              "          element.innerHTML = '';\n",
              "          dataTable['output_type'] = 'display_data';\n",
              "          await google.colab.output.renderOutput(dataTable, element);\n",
              "          const docLink = document.createElement('div');\n",
              "          docLink.innerHTML = docLinkHtml;\n",
              "          element.appendChild(docLink);\n",
              "        }\n",
              "      </script>\n",
              "    </div>\n",
              "  </div>\n",
              "  "
            ],
            "text/plain": [
              "          Date    NetWin\n",
              "0   2021-10-12  0.449802\n",
              "1   2021-10-13  0.182309\n",
              "2   2021-10-14 -0.021058\n",
              "3   2021-10-15 -0.012736\n",
              "4   2021-10-16  0.138802\n",
              "..         ...       ...\n",
              "57  2021-12-15 -0.024080\n",
              "58  2021-12-16  0.068854\n",
              "59  2021-12-17  0.121541\n",
              "60  2021-12-18  0.042535\n",
              "61  2021-12-19  0.268567\n",
              "\n",
              "[62 rows x 2 columns]"
            ]
          },
          "metadata": {},
          "execution_count": 153
        }
      ]
    },
    {
      "cell_type": "code",
      "source": [
        "df_netWin.loc[df_netWin['Date']==\"2021-12-19\"]"
      ],
      "metadata": {
        "colab": {
          "base_uri": "https://localhost:8080/",
          "height": 143
        },
        "id": "Q-h_EpiBTtm5",
        "outputId": "aebdef1c-e758-4dfb-da00-43d2fc4b9e1b"
      },
      "execution_count": null,
      "outputs": [
        {
          "output_type": "execute_result",
          "data": {
            "text/html": [
              "\n",
              "  <div id=\"df-a75e1570-185e-4d39-ac8e-c4f0f4a334ed\">\n",
              "    <div class=\"colab-df-container\">\n",
              "      <div>\n",
              "<style scoped>\n",
              "    .dataframe tbody tr th:only-of-type {\n",
              "        vertical-align: middle;\n",
              "    }\n",
              "\n",
              "    .dataframe tbody tr th {\n",
              "        vertical-align: top;\n",
              "    }\n",
              "\n",
              "    .dataframe thead th {\n",
              "        text-align: right;\n",
              "    }\n",
              "</style>\n",
              "<table border=\"1\" class=\"dataframe\">\n",
              "  <thead>\n",
              "    <tr style=\"text-align: right;\">\n",
              "      <th></th>\n",
              "      <th>Date</th>\n",
              "      <th>Team</th>\n",
              "      <th>Line</th>\n",
              "      <th>Win</th>\n",
              "      <th>ImpliedPct</th>\n",
              "      <th>winPct_line</th>\n",
              "      <th>GainRatio</th>\n",
              "      <th>NormBet</th>\n",
              "      <th>NetWin</th>\n",
              "    </tr>\n",
              "  </thead>\n",
              "  <tbody>\n",
              "    <tr>\n",
              "      <th>879</th>\n",
              "      <td>2021-12-19</td>\n",
              "      <td>STL</td>\n",
              "      <td>120</td>\n",
              "      <td>False</td>\n",
              "      <td>0.454545</td>\n",
              "      <td>0.460526</td>\n",
              "      <td>1.20</td>\n",
              "      <td>0.010965</td>\n",
              "      <td>-0.010965</td>\n",
              "    </tr>\n",
              "    <tr>\n",
              "      <th>880</th>\n",
              "      <td>2021-12-19</td>\n",
              "      <td>LAK</td>\n",
              "      <td>205</td>\n",
              "      <td>True</td>\n",
              "      <td>0.327869</td>\n",
              "      <td>0.429490</td>\n",
              "      <td>2.05</td>\n",
              "      <td>0.151192</td>\n",
              "      <td>0.309943</td>\n",
              "    </tr>\n",
              "    <tr>\n",
              "      <th>881</th>\n",
              "      <td>2021-12-19</td>\n",
              "      <td>NJD</td>\n",
              "      <td>180</td>\n",
              "      <td>False</td>\n",
              "      <td>0.357143</td>\n",
              "      <td>0.376692</td>\n",
              "      <td>1.80</td>\n",
              "      <td>0.030411</td>\n",
              "      <td>-0.030411</td>\n",
              "    </tr>\n",
              "  </tbody>\n",
              "</table>\n",
              "</div>\n",
              "      <button class=\"colab-df-convert\" onclick=\"convertToInteractive('df-a75e1570-185e-4d39-ac8e-c4f0f4a334ed')\"\n",
              "              title=\"Convert this dataframe to an interactive table.\"\n",
              "              style=\"display:none;\">\n",
              "        \n",
              "  <svg xmlns=\"http://www.w3.org/2000/svg\" height=\"24px\"viewBox=\"0 0 24 24\"\n",
              "       width=\"24px\">\n",
              "    <path d=\"M0 0h24v24H0V0z\" fill=\"none\"/>\n",
              "    <path d=\"M18.56 5.44l.94 2.06.94-2.06 2.06-.94-2.06-.94-.94-2.06-.94 2.06-2.06.94zm-11 1L8.5 8.5l.94-2.06 2.06-.94-2.06-.94L8.5 2.5l-.94 2.06-2.06.94zm10 10l.94 2.06.94-2.06 2.06-.94-2.06-.94-.94-2.06-.94 2.06-2.06.94z\"/><path d=\"M17.41 7.96l-1.37-1.37c-.4-.4-.92-.59-1.43-.59-.52 0-1.04.2-1.43.59L10.3 9.45l-7.72 7.72c-.78.78-.78 2.05 0 2.83L4 21.41c.39.39.9.59 1.41.59.51 0 1.02-.2 1.41-.59l7.78-7.78 2.81-2.81c.8-.78.8-2.07 0-2.86zM5.41 20L4 18.59l7.72-7.72 1.47 1.35L5.41 20z\"/>\n",
              "  </svg>\n",
              "      </button>\n",
              "      \n",
              "  <style>\n",
              "    .colab-df-container {\n",
              "      display:flex;\n",
              "      flex-wrap:wrap;\n",
              "      gap: 12px;\n",
              "    }\n",
              "\n",
              "    .colab-df-convert {\n",
              "      background-color: #E8F0FE;\n",
              "      border: none;\n",
              "      border-radius: 50%;\n",
              "      cursor: pointer;\n",
              "      display: none;\n",
              "      fill: #1967D2;\n",
              "      height: 32px;\n",
              "      padding: 0 0 0 0;\n",
              "      width: 32px;\n",
              "    }\n",
              "\n",
              "    .colab-df-convert:hover {\n",
              "      background-color: #E2EBFA;\n",
              "      box-shadow: 0px 1px 2px rgba(60, 64, 67, 0.3), 0px 1px 3px 1px rgba(60, 64, 67, 0.15);\n",
              "      fill: #174EA6;\n",
              "    }\n",
              "\n",
              "    [theme=dark] .colab-df-convert {\n",
              "      background-color: #3B4455;\n",
              "      fill: #D2E3FC;\n",
              "    }\n",
              "\n",
              "    [theme=dark] .colab-df-convert:hover {\n",
              "      background-color: #434B5C;\n",
              "      box-shadow: 0px 1px 3px 1px rgba(0, 0, 0, 0.15);\n",
              "      filter: drop-shadow(0px 1px 2px rgba(0, 0, 0, 0.3));\n",
              "      fill: #FFFFFF;\n",
              "    }\n",
              "  </style>\n",
              "\n",
              "      <script>\n",
              "        const buttonEl =\n",
              "          document.querySelector('#df-a75e1570-185e-4d39-ac8e-c4f0f4a334ed button.colab-df-convert');\n",
              "        buttonEl.style.display =\n",
              "          google.colab.kernel.accessAllowed ? 'block' : 'none';\n",
              "\n",
              "        async function convertToInteractive(key) {\n",
              "          const element = document.querySelector('#df-a75e1570-185e-4d39-ac8e-c4f0f4a334ed');\n",
              "          const dataTable =\n",
              "            await google.colab.kernel.invokeFunction('convertToInteractive',\n",
              "                                                     [key], {});\n",
              "          if (!dataTable) return;\n",
              "\n",
              "          const docLinkHtml = 'Like what you see? Visit the ' +\n",
              "            '<a target=\"_blank\" href=https://colab.research.google.com/notebooks/data_table.ipynb>data table notebook</a>'\n",
              "            + ' to learn more about interactive tables.';\n",
              "          element.innerHTML = '';\n",
              "          dataTable['output_type'] = 'display_data';\n",
              "          await google.colab.output.renderOutput(dataTable, element);\n",
              "          const docLink = document.createElement('div');\n",
              "          docLink.innerHTML = docLinkHtml;\n",
              "          element.appendChild(docLink);\n",
              "        }\n",
              "      </script>\n",
              "    </div>\n",
              "  </div>\n",
              "  "
            ],
            "text/plain": [
              "           Date Team  Line    Win  ...  winPct_line  GainRatio   NormBet    NetWin\n",
              "879  2021-12-19  STL   120  False  ...     0.460526       1.20  0.010965 -0.010965\n",
              "880  2021-12-19  LAK   205   True  ...     0.429490       2.05  0.151192  0.309943\n",
              "881  2021-12-19  NJD   180  False  ...     0.376692       1.80  0.030411 -0.030411\n",
              "\n",
              "[3 rows x 9 columns]"
            ]
          },
          "metadata": {},
          "execution_count": 154
        }
      ]
    },
    {
      "cell_type": "code",
      "source": [
        "df_netWin[['Team','NetWin']].groupby('Team').sum().sort_values(by='NetWin')"
      ],
      "metadata": {
        "colab": {
          "base_uri": "https://localhost:8080/",
          "height": 1000
        },
        "id": "LAANPw-47-y5",
        "outputId": "bb5c3142-7e23-4990-de58-b708cce5541b"
      },
      "execution_count": null,
      "outputs": [
        {
          "output_type": "execute_result",
          "data": {
            "text/html": [
              "\n",
              "  <div id=\"df-63adc937-de3b-45c7-9db3-0e3922badb62\">\n",
              "    <div class=\"colab-df-container\">\n",
              "      <div>\n",
              "<style scoped>\n",
              "    .dataframe tbody tr th:only-of-type {\n",
              "        vertical-align: middle;\n",
              "    }\n",
              "\n",
              "    .dataframe tbody tr th {\n",
              "        vertical-align: top;\n",
              "    }\n",
              "\n",
              "    .dataframe thead th {\n",
              "        text-align: right;\n",
              "    }\n",
              "</style>\n",
              "<table border=\"1\" class=\"dataframe\">\n",
              "  <thead>\n",
              "    <tr style=\"text-align: right;\">\n",
              "      <th></th>\n",
              "      <th>NetWin</th>\n",
              "    </tr>\n",
              "    <tr>\n",
              "      <th>Team</th>\n",
              "      <th></th>\n",
              "    </tr>\n",
              "  </thead>\n",
              "  <tbody>\n",
              "    <tr>\n",
              "      <th>BOS</th>\n",
              "      <td>-0.308696</td>\n",
              "    </tr>\n",
              "    <tr>\n",
              "      <th>NYI</th>\n",
              "      <td>-0.274568</td>\n",
              "    </tr>\n",
              "    <tr>\n",
              "      <th>ARI</th>\n",
              "      <td>-0.267289</td>\n",
              "    </tr>\n",
              "    <tr>\n",
              "      <th>FLA</th>\n",
              "      <td>-0.255144</td>\n",
              "    </tr>\n",
              "    <tr>\n",
              "      <th>MTL</th>\n",
              "      <td>-0.162210</td>\n",
              "    </tr>\n",
              "    <tr>\n",
              "      <th>TBL</th>\n",
              "      <td>-0.112583</td>\n",
              "    </tr>\n",
              "    <tr>\n",
              "      <th>COL</th>\n",
              "      <td>-0.112260</td>\n",
              "    </tr>\n",
              "    <tr>\n",
              "      <th>VAN</th>\n",
              "      <td>-0.107854</td>\n",
              "    </tr>\n",
              "    <tr>\n",
              "      <th>WPG</th>\n",
              "      <td>-0.105197</td>\n",
              "    </tr>\n",
              "    <tr>\n",
              "      <th>CGY</th>\n",
              "      <td>-0.077680</td>\n",
              "    </tr>\n",
              "    <tr>\n",
              "      <th>TOR</th>\n",
              "      <td>-0.075524</td>\n",
              "    </tr>\n",
              "    <tr>\n",
              "      <th>NJD</th>\n",
              "      <td>-0.061637</td>\n",
              "    </tr>\n",
              "    <tr>\n",
              "      <th>CBJ</th>\n",
              "      <td>-0.047848</td>\n",
              "    </tr>\n",
              "    <tr>\n",
              "      <th>CHI</th>\n",
              "      <td>-0.040241</td>\n",
              "    </tr>\n",
              "    <tr>\n",
              "      <th>MIN</th>\n",
              "      <td>-0.022115</td>\n",
              "    </tr>\n",
              "    <tr>\n",
              "      <th>DET</th>\n",
              "      <td>-0.008643</td>\n",
              "    </tr>\n",
              "    <tr>\n",
              "      <th>BUF</th>\n",
              "      <td>-0.004445</td>\n",
              "    </tr>\n",
              "    <tr>\n",
              "      <th>DAL</th>\n",
              "      <td>0.034276</td>\n",
              "    </tr>\n",
              "    <tr>\n",
              "      <th>ANA</th>\n",
              "      <td>0.040727</td>\n",
              "    </tr>\n",
              "    <tr>\n",
              "      <th>EDM</th>\n",
              "      <td>0.041596</td>\n",
              "    </tr>\n",
              "    <tr>\n",
              "      <th>NYR</th>\n",
              "      <td>0.047892</td>\n",
              "    </tr>\n",
              "    <tr>\n",
              "      <th>VGK</th>\n",
              "      <td>0.087864</td>\n",
              "    </tr>\n",
              "    <tr>\n",
              "      <th>PHI</th>\n",
              "      <td>0.096286</td>\n",
              "    </tr>\n",
              "    <tr>\n",
              "      <th>CAR</th>\n",
              "      <td>0.104863</td>\n",
              "    </tr>\n",
              "    <tr>\n",
              "      <th>STL</th>\n",
              "      <td>0.158155</td>\n",
              "    </tr>\n",
              "    <tr>\n",
              "      <th>WSH</th>\n",
              "      <td>0.177670</td>\n",
              "    </tr>\n",
              "    <tr>\n",
              "      <th>LAK</th>\n",
              "      <td>0.407795</td>\n",
              "    </tr>\n",
              "    <tr>\n",
              "      <th>OTT</th>\n",
              "      <td>0.428346</td>\n",
              "    </tr>\n",
              "    <tr>\n",
              "      <th>NSH</th>\n",
              "      <td>0.534287</td>\n",
              "    </tr>\n",
              "    <tr>\n",
              "      <th>SJS</th>\n",
              "      <td>0.553486</td>\n",
              "    </tr>\n",
              "    <tr>\n",
              "      <th>PIT</th>\n",
              "      <td>0.771894</td>\n",
              "    </tr>\n",
              "  </tbody>\n",
              "</table>\n",
              "</div>\n",
              "      <button class=\"colab-df-convert\" onclick=\"convertToInteractive('df-63adc937-de3b-45c7-9db3-0e3922badb62')\"\n",
              "              title=\"Convert this dataframe to an interactive table.\"\n",
              "              style=\"display:none;\">\n",
              "        \n",
              "  <svg xmlns=\"http://www.w3.org/2000/svg\" height=\"24px\"viewBox=\"0 0 24 24\"\n",
              "       width=\"24px\">\n",
              "    <path d=\"M0 0h24v24H0V0z\" fill=\"none\"/>\n",
              "    <path d=\"M18.56 5.44l.94 2.06.94-2.06 2.06-.94-2.06-.94-.94-2.06-.94 2.06-2.06.94zm-11 1L8.5 8.5l.94-2.06 2.06-.94-2.06-.94L8.5 2.5l-.94 2.06-2.06.94zm10 10l.94 2.06.94-2.06 2.06-.94-2.06-.94-.94-2.06-.94 2.06-2.06.94z\"/><path d=\"M17.41 7.96l-1.37-1.37c-.4-.4-.92-.59-1.43-.59-.52 0-1.04.2-1.43.59L10.3 9.45l-7.72 7.72c-.78.78-.78 2.05 0 2.83L4 21.41c.39.39.9.59 1.41.59.51 0 1.02-.2 1.41-.59l7.78-7.78 2.81-2.81c.8-.78.8-2.07 0-2.86zM5.41 20L4 18.59l7.72-7.72 1.47 1.35L5.41 20z\"/>\n",
              "  </svg>\n",
              "      </button>\n",
              "      \n",
              "  <style>\n",
              "    .colab-df-container {\n",
              "      display:flex;\n",
              "      flex-wrap:wrap;\n",
              "      gap: 12px;\n",
              "    }\n",
              "\n",
              "    .colab-df-convert {\n",
              "      background-color: #E8F0FE;\n",
              "      border: none;\n",
              "      border-radius: 50%;\n",
              "      cursor: pointer;\n",
              "      display: none;\n",
              "      fill: #1967D2;\n",
              "      height: 32px;\n",
              "      padding: 0 0 0 0;\n",
              "      width: 32px;\n",
              "    }\n",
              "\n",
              "    .colab-df-convert:hover {\n",
              "      background-color: #E2EBFA;\n",
              "      box-shadow: 0px 1px 2px rgba(60, 64, 67, 0.3), 0px 1px 3px 1px rgba(60, 64, 67, 0.15);\n",
              "      fill: #174EA6;\n",
              "    }\n",
              "\n",
              "    [theme=dark] .colab-df-convert {\n",
              "      background-color: #3B4455;\n",
              "      fill: #D2E3FC;\n",
              "    }\n",
              "\n",
              "    [theme=dark] .colab-df-convert:hover {\n",
              "      background-color: #434B5C;\n",
              "      box-shadow: 0px 1px 3px 1px rgba(0, 0, 0, 0.15);\n",
              "      filter: drop-shadow(0px 1px 2px rgba(0, 0, 0, 0.3));\n",
              "      fill: #FFFFFF;\n",
              "    }\n",
              "  </style>\n",
              "\n",
              "      <script>\n",
              "        const buttonEl =\n",
              "          document.querySelector('#df-63adc937-de3b-45c7-9db3-0e3922badb62 button.colab-df-convert');\n",
              "        buttonEl.style.display =\n",
              "          google.colab.kernel.accessAllowed ? 'block' : 'none';\n",
              "\n",
              "        async function convertToInteractive(key) {\n",
              "          const element = document.querySelector('#df-63adc937-de3b-45c7-9db3-0e3922badb62');\n",
              "          const dataTable =\n",
              "            await google.colab.kernel.invokeFunction('convertToInteractive',\n",
              "                                                     [key], {});\n",
              "          if (!dataTable) return;\n",
              "\n",
              "          const docLinkHtml = 'Like what you see? Visit the ' +\n",
              "            '<a target=\"_blank\" href=https://colab.research.google.com/notebooks/data_table.ipynb>data table notebook</a>'\n",
              "            + ' to learn more about interactive tables.';\n",
              "          element.innerHTML = '';\n",
              "          dataTable['output_type'] = 'display_data';\n",
              "          await google.colab.output.renderOutput(dataTable, element);\n",
              "          const docLink = document.createElement('div');\n",
              "          docLink.innerHTML = docLinkHtml;\n",
              "          element.appendChild(docLink);\n",
              "        }\n",
              "      </script>\n",
              "    </div>\n",
              "  </div>\n",
              "  "
            ],
            "text/plain": [
              "        NetWin\n",
              "Team          \n",
              "BOS  -0.308696\n",
              "NYI  -0.274568\n",
              "ARI  -0.267289\n",
              "FLA  -0.255144\n",
              "MTL  -0.162210\n",
              "TBL  -0.112583\n",
              "COL  -0.112260\n",
              "VAN  -0.107854\n",
              "WPG  -0.105197\n",
              "CGY  -0.077680\n",
              "TOR  -0.075524\n",
              "NJD  -0.061637\n",
              "CBJ  -0.047848\n",
              "CHI  -0.040241\n",
              "MIN  -0.022115\n",
              "DET  -0.008643\n",
              "BUF  -0.004445\n",
              "DAL   0.034276\n",
              "ANA   0.040727\n",
              "EDM   0.041596\n",
              "NYR   0.047892\n",
              "VGK   0.087864\n",
              "PHI   0.096286\n",
              "CAR   0.104863\n",
              "STL   0.158155\n",
              "WSH   0.177670\n",
              "LAK   0.407795\n",
              "OTT   0.428346\n",
              "NSH   0.534287\n",
              "SJS   0.553486\n",
              "PIT   0.771894"
            ]
          },
          "metadata": {},
          "execution_count": 111
        }
      ]
    }
  ]
}